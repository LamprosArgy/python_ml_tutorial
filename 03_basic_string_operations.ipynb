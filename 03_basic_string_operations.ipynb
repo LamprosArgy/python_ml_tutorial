{
 "cells": [
  {
   "cell_type": "markdown",
   "metadata": {},
   "source": [
    "# Strings\n",
    "\n",
    "> In computer science a string is traditionally a sequence of characters and numbers. A string is essentially an array of characters.\n",
    "\n",
    "Strings are a really important especially for communicating between the user and the program.\n",
    "\n",
    "You can think of a string as a sentence that is **enclosed in quotes** (either 'single quotes' or \"double quotes\")."
   ]
  },
  {
   "cell_type": "code",
   "execution_count": 1,
   "metadata": {},
   "outputs": [],
   "source": [
    "from __future__ import print_function"
   ]
  },
  {
   "cell_type": "markdown",
   "metadata": {},
   "source": [
    "Let's first create two strings."
   ]
  },
  {
   "cell_type": "code",
   "execution_count": 2,
   "metadata": {},
   "outputs": [],
   "source": [
    "st1 = 'I am a string'\n",
    "st2 = \"me too!\""
   ]
  },
  {
   "cell_type": "markdown",
   "metadata": {},
   "source": [
    "## Referencing and slicing\n",
    "\n",
    "We said before that a string is essentially an **array of characters**. So, how can we retrieve a single character from our string?  \n",
    "```python\n",
    "str[i]\n",
    "```\n",
    "This returns the *i-th* character in the string `str` (count starts from 0).\n",
    "\n",
    "**Slicing** is when we want to retrieve a substring from our initial string.\n",
    "```python\n",
    "str[i:j:k]\n",
    "```\n",
    "This returns a substring of string `str` that starts from the character with index *i*, ends with the character with index *k-1* and returns one character every *k* ones.\n",
    "- ***i***: **starting point**\n",
    "- ***j***: **ending point**\n",
    "- ***k***: **step**\n",
    "\n",
    "Negative indices start count from the end of the string. \n",
    "\n",
    "Let's look at some examples:"
   ]
  },
  {
   "cell_type": "code",
   "execution_count": 3,
   "metadata": {},
   "outputs": [
    {
     "name": "stdout",
     "output_type": "stream",
     "text": [
      "Whole string:  I am a string\n",
      "st1[3]:        m\n",
      "st1[-1]:       g\n",
      "st1[4]:        I am\n",
      "st1[-3:]:      ing\n",
      "st1[2:6]:      am a\n",
      "st1[3:10:2]:   masr\n"
     ]
    }
   ],
   "source": [
    "print('Whole string: ', st1)\n",
    "print('st1[3]:       ', st1[3])\n",
    "# In python the first element in a set (string, list, tuple dictionary, array, etc) has an index of 0!\n",
    "# so by calling index number 3 we are referring to the 4th character (in this case letter 'm')\n",
    "print('st1[-1]:      ', st1[-1]) # Returns the last character: 'g'\n",
    "print('st1[4]:       ', st1[:4]) # Returns the first 4 characters: 'I am'\n",
    "print('st1[-3:]:     ', st1[-3:]) # Returns the last 3 characters: 'ing'\n",
    "print('st1[2:6]:     ', st1[2:6]) # Returns the characters with indices 2-5 (doesn't return index 6!): 'am a'\n",
    "print('st1[3:10:2]:  ', st1[3:10:2]) # Returns characters with indices from 2 to 8 with a step of 2 (indices: 2,4,6,8): 'masr'"
   ]
  },
  {
   "cell_type": "markdown",
   "metadata": {},
   "source": [
    "## Helpful built-in string functions\n",
    "\n",
    "These are either universal python functions that can take a string as a parameter (e.g *len*), or built-in methods of string type objects (e.g *string.index*)"
   ]
  },
  {
   "cell_type": "code",
   "execution_count": 4,
   "metadata": {},
   "outputs": [
    {
     "name": "stdout",
     "output_type": "stream",
     "text": [
      "st1:              I am a string\n",
      "len(st1):         13\n",
      "st1.index('a'):   2\n",
      "st1.count('a'):   2\n",
      "st1.count('i'):   1\n",
      "st3:              sasasas\n",
      "st1.count('sas'): 2\n"
     ]
    }
   ],
   "source": [
    "print('st1:             ', st1)\n",
    "print('len(st1):        ', len(st1))\n",
    "# returns the length of the string: 13\n",
    "print(\"st1.index('a'):  \", st1.index('a'))\n",
    "# returns the index of the first matching argument passed (in this case 'a'): 2\n",
    "print(\"st1.count('a'):  \", st1.count('a'))\n",
    "# returns how many times 'a' appears in the string: 2\n",
    "print(\"st1.count('i'):  \", st1.count('i'))\n",
    "# strings are case sensitive: 1\n",
    "st3 = 'sasasas'\n",
    "# we'll create a new string to show this better\n",
    "print(\"st3:             \", st3)\n",
    "print(\"st1.count('sas'):\", st3.count('sas'))\n",
    "# counts only discrete appearances: 2 (even though 'sas' appears 3 times it returns 2 because the first 's' from the second 'sas' is the same as the last 's' of the first 'sas')"
   ]
  },
  {
   "cell_type": "markdown",
   "metadata": {},
   "source": [
    "## Logical operations\n",
    "These help us figure out if a string contains a certain character or substring."
   ]
  },
  {
   "cell_type": "code",
   "execution_count": 5,
   "metadata": {},
   "outputs": [
    {
     "name": "stdout",
     "output_type": "stream",
     "text": [
      "st1:             I am a string\n",
      "'a' in st1:      True\n",
      "'o' in st1:      False\n",
      "'o' not in st1:  True\n"
     ]
    }
   ],
   "source": [
    "print('st1:            ', st1)\n",
    "print(\"'a' in st1:     \", 'a' in st1)\n",
    "# Returns True (because there is an 'a' in st1)\n",
    "print(\"'o' in st1:     \", 'o' in st1)\n",
    "# Returns False (because there isn't an 'o' in st1)\n",
    "print(\"'o' not in st1: \", 'o' not in st1)\n",
    "# Returns the opposite of the previous"
   ]
  },
  {
   "cell_type": "markdown",
   "metadata": {},
   "source": [
    "## String operations\n",
    "Concatenating and repeating strings is done easily in python."
   ]
  },
  {
   "cell_type": "code",
   "execution_count": 6,
   "metadata": {},
   "outputs": [
    {
     "name": "stdout",
     "output_type": "stream",
     "text": [
      "st1:        I am a string\n",
      "st2:        me too!\n",
      "st1 + st2:  I am a stringme too!\n",
      "st2 * 3:    me too!me too!me too!\n"
     ]
    }
   ],
   "source": [
    "print('st1:       ', st1)\n",
    "print('st2:       ', st2)\n",
    "print('st1 + st2: ', st1 + st2) # concatenation of st1 and st2\n",
    "print(\"st2 * 3:   \", st2 * 3) # equivalent to adding st2 to itself 3 times"
   ]
  },
  {
   "cell_type": "markdown",
   "metadata": {},
   "source": [
    "## Capitalization\n",
    "Python strings also have a lot of built in functions for manipulating the capitalization in strings. These are mostly used for user inputs. \n",
    "\n",
    "For example, say you want to ask a user his name. He could reply: `John`, `john` or `JOHN`. All three of these are the same for a human, but totally different for the computer. Capitalization methods help us with these cases."
   ]
  },
  {
   "cell_type": "code",
   "execution_count": 7,
   "metadata": {},
   "outputs": [
    {
     "name": "stdout",
     "output_type": "stream",
     "text": [
      "st4:               rAnDoMLy CAPitaLiZed StrInG\n",
      "st4.capitalize():  Randomly capitalized string\n",
      "st4.lower():       randomly capitalized string\n",
      "st4.upper():       RANDOMLY CAPITALIZED STRING\n",
      "st4.swapcase():    RaNdOmlY capITAlIzED sTRiNg\n",
      "st4.title():       Randomly Capitalized String\n"
     ]
    }
   ],
   "source": [
    "st4 = 'rAnDoMLy CAPitaLiZed StrInG'\n",
    "print('st4:              ', st4)\n",
    "print(\"st4.capitalize(): \", st4.capitalize())\n",
    "# returns string with first letter capitalized and rest lowercase\n",
    "print(\"st4.lower():      \", st4.lower())\n",
    "# all lowercase\n",
    "print(\"st4.upper():      \", st4.upper())\n",
    "# all uppercase\n",
    "print(\"st4.swapcase():   \", st4.swapcase())\n",
    "# swaps upper for lowercase and vice versa\n",
    "print(\"st4.title():      \", st4.title())\n",
    "# capitalizes the first letter of each word"
   ]
  },
  {
   "cell_type": "markdown",
   "metadata": {},
   "source": [
    "## Whitespace manipulation\n",
    "`str.strip` can help us deal with a lot of issues with whitespace (or even excess characters)."
   ]
  },
  {
   "cell_type": "code",
   "execution_count": 8,
   "metadata": {},
   "outputs": [
    {
     "name": "stdout",
     "output_type": "stream",
     "text": [
      "st5:                            lots       of whitespace    \n",
      "st5.lstrip():                lots       of whitespace    \n",
      "st5.lstrip(' stlow'):        f whitespace    \n",
      "st5.rstrip():                   lots       of whitespace\n",
      "st5.strip():                 lots       of whitespace\n"
     ]
    }
   ],
   "source": [
    "st5 = '   lots       of whitespace    '\n",
    "print('st5:                        ', st5)\n",
    "print(\"st5.lstrip():               \", st5.lstrip())\n",
    "# removes leading whitespace\n",
    "print(\"st5.lstrip(' stlow'):       \", st5.lstrip(' stlow'))\n",
    "# Removes leading characters (in this case it removed all the whitespace, 'lots' and\n",
    "# the 'o' from of, but didn't remove the 'w' from 'whitepace' (because of the 'f')\n",
    "print(\"st5.rstrip():               \", st5.rstrip())\n",
    "# same as lstrip but strips from the right\n",
    "print(\"st5.strip():                \", st5.strip())\n",
    "# removes both from the left and from the right"
   ]
  },
  {
   "cell_type": "markdown",
   "metadata": {},
   "source": [
    "## Split and Join\n",
    "Split is used for splitting a string into a list of substrings according to a delimiter. Join helps us merging a list of characters into a single string."
   ]
  },
  {
   "cell_type": "code",
   "execution_count": 9,
   "metadata": {},
   "outputs": [
    {
     "name": "stdout",
     "output_type": "stream",
     "text": [
      "st1:               I am a string\n",
      "st1.split():       ['I', 'am', 'a', 'string']\n",
      "st1.split('a'):    ['I ', 'm ', ' string']\n",
      "st1.split('a', 1): ['I ', 'm a string']\n",
      "''.join(spl):     Iamastring\n",
      "'-'.join(spl):     I-am-a-string\n"
     ]
    }
   ],
   "source": [
    "print('st1:              ', st1)\n",
    "spl = st1.split()\n",
    "print('st1.split():      ', spl)\n",
    "# Splits string into a list of substrings (default delimiter: space)\n",
    "print(\"st1.split('a'):   \", st1.split('a'))\n",
    "# Split with delimiter 'a' (spacing is preserved)\n",
    "print(\"st1.split('a', 1):\", st1.split('a', 1))\n",
    "# Split with delimiter 'a'. Performs only 1 split\n",
    "print(\"''.join(spl):    \", ''.join(spl))\n",
    "# Joins sequence of strings as a string\n",
    "print(\"'-'.join(spl):    \", '-'.join(spl))\n",
    "# Joins sequence of strings with '-' as delimiter"
   ]
  },
  {
   "cell_type": "markdown",
   "metadata": {},
   "source": [
    "## Replace\n",
    "Python also has a built-in method for finding a substring in a string and replacing it with another one. This is also useful for removing a part of a string completely:"
   ]
  },
  {
   "cell_type": "code",
   "execution_count": 10,
   "metadata": {},
   "outputs": [
    {
     "name": "stdout",
     "output_type": "stream",
     "text": [
      "Before replace:  me too!\n",
      "After replace:   me three!\n",
      "replace 'zz':  random string\n",
      "remove whitespace from previous example: lotsofwhitespace\n",
      "remove whitespace from previous example:   lots    of whitespace  \n"
     ]
    }
   ],
   "source": [
    "print(\"Before replace: \", st2)\n",
    "print('After replace:  ', st2.replace('too','three'))\n",
    "# replaces 'too' with 'three' in st2\n",
    "print(\"replace 'zz': \", 'razzndzzom stzzrizzng'.replace('zz', ''))\n",
    "# removes 'zz' from the string\n",
    "print('remove whitespace from previous example:', st5.replace(' ', ''))\n",
    "# removes all whitespace from the string\n",
    "print('remove whitespace from previous example:', st5.replace('  ', ' '))\n",
    "# replaces double spaces with single ones"
   ]
  },
  {
   "cell_type": "markdown",
   "metadata": {},
   "source": [
    "## Formatting\n",
    "\n",
    "The best way of incorporating values from variables to strings is through formatting. This is especially useful for printing data on the screen. Formatting is typically done with the built-in `string.format()` method.\n",
    "This method takes a string and replaces occurrences of curly brackets (`{}`) with whatever parameter we pass into it."
   ]
  },
  {
   "cell_type": "code",
   "execution_count": 11,
   "metadata": {},
   "outputs": [
    {
     "name": "stdout",
     "output_type": "stream",
     "text": [
      "bla bla {} bla\n",
      "bla bla 55 bla\n"
     ]
    }
   ],
   "source": [
    "ct = 55\n",
    "print('bla bla {} bla')\n",
    "print('bla bla {} bla'.format(ct))"
   ]
  },
  {
   "cell_type": "markdown",
   "metadata": {},
   "source": [
    "There are a lot of formatting options, we wont go into much detail about formatting in this tutorial, but we will revisit the topic in the future.\n",
    "\n",
    "There is also an older way of using formatting strings with the percent (`%`) sign. This does **not** utilize the `string.format()` method."
   ]
  },
  {
   "cell_type": "code",
   "execution_count": 12,
   "metadata": {},
   "outputs": [
    {
     "name": "stdout",
     "output_type": "stream",
     "text": [
      "The first string I used in this tutorial was: I am a string, and the second one was: me too!\n",
      "bla bla 5 bla 10.00\n",
      "Python has 002 quote types.\n",
      "15 is an integer, 1.660000 is a float, asdf is a string.\n"
     ]
    }
   ],
   "source": [
    "ts = 'The first string I used in this tutorial was: %s, and the second one was: %s' %(st1,st2)\n",
    "print(ts)\n",
    "n1, n2 = 5, 10\n",
    "print('bla bla %i bla %.2f' %(n1,n2))\n",
    "print('%(language)s has %(number)03d quote types.' %{\"language\": \"Python\", \"number\": 2})\n",
    "print('%i is an integer, %f is a float, %s is a string.' %(15, 1.66, 'asdf'))"
   ]
  },
  {
   "cell_type": "markdown",
   "metadata": {},
   "source": [
    "## Example\n",
    "\n",
    "We want to write a program that splits a string according to commas (,) and full stops (.) but preserves full stops. Spacing after commas and full stops should also be removed."
   ]
  },
  {
   "cell_type": "code",
   "execution_count": 13,
   "metadata": {},
   "outputs": [
    {
     "name": "stdout",
     "output_type": "stream",
     "text": [
      "This is the string that we will use to test our example. The expected output of the program should contain every word this string has, but it should be split according to punctuation. Full stops should be preserved, but commas should not. Spacing after punctuation, should also be removed.\n"
     ]
    }
   ],
   "source": [
    "ex_str = 'This is the string that we will use to test our example. ' \\\n",
    "            'The expected output of the program should contain every word ' \\\n",
    "            'this string has, but it should be split according to punctuation. ' \\\n",
    "            'Full stops should be preserved, but commas should not. ' \\\n",
    "            'Spacing after punctuation, should also be removed.'\n",
    "print(ex_str)"
   ]
  },
  {
   "cell_type": "markdown",
   "metadata": {},
   "source": [
    "Let's do the easy part first. Let's split the string according to commas:"
   ]
  },
  {
   "cell_type": "code",
   "execution_count": 14,
   "metadata": {},
   "outputs": [
    {
     "name": "stdout",
     "output_type": "stream",
     "text": [
      "['This is the string that we will use to test our example. The expected output of the program should contain every word this string has', ' but it should be split according to punctuation. Full stops should be preserved', ' but commas should not. Spacing after punctuation', ' should also be removed.']\n"
     ]
    }
   ],
   "source": [
    "temp = ex_str.split(',')\n",
    "print(temp)"
   ]
  },
  {
   "cell_type": "markdown",
   "metadata": {},
   "source": [
    "We did manage to split the string, but we haven't yet removed the excess spacing in the beginning of our substrings.  \n",
    "One thought would be to remove the first character from each of these strings, but that would also remove the fist character from the first string (This ...). If we wanted to do it this way we would have to keep that in mind. This would also require an elementwise list operation which we haven't covered yet.\n",
    "\n",
    "What we can do is remove spacing during the split phase:"
   ]
  },
  {
   "cell_type": "code",
   "execution_count": 15,
   "metadata": {},
   "outputs": [
    {
     "name": "stdout",
     "output_type": "stream",
     "text": [
      "['This is the string that we will use to test our example. The expected output of the program should contain every word this string has', 'but it should be split according to punctuation. Full stops should be preserved', 'but commas should not. Spacing after punctuation', 'should also be removed.']\n"
     ]
    }
   ],
   "source": [
    "temp = ex_str.split(', ')\n",
    "print(temp)"
   ]
  },
  {
   "cell_type": "markdown",
   "metadata": {},
   "source": [
    "Now it's better. this method has one problem though which we will discuss later.\n",
    "\n",
    "Let's try perform the other split:"
   ]
  },
  {
   "cell_type": "code",
   "execution_count": 16,
   "metadata": {},
   "outputs": [
    {
     "ename": "AttributeError",
     "evalue": "'list' object has no attribute 'split'",
     "output_type": "error",
     "traceback": [
      "\u001b[0;31m---------------------------------------------------------------------------\u001b[0m",
      "\u001b[0;31mAttributeError\u001b[0m                            Traceback (most recent call last)",
      "\u001b[0;32m<ipython-input-16-e298c6dc59aa>\u001b[0m in \u001b[0;36m<module>\u001b[0;34m()\u001b[0m\n\u001b[0;32m----> 1\u001b[0;31m \u001b[0mfin_lst\u001b[0m \u001b[0;34m=\u001b[0m \u001b[0mtemp\u001b[0m\u001b[0;34m.\u001b[0m\u001b[0msplit\u001b[0m\u001b[0;34m(\u001b[0m\u001b[0;34m'. '\u001b[0m\u001b[0;34m)\u001b[0m\u001b[0;34m\u001b[0m\u001b[0m\n\u001b[0m",
      "\u001b[0;31mAttributeError\u001b[0m: 'list' object has no attribute 'split'"
     ]
    }
   ],
   "source": [
    "fin_lst = temp.split('. ')"
   ]
  },
  {
   "cell_type": "markdown",
   "metadata": {},
   "source": [
    "So... we can't split a list of strings.  \n",
    "Furthermore the `.split()` method does not accept multiple delimiters and we don't know how to perform elementwise operations on lists.  \n",
    "What can we do?\n",
    "\n",
    "We could replace all full stops to commas, and then perform the split:"
   ]
  },
  {
   "cell_type": "code",
   "execution_count": null,
   "metadata": {},
   "outputs": [],
   "source": [
    "temp = ex_str.replace('.', ',')\n",
    "print(temp)"
   ]
  },
  {
   "cell_type": "markdown",
   "metadata": {},
   "source": [
    "... and then perform the split"
   ]
  },
  {
   "cell_type": "code",
   "execution_count": null,
   "metadata": {},
   "outputs": [],
   "source": [
    "temp = temp.split(', ')\n",
    "print(temp)"
   ]
  },
  {
   "cell_type": "markdown",
   "metadata": {},
   "source": [
    "OK, now we're close. The only thing to do is to modify it a bit so that we preserve the full stops:"
   ]
  },
  {
   "cell_type": "code",
   "execution_count": null,
   "metadata": {},
   "outputs": [],
   "source": [
    "temp = ex_str.replace('. ', '., ')\n",
    "print(temp)\n",
    "fin_lst = temp.split(', ')\n",
    "print('\\nFinal list:')\n",
    "print(fin_lst)"
   ]
  },
  {
   "cell_type": "markdown",
   "metadata": {},
   "source": [
    "Now we finally got it!\n",
    "\n",
    "The only problem would be if our string didn't have spaces after punctuation marks (e.g: 'strings like this,would not be split').\n",
    "\n",
    "We can solve this problem by replacing all punctuation + spacing with just the punctuation:"
   ]
  },
  {
   "cell_type": "code",
   "execution_count": null,
   "metadata": {},
   "outputs": [],
   "source": [
    "temp = ex_str.replace('. ', '.').replace(', ', ',')\n",
    "print(temp)"
   ]
  },
  {
   "cell_type": "markdown",
   "metadata": {},
   "source": [
    "But what if someone by mistake had placed an extra space? (*'like this,    bla bla'*)\n",
    "\n",
    "We would have to somehow figure out how much whitespace we have and then replace it with a single space.\n",
    "\n",
    "The easiest way to do this is to do a primary split on our string (with a single space as our delimiter). This would create a list of the words in our string. Then we could reassemble (join) the string with a single whitespace as the delimiter of the words. This method would effectively substitute all multiple whitespaces with single whitespace.\n",
    "```python\n",
    "temp = ' '.join(ex_str.split())\n",
    "```"
   ]
  },
  {
   "cell_type": "markdown",
   "metadata": {},
   "source": [
    "Let's write the program as a whole:"
   ]
  },
  {
   "cell_type": "code",
   "execution_count": null,
   "metadata": {},
   "outputs": [],
   "source": [
    "temp = ' '.join(ex_str.split())\n",
    "# first we remove excess whitespace\n",
    "temp = temp.replace('. ', '.').replace(', ', ',')\n",
    "# then we remove all whitespace after punctuation marks\n",
    "temp = temp.replace('.', '.,')\n",
    "# then we replace every fullstop with fullstop+comma (in order to preserve full stops)\n",
    "fin_lst = temp.split(',')\n",
    "# finally we split the string according to the commas\n",
    "# this has a side effect of creating an empty element in the last spot of the list, but this is of little importance and we can always remove it:\n",
    "fin_lst.pop()\n",
    "# only if string ends with a full stop\n",
    "print(fin_lst)"
   ]
  },
  {
   "cell_type": "markdown",
   "metadata": {},
   "source": [
    "Finally, we'll test this in a more difficult string."
   ]
  },
  {
   "cell_type": "code",
   "execution_count": null,
   "metadata": {},
   "outputs": [],
   "source": [
    "test_str = 'Element 1, element 2.   Element 3,          element    4,element 5.  Element   6.Element 7.'\n",
    "temp = ' '.join(test_str.split())\n",
    "temp = temp.replace('. ', '.').replace(', ', ',')\n",
    "temp = temp.replace('.', '.,')\n",
    "fin_lst = temp.split(',')\n",
    "fin_lst.pop()\n",
    "print(fin_lst)"
   ]
  },
  {
   "cell_type": "markdown",
   "metadata": {},
   "source": [
    "## Exercises\n",
    "\n",
    "1. Write a python program which takes a string and replaces all occurrences of it's first character with the dollar sign (\\$):  \n",
    "e.g: restart ---> resta\\$t\n",
    "\n",
    "2. Write a Python program to get a single string from two given strings, separated by a space and swap the first two characters of each string:  \n",
    "e.g: 'abcd', 'wxyz' ---> 'wxcd abyz'"
   ]
  }
 ],
 "metadata": {
  "kernelspec": {
   "display_name": "Python 3",
   "language": "python",
   "name": "python3"
  },
  "language_info": {
   "codemirror_mode": {
    "name": "ipython",
    "version": 3
   },
   "file_extension": ".py",
   "mimetype": "text/x-python",
   "name": "python",
   "nbconvert_exporter": "python",
   "pygments_lexer": "ipython3",
   "version": "3.5.2"
  }
 },
 "nbformat": 4,
 "nbformat_minor": 1
}
