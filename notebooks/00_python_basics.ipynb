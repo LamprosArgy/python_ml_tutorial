{
 "cells": [
  {
   "cell_type": "markdown",
   "metadata": {},
   "source": [
    "# Python\n",
    "\n",
    "What is python exactly?\n",
    "\n",
    "> Python is a widely used high-level, general-purpose, interpreted, dynamic programming language.   \n",
    "-- Wikipedia\n",
    "\n",
    "So what does that mean? Let's start from the end.\n",
    "\n",
    "Python is a **programming language**. This means python is a language with which we can communicate to our computer and tell it what to do!\n",
    "\n",
    "A **dynamic** programming language, is a programming language that executes it's commands at runtime. On the other hand *static* programming languages require a procedure that is called *compilation*. This procedure first translates the human-readable commands into machine-language instructions. An **interpreted** language doesn't require a *compiler* to run, but an *interpreter*.\n",
    "\n",
    "**General-purpose** programming languages, are those that are used in a wide variety of application domains. On the contrary there are *domain-specific* programming languages that are used in a single domain. Some examples of the latter are *HTML* (markup language for web applications), *MATLAB* (matrix representation and visualization), *SQL* (relational database queries) and *UNIX shell scripts* (data organization in unix-based systems).\n",
    "\n",
    "A **high-level** programming language has a strong abstraction from the details of the computer. These languages are much easier to work with, because they automate many areas such as memory management.\n",
    "\n",
    "Python is a really easy and powerful programming language and it has a simple and very straightforward syntax.\n",
    "\n",
    "\n",
    "## Versions\n",
    "\n",
    "There are two python versions running in parallel, **python 2.7** and **python 3.x**. While python 3 came out in 2008, it saw a slow adoption from the community. We will be using python 3 for the remainder of this tutorial, but the code will be **fully compatible** with python 2.\n",
    "\n",
    "## Comments in python\n",
    "\n",
    "Comments are lines that are ignored from the computer and are meant only for humans to be read."
   ]
  },
  {
   "cell_type": "code",
   "execution_count": 1,
   "metadata": {},
   "outputs": [
    {
     "data": {
      "text/plain": [
       "'\\nThis is also a multiline comment.\\n\\' and \" are interchangeable in python.\\n'"
      ]
     },
     "execution_count": 1,
     "metadata": {},
     "output_type": "execute_result"
    }
   ],
   "source": [
    "# This is a comment!\n",
    "\n",
    "'''\n",
    "This is a\n",
    "multiline\n",
    "comment.\n",
    "'''\n",
    "\n",
    "\"\"\"\n",
    "This is also a multiline comment.\n",
    "' and \" are interchangeable in python.\n",
    "\"\"\""
   ]
  },
  {
   "cell_type": "markdown",
   "metadata": {},
   "source": [
    "## Printing to the screen\n",
    "\n",
    "The first thing we want to do when learning any programming language is print something (like *\"Hello World\"*) on screen.\n",
    "\n",
    "In order to display information to the user, we use the `print` function. This also includes a *new line* directive (i.e two prints are shown in separate lines)."
   ]
  },
  {
   "cell_type": "code",
   "execution_count": 2,
   "metadata": {},
   "outputs": [
    {
     "name": "stdout",
     "output_type": "stream",
     "text": [
      "Hello World!\n"
     ]
    }
   ],
   "source": [
    "print('Hello World!')"
   ]
  },
  {
   "cell_type": "markdown",
   "metadata": {},
   "source": [
    "This line instructs the computer to display the phrase 'Hello World!' on screen.\n",
    "\n",
    "The `print` function is one of the major differences between python 2 and 3. In python 2.x the correct syntax would be:\n",
    "\n",
    "```python \n",
    "print 'Hello World!'\n",
    "```\n",
    "\n",
    "We can also print multiple things at once:"
   ]
  },
  {
   "cell_type": "code",
   "execution_count": 3,
   "metadata": {},
   "outputs": [
    {
     "name": "stdout",
     "output_type": "stream",
     "text": [
      "argument 1,  argument 2,  argument 3\n"
     ]
    }
   ],
   "source": [
    "print('argument 1, ', 'argument 2, ', 'argument 3')"
   ]
  },
  {
   "cell_type": "markdown",
   "metadata": {},
   "source": [
    "In order to get the same result for both versions of python, we could add the line:"
   ]
  },
  {
   "cell_type": "code",
   "execution_count": 4,
   "metadata": {},
   "outputs": [
    {
     "name": "stdout",
     "output_type": "stream",
     "text": [
      "argument 1,  argument 2,  argument 3\n"
     ]
    }
   ],
   "source": [
    "from __future__ import print_function\n",
    "print('argument 1, ', 'argument 2, ', 'argument 3')"
   ]
  },
  {
   "cell_type": "markdown",
   "metadata": {},
   "source": [
    "## Importing external libraries\n",
    "\n",
    "The first command is what we call an ***import***. These extend the functionality of python by adding more commands (or in this case modifying existing ones).\n",
    "This is done by *imorting* an **external library** (in this case the `__future__` library).\n",
    "\n",
    "Libraries are a really important part of programming, because they allow us to use code that is already written by others. This way we don't have to write every program from scratch!\n",
    " \n",
    "Let's say we want to create an *array*. Python does not support arrays, but luckily there is an external library that does: **numpy**.  \n",
    "We can use external libraries (like *numpy*) in three ways:"
   ]
  },
  {
   "cell_type": "code",
   "execution_count": 5,
   "metadata": {},
   "outputs": [
    {
     "data": {
      "text/plain": [
       "array([1, 2, 3])"
      ]
     },
     "execution_count": 5,
     "metadata": {},
     "output_type": "execute_result"
    }
   ],
   "source": [
    "import numpy  # imports the library as is\n",
    "numpy.array([1,2,3])  # creates the array [1,2,3]\n",
    "\n",
    "import numpy as np  # imports numpy and from the future we can refer to it as 'np'\n",
    "np.array([1,2,3])  # creates the array [1,2,3]\n",
    "\n",
    "from numpy import array  # imports only the class 'array' from the library numpy\n",
    "array([1,2,3])  # creates the array [1,2,3]"
   ]
  },
  {
   "cell_type": "markdown",
   "metadata": {},
   "source": [
    "We can choose any way we like to import libraries, each has it's pros and cons. Note that we only need to import a library **once** in our program to use it!\n",
    "\n",
    "The main repository for python packages is [PyPI](https://pypi.python.org/pypi), and the main tool for dowloading and installing packages from this repositpry is called [pip](https://pip.pypa.io/en/stable/). In order to install pip, download [get-pip.py](https://bootstrap.pypa.io/get-pip.py) and run the downloaded script with the following command:\n",
    "\n",
    "```\n",
    "python get-pip.py\n",
    "```\n",
    "\n",
    "Once *pip* is installed, to download and install a new package (e.g. *numpy*) just type:\n",
    "\n",
    "```\n",
    "pip install numpy\n",
    "```\n",
    "or\n",
    "\n",
    "```\n",
    "python -m pip install numpy\n",
    "```\n",
    "\n",
    "## Assigning values to variables\n",
    "\n",
    "To store information in memory we use *variables*. These can be letters or combinations of letters and numbers that help us store data to memory.\n",
    "\n",
    "The procedure with which we give a variable a value is called **assignment** and is done in python with the **equal sign (=)**."
   ]
  },
  {
   "cell_type": "code",
   "execution_count": 6,
   "metadata": {},
   "outputs": [],
   "source": [
    "number_1 = 66"
   ]
  },
  {
   "cell_type": "markdown",
   "metadata": {},
   "source": [
    "In the previous line we instructed the computer to store the number *66* in it's memory. We also told the computer, that from now on, we will refer to this number as *number_1*.\n",
    "\n",
    "Now, if we want to print the stored number, we just need to reference it."
   ]
  },
  {
   "cell_type": "code",
   "execution_count": 7,
   "metadata": {},
   "outputs": [
    {
     "name": "stdout",
     "output_type": "stream",
     "text": [
      "66\n"
     ]
    }
   ],
   "source": [
    "print(number_1)"
   ]
  },
  {
   "cell_type": "markdown",
   "metadata": {},
   "source": [
    "Once a value has been assigned to a variable, it **can** be changed."
   ]
  },
  {
   "cell_type": "code",
   "execution_count": 8,
   "metadata": {},
   "outputs": [
    {
     "name": "stdout",
     "output_type": "stream",
     "text": [
      "55\n"
     ]
    }
   ],
   "source": [
    "number_1 = 55\n",
    "print(number_1)"
   ]
  },
  {
   "cell_type": "markdown",
   "metadata": {},
   "source": [
    "Python also allows for multiple variable assignments at once."
   ]
  },
  {
   "cell_type": "code",
   "execution_count": 9,
   "metadata": {},
   "outputs": [
    {
     "name": "stdout",
     "output_type": "stream",
     "text": [
      "1 1 1\n",
      "1 2 3\n"
     ]
    }
   ],
   "source": [
    "a = b = c = 1\n",
    "print(a, b, c)\n",
    "a, b, c = 1, 2, 3\n",
    "print(a, b, c)"
   ]
  },
  {
   "cell_type": "markdown",
   "metadata": {},
   "source": [
    "Whitespace is good for making code easier to read by humans, but it makes **no** difference for the computer. "
   ]
  },
  {
   "cell_type": "code",
   "execution_count": 10,
   "metadata": {},
   "outputs": [
    {
     "name": "stdout",
     "output_type": "stream",
     "text": [
      "5\n",
      "5\n"
     ]
    }
   ],
   "source": [
    "a=5\n",
    "print(a)\n",
    "a               =   5\n",
    "print(a)"
   ]
  },
  {
   "cell_type": "markdown",
   "metadata": {},
   "source": [
    "These two are exactly the same.\n",
    "\n",
    "One exception would be **whitespace before the commands**. This is also called **indentation**. Indentation, as we'll see in the future, is important for python to understand nested commands!"
   ]
  },
  {
   "cell_type": "code",
   "execution_count": 11,
   "metadata": {},
   "outputs": [
    {
     "ename": "IndentationError",
     "evalue": "unexpected indent (<ipython-input-11-1ef56d9202ee>, line 2)",
     "output_type": "error",
     "traceback": [
      "\u001b[0;36m  File \u001b[0;32m\"<ipython-input-11-1ef56d9202ee>\"\u001b[0;36m, line \u001b[0;32m2\u001b[0m\n\u001b[0;31m    print(a)\u001b[0m\n\u001b[0m    ^\u001b[0m\n\u001b[0;31mIndentationError\u001b[0m\u001b[0;31m:\u001b[0m unexpected indent\n"
     ]
    }
   ],
   "source": [
    "print(a)\n",
    "   print(a)"
   ]
  },
  {
   "cell_type": "markdown",
   "metadata": {},
   "source": [
    "We are not allowed to indent commands without reason! \n",
    "\n",
    "When python encounters a state it is not meant to, it usually raises an **error**! There are several built-in error types (such as the *IndentationError* we saw before). Furthermore, we can *create* our own errors and *handle* them accordingly, in order to prevent our program from doing things it is not meant to! We'll learn how to do this in a later tutorial.\n",
    "\n",
    "The process of assigning a value to a variable binds the variable's name (e.g *number_1*) to that value. If we wish to free the name for future use we can **delete** the variable. This causes the stored memory to be lost!"
   ]
  },
  {
   "cell_type": "code",
   "execution_count": 12,
   "metadata": {},
   "outputs": [
    {
     "ename": "NameError",
     "evalue": "name 'number_1' is not defined",
     "output_type": "error",
     "traceback": [
      "\u001b[0;31m---------------------------------------------------------------------------\u001b[0m",
      "\u001b[0;31mNameError\u001b[0m                                 Traceback (most recent call last)",
      "\u001b[0;32m<ipython-input-12-dd2244dd4a29>\u001b[0m in \u001b[0;36m<module>\u001b[0;34m()\u001b[0m\n\u001b[1;32m      1\u001b[0m \u001b[0;32mdel\u001b[0m \u001b[0mnumber_1\u001b[0m\u001b[0;34m\u001b[0m\u001b[0m\n\u001b[0;32m----> 2\u001b[0;31m \u001b[0mprint\u001b[0m\u001b[0;34m(\u001b[0m\u001b[0mnumber_1\u001b[0m\u001b[0;34m)\u001b[0m\u001b[0;34m\u001b[0m\u001b[0m\n\u001b[0m",
      "\u001b[0;31mNameError\u001b[0m: name 'number_1' is not defined"
     ]
    }
   ],
   "source": [
    "del number_1\n",
    "print(number_1)"
   ]
  },
  {
   "cell_type": "markdown",
   "metadata": {},
   "source": [
    "We got this error because we tried to print the value of a variable that didn't exist (because we deleted it in the previous line).\n",
    "\n",
    "Variable deletion should be done **only** when we **no longer need** the information this variable stores.\n",
    "\n",
    "Similar to assignments, del can also delete multiple objects at once:"
   ]
  },
  {
   "cell_type": "code",
   "execution_count": 13,
   "metadata": {},
   "outputs": [],
   "source": [
    "del a, b, c"
   ]
  },
  {
   "cell_type": "markdown",
   "metadata": {},
   "source": [
    "When naming variables keep in mind that python is case sensitive."
   ]
  },
  {
   "cell_type": "code",
   "execution_count": 14,
   "metadata": {},
   "outputs": [
    {
     "name": "stdout",
     "output_type": "stream",
     "text": [
      "1 2 3 4\n"
     ]
    }
   ],
   "source": [
    "number_1 = 1\n",
    "Number_1 = 2\n",
    "NUMBER_1 = 3\n",
    "nUmBeR_1 = 4\n",
    "print(number_1, Number_1, NUMBER_1, nUmBeR_1)"
   ]
  },
  {
   "cell_type": "markdown",
   "metadata": {},
   "source": [
    "In python these are 4 different variables.\n",
    "\n",
    "A good way of presenting data to the user is adding a description and then the value."
   ]
  },
  {
   "cell_type": "code",
   "execution_count": 15,
   "metadata": {},
   "outputs": [
    {
     "name": "stdout",
     "output_type": "stream",
     "text": [
      "The value stored in the variable nUmBeR_1 is: 4\n"
     ]
    }
   ],
   "source": [
    "print('The value stored in the variable nUmBeR_1 is:', nUmBeR_1)"
   ]
  },
  {
   "cell_type": "markdown",
   "metadata": {},
   "source": [
    "In python we prefer **lower_case_variable_names_separated_with_underscores**. \n",
    "\n",
    "In the next tutorials we'll see:\n",
    "1. The main data types.\n",
    "2. Other common programming techniques (conditionals and loops).\n",
    "3. Input/Output operations (such as print, input and file read/write).\n",
    "4. How functions and classes are used in python.\n",
    "5. An intro in error and exception handling.\n",
    "6. Many of python's external libraries (mainly those used for data analysis).\n",
    "7. Some data analysis and machine learning examples."
   ]
  }
 ],
 "metadata": {
  "kernelspec": {
   "display_name": "Python 3",
   "language": "python",
   "name": "python3"
  },
  "language_info": {
   "codemirror_mode": {
    "name": "ipython",
    "version": 3
   },
   "file_extension": ".py",
   "mimetype": "text/x-python",
   "name": "python",
   "nbconvert_exporter": "python",
   "pygments_lexer": "ipython3",
   "version": "3.5.2"
  }
 },
 "nbformat": 4,
 "nbformat_minor": 1
}
