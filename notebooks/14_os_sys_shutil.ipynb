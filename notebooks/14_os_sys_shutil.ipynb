{
 "cells": [
  {
   "cell_type": "markdown",
   "metadata": {},
   "source": [
    "# Directories and Paths\n",
    "\n",
    "Up till now we've seen how to use python to solve simple math problems, store data in lists etc. But what if we wanted to make something more practical? Something that would help us crate scripts that automate some mundane tasks, such as copying, moving, renaming or deleting files and folders.\n",
    "\n",
    "An important aspect of file organization in operating systems are **paths**. Paths are strings that tell us where a certain file or folder can be found inside a the OS's directory structure. These files are typically organized in a hierarchical tree structure.\n",
    "\n",
    "For example in **Windows** systems, in the root of a boot partition one can find the following folders:\n",
    "- `\\Program Files`: Is where the programs are installed\n",
    "- `\\ProgramData`: Contains program data that are expected to be accessed by computer programs regardless of the user account in the context of which they run.\n",
    "- `\\Users`: Is the user profile folder containing onw subfolder for each user.\n",
    "- `\\Windows`: Windows is installed in this folder.\n",
    "- `\\System`: Is where the DLLs, that implement the core features of Windows are stored.  \n",
    "etc.\n",
    "\n",
    "A path in a windows like system looks like:\n",
    "<pre>C:\\Users\\Thanos\\Projects\\Python\\</pre>\n",
    "\n",
    "This means that my user name is *`Thanos`* and that I have a folder called *`Python`* in another folder called *`Projects`* in my user directory. The *`C:`* part in the beginning means that my root directory is the partition *`C`*.\n",
    "\n",
    "In **UNIX** based systems, have their own directory structure:\n",
    "\n",
    "- `/bin`: Contains the binaries for certain fundamental utilities.\n",
    "- `/boot`: Contains all the files needed for booting.\n",
    "- `/home`: Contains the a subfolder for each user (similar to window's *`\\Users`* folder).\n",
    "- `/lib`: Contains essencial libraries needed for the programs in *`/bin`*.  \n",
    "etc.\n",
    "\n",
    "Unix type paths use regular slashes (`/`) to separate directories.  \n",
    "Ths equivalent path in Unix would be:\n",
    "<pre>/home/thanos/projects/python/</pre>\n",
    "\n",
    "The first slash in the beginning indicates the root directory.\n",
    "\n",
    "Paths are used extensively in computer science to represent the directory/file relationships common in modern operating systems, and are essential in the construction of Uniform Resource Locators (**URL**s). Resources can be represented by either **absolute** or **relative** paths.\n",
    "\n",
    "- An **absolute** or full path points to the same location in a file system, regardless of the current working directory. To do that, it must include start from root directory.\n",
    "- A **relative** path starts from some given working directory, avoiding the need to provide the full absolute path. A relative path **never** starts with a slash.\n",
    "\n",
    "From now on, we'll assume a UNIX based operating system.\n",
    "\n",
    "# OS\n",
    "\n",
    "Python's OS module in Python provides a way of using operating system dependent functionality. Let's dive in."
   ]
  },
  {
   "cell_type": "code",
   "execution_count": 1,
   "metadata": {},
   "outputs": [
    {
     "data": {
      "text/plain": [
       "'/home/thanos/Google Drive/Documents/Notes/python/tutorial'"
      ]
     },
     "execution_count": 1,
     "metadata": {},
     "output_type": "execute_result"
    }
   ],
   "source": [
    "from __future__ import print_function\n",
    "import os\n",
    "\n",
    "os.getcwd()"
   ]
  },
  {
   "cell_type": "markdown",
   "metadata": {},
   "source": [
    "This command returns the path of the current working directory (in this case the directory from which the notebook was launched).\n",
    "\n",
    "If we wanted to, say, get a list of all items inside our working directory?"
   ]
  },
  {
   "cell_type": "code",
   "execution_count": 2,
   "metadata": {},
   "outputs": [
    {
     "data": {
      "text/plain": [
       "['05_basic_tuple_dict_operations.py',\n",
       " '03_basic_string_operations.ipynb',\n",
       " '01_basic_data_types.py',\n",
       " '08_input_output.py',\n",
       " 'custom_module.pyc',\n",
       " '12_exception_handling.ipynb',\n",
       " '06_logical_operations.ipynb',\n",
       " '03_basic_string_operations.py',\n",
       " '06_logical_operations.py',\n",
       " '08_input_output.ipynb',\n",
       " '10_classes.ipynb',\n",
       " '13_time_random_ordereddict.ipynb',\n",
       " '09_functions.py',\n",
       " 'pyth',\n",
       " '02_basic_numerical_operations.py',\n",
       " '10_classes.py',\n",
       " '04_basic_list_operations.ipynb',\n",
       " '12_exception_handling.py~',\n",
       " '04_basic_list_operations.py',\n",
       " '11_modules_and_packages.ipynb',\n",
       " 'custom_module.py',\n",
       " '01_basic_data_types.ipynb',\n",
       " '00_python_basics.ipynb',\n",
       " '07_iterations.ipynb',\n",
       " '12_exception_handling.py',\n",
       " '00_python_basics.py',\n",
       " '02_basic_numerical_operations.ipynb',\n",
       " '11_modules_and_packages.py',\n",
       " '09_functions.ipynb',\n",
       " '.ipynb_checkpoints',\n",
       " '07_iterations.py',\n",
       " '05_basic_tuple_dict_operations.ipynb',\n",
       " 'pyth~',\n",
       " '14_os_sys_shutil.ipynb']"
      ]
     },
     "execution_count": 2,
     "metadata": {},
     "output_type": "execute_result"
    }
   ],
   "source": [
    "os.listdir('.')"
   ]
  },
  {
   "cell_type": "markdown",
   "metadata": {},
   "source": [
    "The previous command needs a path as an argument: `os.listdir(path)`  \n",
    "To refer to the working directory we use the dot (`.`)\n",
    "\n",
    "Say we want to change the working directory to match the example above (`/home/thanos/projects/python/`)."
   ]
  },
  {
   "cell_type": "code",
   "execution_count": 3,
   "metadata": {},
   "outputs": [
    {
     "ename": "OSError",
     "evalue": "[Errno 2] No such file or directory: '/home/thanos/projects/python/'",
     "output_type": "error",
     "traceback": [
      "\u001b[1;31m---------------------------------------------------------------------------\u001b[0m",
      "\u001b[1;31mOSError\u001b[0m                                   Traceback (most recent call last)",
      "\u001b[1;32m<ipython-input-3-959995197d61>\u001b[0m in \u001b[0;36m<module>\u001b[1;34m()\u001b[0m\n\u001b[1;32m----> 1\u001b[1;33m \u001b[0mos\u001b[0m\u001b[1;33m.\u001b[0m\u001b[0mchdir\u001b[0m\u001b[1;33m(\u001b[0m\u001b[1;34m'/home/thanos/projects/python/'\u001b[0m\u001b[1;33m)\u001b[0m\u001b[1;33m\u001b[0m\u001b[0m\n\u001b[0m",
      "\u001b[1;31mOSError\u001b[0m: [Errno 2] No such file or directory: '/home/thanos/projects/python/'"
     ]
    }
   ],
   "source": [
    "os.chdir('/home/thanos/projects/python/')"
   ]
  },
  {
   "cell_type": "markdown",
   "metadata": {},
   "source": [
    "Oops... the directory doesn't exist. We'll need to create it.\n",
    "\n",
    "Let's change to a one we know exists."
   ]
  },
  {
   "cell_type": "code",
   "execution_count": 4,
   "metadata": {},
   "outputs": [
    {
     "data": {
      "text/plain": [
       "'/home/thanos'"
      ]
     },
     "execution_count": 4,
     "metadata": {},
     "output_type": "execute_result"
    }
   ],
   "source": [
    "os.chdir('/home/thanos/')  # change directory\n",
    "os.getcwd()                # to confirm\n",
    "# if you want to make this work on your pc you need to change /home/thanos to a valid path in your pc"
   ]
  },
  {
   "cell_type": "markdown",
   "metadata": {},
   "source": [
    "Now we need to create a directory named `projects` in our working direcroty."
   ]
  },
  {
   "cell_type": "code",
   "execution_count": 5,
   "metadata": {},
   "outputs": [
    {
     "data": {
      "text/plain": [
       "'/home/thanos/projects'"
      ]
     },
     "execution_count": 5,
     "metadata": {},
     "output_type": "execute_result"
    }
   ],
   "source": [
    "os.mkdir('projects')  # make directory\n",
    "os.chdir('projects')  # change directory\n",
    "os.getcwd()           # confirm"
   ]
  },
  {
   "cell_type": "markdown",
   "metadata": {},
   "source": [
    "Note that we are using relative paths! This means that we don't have to write the full path each time (`/home/thanos/projects`). \n",
    "\n",
    "In short there are two options when wanting to use paths:\n",
    "- Absolute paths: We instruct python to create a directory in `/home/thanos/projects`.\n",
    "- Relative paths: We tell python to create a directory called `projects`. Where? Where I currently am working from (`/home/thanos/`)\n",
    "\n",
    "The difference between the two is that absolute paths **always** start with a slash (`/`).\n",
    "\n",
    "Another choice we have is to use our operating system's own commands. We can do this easily:\n",
    "\n",
    "```python\n",
    "os.system(command)\n",
    "```\n",
    "where command is a string containing the command we want to give to our os. For instance in UNIX systems `mkdir /path/name` is the command used to make a directory."
   ]
  },
  {
   "cell_type": "code",
   "execution_count": 6,
   "metadata": {},
   "outputs": [
    {
     "data": {
      "text/plain": [
       "0"
      ]
     },
     "execution_count": 6,
     "metadata": {},
     "output_type": "execute_result"
    }
   ],
   "source": [
    "os.system('mkdir python')  # this should work in windows systems too"
   ]
  },
  {
   "cell_type": "markdown",
   "metadata": {},
   "source": [
    "If these worked correctrly we should have created a directory with the path: `/home/thanos/projects/python`. We can easily confirm this."
   ]
  },
  {
   "cell_type": "code",
   "execution_count": 7,
   "metadata": {},
   "outputs": [
    {
     "data": {
      "text/plain": [
       "'/home/thanos/projects/python'"
      ]
     },
     "execution_count": 7,
     "metadata": {},
     "output_type": "execute_result"
    }
   ],
   "source": [
    "os.chdir('python')\n",
    "os.getcwd()"
   ]
  },
  {
   "cell_type": "markdown",
   "metadata": {},
   "source": [
    "A last interesting function of the os module is `os.walk()`. This method generates the file names in a directory tree by walking the tree either top-down or bottom-up.\n",
    "```python\n",
    "os.walk(top[, topdown=True[, onerror=None[, followlinks=False]]])\n",
    "```\n",
    "- top: Each directory rooted at directory, yields 3-tuples, i.e., (dirpath, dirnames, filenames)\n",
    "- topdown: If optional argument topdown is True or not specified, directories are scanned from top-down. If topdown is set to False, directories are scanned from bottom-up.\n",
    "- onerror: This can show error to continue with the walk, or raise the exception to abort the walk.\n",
    "- followlinks: This visits directories pointed to by symlinks, if set to true."
   ]
  },
  {
   "cell_type": "code",
   "execution_count": 8,
   "metadata": {},
   "outputs": [
    {
     "name": "stdout",
     "output_type": "stream",
     "text": [
      "/home/thanos/projects/python\n"
     ]
    }
   ],
   "source": [
    "def recurrsive_listdir(path):\n",
    "    for root, dirs, files in os.walk(path, topdown=False):\n",
    "        for name in files:\n",
    "            print(os.path.join(root, name))\n",
    "        for name in dirs:\n",
    "            print(os.path.join(root, name))\n",
    "            \n",
    "p = '/home/thanos/projects'\n",
    "recurrsive_listdir(p)"
   ]
  },
  {
   "cell_type": "markdown",
   "metadata": {},
   "source": [
    "The above code will scan all the directories and subdirectories in `/home/thanos/projects/` bottom-to-up. If `topdown` was set to `True`, the code will scan the directories top-to-bottom.\n",
    "\n",
    "The OS module also offers a lot more functionality like renaming or removing files, manipulating users, groups, environmental variables, process id's etc.\n",
    "\n",
    "### Important! Don't use:  `from os import *`\n",
    "This will cause the `os.open()` function to override the built-in `open()` function which operates differently!\n",
    "\n",
    "## os.path\n",
    "This is the os module's submodule that contains functions on pathnames.\n",
    "\n",
    "In order to showcase some of this module's functionality we'll first create a file. Remember we're still working off of  `/home/thanos/projects/python`. "
   ]
  },
  {
   "cell_type": "code",
   "execution_count": 9,
   "metadata": {
    "collapsed": true
   },
   "outputs": [],
   "source": [
    "with open('test', 'wb') as f:\n",
    "    f.write('bla bla bla')"
   ]
  },
  {
   "cell_type": "markdown",
   "metadata": {},
   "source": [
    "Now let's confirm that actually created this file."
   ]
  },
  {
   "cell_type": "code",
   "execution_count": 10,
   "metadata": {},
   "outputs": [
    {
     "data": {
      "text/plain": [
       "['test']"
      ]
     },
     "execution_count": 10,
     "metadata": {},
     "output_type": "execute_result"
    }
   ],
   "source": [
    "os.listdir('.')"
   ]
  },
  {
   "cell_type": "markdown",
   "metadata": {},
   "source": [
    "Note that, we can't tell if this is a file, a directory or even a link. How can we make such a check?"
   ]
  },
  {
   "cell_type": "code",
   "execution_count": 11,
   "metadata": {},
   "outputs": [
    {
     "name": "stdout",
     "output_type": "stream",
     "text": [
      "file: True\n",
      "directory: False\n",
      "link: False\n",
      "mount point: False\n"
     ]
    }
   ],
   "source": [
    "print('file:', os.path.isfile('test'))          # checks if 'test' is a file\n",
    "print('directory:', os.path.isdir('test'))      # checks if 'test' is a directory\n",
    "print('link:', os.path.islink('test'))          # checks if 'test' is a link\n",
    "print('mount point:', os.path.ismount('test'))  # checks if 'test' is a mount point"
   ]
  },
  {
   "cell_type": "markdown",
   "metadata": {},
   "source": [
    "We can learn other things about our file, such as it's size or the time from it's last modification:"
   ]
  },
  {
   "cell_type": "code",
   "execution_count": 12,
   "metadata": {},
   "outputs": [
    {
     "name": "stdout",
     "output_type": "stream",
     "text": [
      "last modified:  1475497029.91\n",
      "file size:  11\n"
     ]
    }
   ],
   "source": [
    "print('last modified: ', os.path.getmtime('test'))\n",
    "print('file size: ', os.path.getsize('test'))"
   ]
  },
  {
   "cell_type": "markdown",
   "metadata": {},
   "source": [
    "The first one returns the time of the last modification (in seconds) since the epoch. The second one is the filesize in bytes.\n",
    "\n",
    "We can also make a check if the path is an absolute path or not."
   ]
  },
  {
   "cell_type": "code",
   "execution_count": 13,
   "metadata": {},
   "outputs": [
    {
     "name": "stdout",
     "output_type": "stream",
     "text": [
      "True\n",
      "False\n"
     ]
    }
   ],
   "source": [
    "print(os.path.isabs('/absolute/path'))\n",
    "print(os.path.isabs('relative/path'))"
   ]
  },
  {
   "cell_type": "markdown",
   "metadata": {},
   "source": [
    "This, in UNIX systems, just checks if there is a slash in front of the path. It **doesn't ** check if this actual path is valid.\n",
    "\n",
    "For this, we use the `os.path.exists(path)` function."
   ]
  },
  {
   "cell_type": "code",
   "execution_count": 14,
   "metadata": {},
   "outputs": [
    {
     "name": "stdout",
     "output_type": "stream",
     "text": [
      "True\n",
      "False\n"
     ]
    }
   ],
   "source": [
    "print(os.path.exists('/home/thanos/projects/python/test'))\n",
    "print(os.path.exists('/home/thanos/projects/python/wrong'))"
   ]
  },
  {
   "cell_type": "markdown",
   "metadata": {},
   "source": [
    "We can also convert a relative to an absolute path."
   ]
  },
  {
   "cell_type": "code",
   "execution_count": 15,
   "metadata": {},
   "outputs": [
    {
     "name": "stdout",
     "output_type": "stream",
     "text": [
      "/home/thanos/projects/python/test\n"
     ]
    }
   ],
   "source": [
    "print(os.path.abspath('test'))"
   ]
  },
  {
   "cell_type": "markdown",
   "metadata": {},
   "source": [
    "This just joins the **working directory** to the relative path:\n",
    "\n",
    "<pre> absolute = cwd + relative </pre>\n",
    "\n",
    "Alternatively, if we know where a file is located, we can join that with the filename to create the absolute path."
   ]
  },
  {
   "cell_type": "code",
   "execution_count": null,
   "metadata": {},
   "outputs": [],
   "source": [
    "file_location = '/an/absolute/path'\n",
    "filename = 'a_file'\n",
    "os.join(file_location, filename)"
   ]
  },
  {
   "cell_type": "markdown",
   "metadata": {},
   "source": [
    "Other functions of the `os.path` module can split paths into lists, join lists into paths etc.\n",
    "\n",
    "# pathlib\n",
    "\n",
    "Pathlib creates an easy way to handle paths in python."
   ]
  },
  {
   "cell_type": "code",
   "execution_count": null,
   "metadata": {},
   "outputs": [],
   "source": []
  },
  {
   "cell_type": "markdown",
   "metadata": {},
   "source": [
    "# shutil\n",
    "\n",
    "The shutil module offers a number of high-level operations on files and collections of files. In particular, functions are provided which support file copying and removal.  \n",
    "\n",
    "The shutil module helps you automate copying files and directories. This saves the steps of opening, reading, writing and closing files when there is no actual processing.\n",
    "\n",
    "```python\n",
    "shutil.copy(source, destination)\n",
    "```\n",
    "Copies file from path `source` to `destination`."
   ]
  },
  {
   "cell_type": "code",
   "execution_count": 16,
   "metadata": {},
   "outputs": [
    {
     "data": {
      "text/plain": [
       "['test3', 'test', 'test2']"
      ]
     },
     "execution_count": 16,
     "metadata": {},
     "output_type": "execute_result"
    }
   ],
   "source": [
    "import shutil\n",
    "\n",
    "shutil.copy('test', 'test2')                                                            # relative paths\n",
    "shutil.copy('/home/thanos/projects/python/test', '/home/thanos/projects/python/test3')  # absolute paths\n",
    "os.listdir('.')"
   ]
  },
  {
   "cell_type": "markdown",
   "metadata": {},
   "source": [
    "There are also more specific `shutil` functions that allow us to copy a file's metadata, contents or permissions.\n",
    "\n",
    "Another useful feature of `shutil` is the `copytree` function.\n",
    "\n",
    "```python\n",
    "shutil.copytree(src, dst, symlinks=False, ignore=None)\n",
    "```\n",
    "- `src` is the source path.\n",
    "- `dst` is the destination path.\n",
    "- If `symlinks` is `True`, symbolic links in the source tree are represented as symbolic links in the new tree, but the metadata of the original links is not copied; if false or omitted, the contents and metadata of the linked files are copied to the new tree.\n",
    "- `ignore` is a list of paths (as returned from `os.listdir()`) that won't be copied."
   ]
  },
  {
   "cell_type": "code",
   "execution_count": 17,
   "metadata": {},
   "outputs": [
    {
     "name": "stdout",
     "output_type": "stream",
     "text": [
      "/home/thanos/projects/projects2/python/test3\n",
      "/home/thanos/projects/projects2/python/test\n",
      "/home/thanos/projects/projects2/python/test2\n",
      "/home/thanos/projects/projects2/python\n",
      "/home/thanos/projects/python/test3\n",
      "/home/thanos/projects/python/test\n",
      "/home/thanos/projects/python/test2\n",
      "/home/thanos/projects/projects2\n",
      "/home/thanos/projects/python\n"
     ]
    }
   ],
   "source": [
    "shutil.copytree('../../projects', '../projects2')\n",
    "# copies /home/thanos/projects to /home/thanos/projects/projects2\n",
    "recurrsive_listdir(p)\n",
    "# prints all the directory tree along with it's contents in /home/thanos/projects "
   ]
  },
  {
   "cell_type": "markdown",
   "metadata": {},
   "source": [
    "First of all what we did with the `shutil.copytree()` command was to copy the whole `projects` directory to a subdirectory called `projects2` inside `projects`. \n",
    "\n",
    "Secondly, we saw a new way of referring to paths: the two dots `..`  \n",
    "The two dots refer to the parent directory, or the directory one level up in the hierarchy.\n",
    "\n",
    "So if our working directory is `/home/thanos/projects/python/`:\n",
    "- `..` is `/home/thanos/projects/`\n",
    "- `../..` is `/home/thanos/`\n",
    "etc\n",
    "\n",
    "With shutil we can also move a file or directory from a location `src` to another `dst`."
   ]
  },
  {
   "cell_type": "code",
   "execution_count": 18,
   "metadata": {},
   "outputs": [
    {
     "name": "stdout",
     "output_type": "stream",
     "text": [
      "['test3', 'projects2', 'python']\n",
      "['test', 'test2']\n"
     ]
    }
   ],
   "source": [
    "shutil.move('test3', '..')\n",
    "# moves /home/thanos/projects/python/test3 to /home/thanos/projects/test3\n",
    "print(os.listdir('..'))\n",
    "# lists files and directories in /home/thanos/projects\n",
    "print(os.listdir('.'))\n",
    "# lists files and directories in /home/thanos/projects/python"
   ]
  },
  {
   "cell_type": "markdown",
   "metadata": {},
   "source": [
    "We can confirm it has been moved.\n",
    "\n",
    "This module also offers tools for removing directory trees."
   ]
  },
  {
   "cell_type": "code",
   "execution_count": 19,
   "metadata": {},
   "outputs": [],
   "source": [
    "shutil.rmtree('/home/thanos/projects')\n",
    "# removes everything under /home/thanos/projects\n",
    "os.chdir('/home/thanos')"
   ]
  },
  {
   "cell_type": "markdown",
   "metadata": {
    "collapsed": true
   },
   "source": [
    "We can confirm it's deleted."
   ]
  },
  {
   "cell_type": "code",
   "execution_count": 20,
   "metadata": {},
   "outputs": [
    {
     "ename": "OSError",
     "evalue": "[Errno 2] No such file or directory: 'projects'",
     "output_type": "error",
     "traceback": [
      "\u001b[1;31m---------------------------------------------------------------------------\u001b[0m",
      "\u001b[1;31mOSError\u001b[0m                                   Traceback (most recent call last)",
      "\u001b[1;32m<ipython-input-20-a7754840e96b>\u001b[0m in \u001b[0;36m<module>\u001b[1;34m()\u001b[0m\n\u001b[1;32m----> 1\u001b[1;33m \u001b[0mos\u001b[0m\u001b[1;33m.\u001b[0m\u001b[0mlistdir\u001b[0m\u001b[1;33m(\u001b[0m\u001b[1;34m'projects'\u001b[0m\u001b[1;33m)\u001b[0m\u001b[1;33m\u001b[0m\u001b[0m\n\u001b[0m",
      "\u001b[1;31mOSError\u001b[0m: [Errno 2] No such file or directory: 'projects'"
     ]
    }
   ],
   "source": [
    "os.listdir('projects')\n",
    "# The error is pretty self-explanatory."
   ]
  },
  {
   "cell_type": "markdown",
   "metadata": {},
   "source": [
    "Another important module for automating computer tasks is the `zipfile` module that helps for compressing and extracting files to and from zip files.\n",
    "\n",
    "# sys\n",
    "\n",
    "This module provides helps with command line input/output operations.\n",
    "\n",
    "In shell environments there are three ways the shell interacts with the user. We call these I/O connections **standard streams**:\n",
    "\n",
    "- stdin: Is the standard input. This is what we type to the terminal.\n",
    "- stdout: Is the standard output. This is what we see as output.\n",
    "- stderr: Is the standard error. This is an output as well, but it is used for error messages.\n",
    "\n",
    "## stdin\n",
    "\n",
    "We have used `sys.stdin` in the past without knowing it! This module is called for the execution of `input()`. \n",
    "\n",
    "## stderr & stdout\n",
    "\n",
    "These two can be used to manipulate the two output channels."
   ]
  },
  {
   "cell_type": "code",
   "execution_count": 22,
   "metadata": {},
   "outputs": [
    {
     "name": "stderr",
     "output_type": "stream",
     "text": [
      "This is an error message!\n"
     ]
    },
    {
     "name": "stdout",
     "output_type": "stream",
     "text": [
      "This is an output!\n"
     ]
    }
   ],
   "source": [
    "import sys\n",
    "sys.stderr.write('This is an error message!\\n')\n",
    "sys.stderr.flush()\n",
    "sys.stdout.write('This is an output!\\n')"
   ]
  },
  {
   "cell_type": "markdown",
   "metadata": {},
   "source": [
    "Because the output and error messages are being buffered. We can use `.flush()` for forcing an output.\n",
    "\n",
    "`sys.stderr` outputs are a lot of times accompanied by a termination of the script. The easiest way to do that is:\n",
    "```python\n",
    "sys.exit() # terminates the script\n",
    "```\n",
    "\n",
    "# Command line arguments\n",
    "\n",
    "Probably the most common usage of this module is that it allows us to use command line arguments in our scripts.\n",
    "\n",
    "This is done by usilizing `sys.argv`. This is a list that stores all argumets enter from the command line.\n",
    "\n",
    "We have a script called *src_args.py*. This scripy contains the following code.\n",
    "\n",
    "```python\n",
    "from __future__ import print_function\n",
    "import sys\n",
    "\n",
    "print(sys.argv)\n",
    "```\n",
    "\n",
    "If we call a script like this:\n",
    "<pre>python src_args.py arg1 arg2 arg3</pre>\n",
    "\n",
    "Our ouput should be:\n",
    "<pre>['scr_args.py', 'arg1', 'arg2', 'arg3']</pre>\n",
    "\n",
    "Incorporating those arguments into our script depends on the situation and differs each time. It is a good practice to do a lot of checks to make sure that the user inputs what you expect to receive."
   ]
  },
  {
   "cell_type": "markdown",
   "metadata": {},
   "source": [
    "# argparse"
   ]
  }
 ],
 "metadata": {
  "kernelspec": {
   "display_name": "Python 3",
   "language": "python",
   "name": "python3"
  },
  "language_info": {
   "codemirror_mode": {
    "name": "ipython",
    "version": 3
   },
   "file_extension": ".py",
   "mimetype": "text/x-python",
   "name": "python",
   "nbconvert_exporter": "python",
   "pygments_lexer": "ipython3",
   "version": "3.6.3"
  }
 },
 "nbformat": 4,
 "nbformat_minor": 1
}
