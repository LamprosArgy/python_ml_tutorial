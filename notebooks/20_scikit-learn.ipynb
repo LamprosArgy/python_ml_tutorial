{
 "cells": [
  {
   "cell_type": "markdown",
   "metadata": {},
   "source": [
    "# Machine Learning in scikit-learn\n",
    "\n",
    "> [scikit-learn](http://scikit-learn.org/) or *sklearn* is a Machine Learning library in Python. It is fully interoperable with *numpy* and *scipy*.\n",
    "\n",
    "Through this tutorial we will get acquainted with the main functionality of scikit-learn."
   ]
  },
  {
   "cell_type": "code",
   "execution_count": 1,
   "metadata": {},
   "outputs": [],
   "source": [
    "from __future__ import print_function\n",
    "import numpy as np\n",
    "import matplotlib.pyplot as plt\n",
    "%matplotlib inline"
   ]
  },
  {
   "cell_type": "markdown",
   "metadata": {},
   "source": [
    "The first thing we'll do is to load a dataset. Sklearn has a submodule called `datasets` which contains many popular datasets we can use."
   ]
  },
  {
   "cell_type": "code",
   "execution_count": 2,
   "metadata": {},
   "outputs": [
    {
     "name": "stdout",
     "output_type": "stream",
     "text": [
      "dict_keys(['data', 'target', 'target_names', 'DESCR', 'feature_names'])\n"
     ]
    }
   ],
   "source": [
    "from sklearn import datasets\n",
    "iris = datasets.load_iris()\n",
    "print(iris.keys())"
   ]
  },
  {
   "cell_type": "markdown",
   "metadata": {},
   "source": [
    "The `iris` object contains 5 things:\n",
    "- `data` a numpy array containing of the dataset's training examples.\n",
    "- `feature_names` is a list containing the names of each feature.\n",
    "- `target` is an array containing the labels (or targets) for all the examples.\n",
    "- `target_names` is an array containing the names of the three target classes.\n",
    "- `DESCR` is a string containing the description of the dataset."
   ]
  },
  {
   "cell_type": "code",
   "execution_count": 3,
   "metadata": {},
   "outputs": [
    {
     "name": "stdout",
     "output_type": "stream",
     "text": [
      "Iris Plants Database\n",
      "====================\n",
      "\n",
      "Notes\n",
      "-----\n",
      "Data Set Characteristics:\n",
      "    :Number of Instances: 150 (50 in each of three classes)\n",
      "    :Number of Attributes: 4 numeric, predictive attributes and the class\n",
      "    :Attribute Information:\n",
      "        - sepal length in cm\n",
      "        - sepal width in cm\n",
      "        - petal length in cm\n",
      "        - petal width in cm\n",
      "        - class:\n",
      "                - Iris-Setosa\n",
      "                - Iris-Versicolour\n",
      "                - Iris-Virginica\n",
      "    :Summary Statistics:\n",
      "\n",
      "    ============== ==== ==== ======= ===== ====================\n",
      "                    Min  Max   Mean    SD   Class Correlation\n",
      "    ============== ==== ==== ======= ===== ====================\n",
      "    sepal length:   4.3  7.9   5.84   0.83    0.7826\n",
      "    sepal width:    2.0  4.4   3.05   0.43   -0.4194\n",
      "    petal length:   1.0  6.9   3.76   1.76    0.9490  (high!)\n",
      "    petal width:    0.1  2.5   1.20  0.76     0.9565  (high!)\n",
      "    ============== ==== ==== ======= ===== ====================\n",
      "\n",
      "    :Missing Attribute Values: None\n",
      "    :Class Distribution: 33.3% for each of 3 classes.\n",
      "    :Creator: R.A. Fisher\n",
      "    :Donor: Michael Marshall (MARSHALL%PLU@io.arc.nasa.gov)\n",
      "    :Date: July, 1988\n",
      "\n",
      "This is a copy of UCI ML iris datasets.\n",
      "http://archive.ics.uci.edu/ml/datasets/Iris\n",
      "\n",
      "The famous Iris database, first used by Sir R.A Fisher\n",
      "\n",
      "This is perhaps the best known database to be found in the\n",
      "pattern recognition literature.  Fisher's paper is a classic in the field and\n",
      "is referenced frequently to this day.  (See Duda & Hart, for example.)  The\n",
      "data set contains 3 classes of 50 instances each, where each class refers to a\n",
      "type of iris plant.  One class is linearly separable from the other 2; the\n",
      "latter are NOT linearly separable from each other.\n",
      "\n",
      "References\n",
      "----------\n",
      "   - Fisher,R.A. \"The use of multiple measurements in taxonomic problems\"\n",
      "     Annual Eugenics, 7, Part II, 179-188 (1936); also in \"Contributions to\n",
      "     Mathematical Statistics\" (John Wiley, NY, 1950).\n",
      "   - Duda,R.O., & Hart,P.E. (1973) Pattern Classification and Scene Analysis.\n",
      "     (Q327.D83) John Wiley & Sons.  ISBN 0-471-22361-1.  See page 218.\n",
      "   - Dasarathy, B.V. (1980) \"Nosing Around the Neighborhood: A New System\n",
      "     Structure and Classification Rule for Recognition in Partially Exposed\n",
      "     Environments\".  IEEE Transactions on Pattern Analysis and Machine\n",
      "     Intelligence, Vol. PAMI-2, No. 1, 67-71.\n",
      "   - Gates, G.W. (1972) \"The Reduced Nearest Neighbor Rule\".  IEEE Transactions\n",
      "     on Information Theory, May 1972, 431-433.\n",
      "   - See also: 1988 MLC Proceedings, 54-64.  Cheeseman et al\"s AUTOCLASS II\n",
      "     conceptual clustering system finds 3 classes in the data.\n",
      "   - Many, many more ...\n",
      "\n"
     ]
    }
   ],
   "source": [
    "print(iris['DESCR'])"
   ]
  },
  {
   "cell_type": "code",
   "execution_count": 4,
   "metadata": {},
   "outputs": [
    {
     "name": "stdout",
     "output_type": "stream",
     "text": [
      "Features: (150, 4)\n",
      "Labels: (150,)\n",
      "Classes: ['setosa' 'versicolor' 'virginica']\n"
     ]
    }
   ],
   "source": [
    "print('Features:', iris['data'].shape)\n",
    "print('Labels:', iris['target'].shape)\n",
    "print('Classes:', iris['target_names'])"
   ]
  },
  {
   "attachments": {
    "im1.png": {
     "image/png": "[encoded data removed]"
    },
    "im2.png": {
     "image/png": "[encoded data removed]"
    },
    "im3.png": {
     "image/png": "[encoded data removed]"
    }
   },
   "cell_type": "markdown",
   "metadata": {},
   "source": [
    "This dataset contains 150 examples, split over three classes. Each example has 4 features.\n",
    "\n",
    "More information on the datasets scikit-learn provides can he found [here](http://scikit-learn.org/stable/datasets/index.html#datasets).\n",
    "\n",
    "## train/test split\n",
    "\n",
    "The first thing we want to do is to **shuffle** the dataset along its rows and **split** it into two parts. The first will be used to train the classifier; we'll call this the **training set**. The second will be used to evaluate the classifier's performance on and will be referred to as the **test set**. \n",
    "\n",
    "It is crucial **not** to evaluate the classifier's performance on the training set, as they usually suffer from a problem called *overfitting*, which we will investigate later on. It is also important to first shuffle the data before splitting it, so that the test set's distribution matches the training set's.\n",
    "\n",
    "The whole procedure is depicted in the following figures. First, we shuffle and split the data (the percentages are arbitrary):\n",
    "\n",
    "![im1.png](attachment:im1.png)\n",
    "\n",
    "Then we use the training set to train the model:\n",
    "\n",
    "![im2.png](attachment:im2.png)\n",
    "\n",
    "Finally, we evaluate the model's performance on the test set:\n",
    "\n",
    "![im3.png](attachment:im3.png)\n",
    "\n",
    "Scikit-learn has a function to help us with the splitting:"
   ]
  },
  {
   "cell_type": "code",
   "execution_count": 5,
   "metadata": {},
   "outputs": [
    {
     "name": "stdout",
     "output_type": "stream",
     "text": [
      "Full data size:\n",
      "(150, 4) (150,)\n",
      "\n",
      "Training data size:\n",
      "(90, 4) (90,)\n",
      "\n",
      "Test data size:\n",
      "(60, 4) (60,)\n"
     ]
    }
   ],
   "source": [
    "from sklearn.model_selection import train_test_split\n",
    "\n",
    "seed = 13  # random seed for reproducability\n",
    "\n",
    "# This function handles both shuffling and splitting\n",
    "train, test, train_labels, test_labels = train_test_split(iris['data'], iris['target'], test_size=0.4, random_state=seed)\n",
    "print('Full data size:')\n",
    "print(iris['data'].shape, iris['target'].shape)\n",
    "print('\\nTraining data size:')\n",
    "print(train.shape, train_labels.shape)\n",
    "print('\\nTest data size:')\n",
    "print(test.shape, test_labels.shape)"
   ]
  },
  {
   "cell_type": "markdown",
   "metadata": {},
   "source": [
    "## Training classifiers\n",
    "\n",
    "It's time to create a classifier. The first one we will use is [Logistic Regression](http://scikit-learn.org/stable/modules/generated/sklearn.linear_model.LogisticRegression.html). In scikit-learn all models are instances of a class called an *estimator*. This helps us a lot because most estimators share the same methods.\n",
    "\n",
    "The usual way of handling estimators in python is:\n",
    "```python\n",
    "from sklearn.models_family import model  # models_family is the family of classifiers that model belongs to\n",
    "\n",
    "my_model = model(...)  # as arguments we pass the values of any hyperparameters we wish to comtrol\n",
    "\n",
    "my_model.fit(X_train, y_train)  # X_train: training data, y_train: training labels\n",
    "                                # this line handles the complete training phase\n",
    "\n",
    "preds = my_model.predict(X_test)  #  to generate predictions on the test set\n",
    "```"
   ]
  },
  {
   "cell_type": "code",
   "execution_count": 6,
   "metadata": {},
   "outputs": [
    {
     "data": {
      "text/plain": [
       "LogisticRegression(C=1.0, class_weight=None, dual=False, fit_intercept=True,\n",
       "          intercept_scaling=1, max_iter=100, multi_class='ovr', n_jobs=1,\n",
       "          penalty='l2', random_state=None, solver='liblinear', tol=0.0001,\n",
       "          verbose=0, warm_start=False)"
      ]
     },
     "execution_count": 6,
     "metadata": {},
     "output_type": "execute_result"
    }
   ],
   "source": [
    "from sklearn.linear_model import LogisticRegression  # LogisticRegression belongs to the family of linear_models\n",
    "\n",
    "clf = LogisticRegression()  # we will use the default hyperparameter settings\n",
    "\n",
    "clf.fit(train, train_labels)  # train the model. this might take a minute..."
   ]
  },
  {
   "cell_type": "markdown",
   "metadata": {},
   "source": [
    "## Model evaluation\n",
    "\n",
    "OK, we've trained the model. Now we have to see how well it performs. In order to do this we must first define a **metric** (i.e. a function that evaluates the performance of our model). The simplest metric we can use in classification is **accuracy** (i.e. the number of correct predictions, over the number of total predictions). A full guide on scikit-learn metrics can be found [here](http://scikit-learn.org/stable/modules/model_evaluation.html#model-evaluation).\n",
    "\n",
    "Most metrics are scikit-learn functions that accept two arguments: `y_test` (the test set labels) and `y_pred` (the model's predictions on the test set).\n",
    "\n",
    "```python\n",
    "from sklearn.metrics import desired_metric  # import the desired metric\n",
    "\n",
    "y_pred = my_model.predict(X_test)  # generate predictions\n",
    "\n",
    "print(desired_metric(y_test, y_pred))  # print the model's score \n",
    "```"
   ]
  },
  {
   "cell_type": "code",
   "execution_count": 7,
   "metadata": {},
   "outputs": [
    {
     "name": "stdout",
     "output_type": "stream",
     "text": [
      "0.95\n"
     ]
    }
   ],
   "source": [
    "from sklearn.metrics import accuracy_score\n",
    "\n",
    "preds = clf.predict(test)\n",
    "\n",
    "print(accuracy_score(test_labels, preds))"
   ]
  },
  {
   "cell_type": "markdown",
   "metadata": {},
   "source": [
    "So we scored 95% on the test set. While that might appear a good enough result, let's see if we can do better with other ML algorithms."
   ]
  },
  {
   "cell_type": "code",
   "execution_count": 8,
   "metadata": {},
   "outputs": [
    {
     "name": "stdout",
     "output_type": "stream",
     "text": [
      "mlp: 0.9666666666666667\n",
      "knn: 0.95\n",
      "dtc: 0.95\n",
      "svc: 0.9833333333333333\n"
     ]
    },
    {
     "name": "stderr",
     "output_type": "stream",
     "text": [
      "c:\\users\\thano\\appdata\\local\\programs\\python\\python36\\lib\\site-packages\\sklearn\\neural_network\\multilayer_perceptron.py:564: ConvergenceWarning: Stochastic Optimizer: Maximum iterations (200) reached and the optimization hasn't converged yet.\n",
      "  % self.max_iter, ConvergenceWarning)\n"
     ]
    }
   ],
   "source": [
    "from sklearn.neural_network import MLPClassifier\n",
    "from sklearn.neighbors import KNeighborsClassifier\n",
    "from sklearn.tree import DecisionTreeClassifier\n",
    "from sklearn.svm import SVC\n",
    "\n",
    "# We will use the default arguments for all classifiers\n",
    "mlp = MLPClassifier()\n",
    "knn = KNeighborsClassifier()\n",
    "dtc = DecisionTreeClassifier()\n",
    "svc = SVC()\n",
    "\n",
    "# Train the four classifiers\n",
    "mlp.fit(train, train_labels)\n",
    "knn.fit(train, train_labels)\n",
    "dtc.fit(train, train_labels)\n",
    "svc.fit(train, train_labels)\n",
    "\n",
    "# Evaluate the classifiers\n",
    "preds = mlp.predict(test)\n",
    "print('mlp:', accuracy_score(test_labels, preds))\n",
    "preds = knn.predict(test)\n",
    "print('knn:', accuracy_score(test_labels, preds))\n",
    "preds = dtc.predict(test)\n",
    "print('dtc:', accuracy_score(test_labels, preds))\n",
    "preds = svc.predict(test)\n",
    "print('svc:', accuracy_score(test_labels, preds))"
   ]
  },
  {
   "cell_type": "markdown",
   "metadata": {},
   "source": [
    "## Hyperparameters\n",
    "\n",
    "Complex classifiers usually have several **hyperparameters**; parameters that affect the behaviour of the classifier, which we must select in order to achieve the best results. The classifiers we trained above were initialized with default values for their hyperparameters, so their performance was probably **unoptimized**. The selection of hyperparameters can either be **empirical** or through **trial and error**.\n",
    "\n",
    "We'll start by trying to optimize the kNN classifier by choosing the best value of $k$. The most intuitive way of doing so is through a for loop."
   ]
  },
  {
   "cell_type": "code",
   "execution_count": 9,
   "metadata": {},
   "outputs": [
    {
     "name": "stdout",
     "output_type": "stream",
     "text": [
      "Best accuracy 96.67% for k=1\n"
     ]
    },
    {
     "data": {
      "image/png": "[encoded data removed]",
      "text/plain": [
       "<Figure size 504x360 with 1 Axes>"
      ]
     },
     "metadata": {},
     "output_type": "display_data"
    }
   ],
   "source": [
    "knn_accuracies = []\n",
    "for k in range(1, 22, 2):\n",
    "    knn = KNeighborsClassifier(n_neighbors=k)\n",
    "    knn.fit(train, train_labels)\n",
    "    knn_accuracies.append(accuracy_score(test_labels, knn.predict(test)))\n",
    "\n",
    "# Create figure\n",
    "fig = plt.figure(figsize=(7, 5))\n",
    "ax = plt.subplot(111)\n",
    "\n",
    "# Draw figure\n",
    "ax.plot(range(1, 22, 2), knn_accuracies)\n",
    "\n",
    "# Aesthetic parameters\n",
    "ax.set_xticks(range(1, 22, 2))\n",
    "\n",
    "ax.set_xlabel('$k$')\n",
    "ax.set_ylabel('accuracy')\n",
    "\n",
    "ax.spines['right'].set_visible(False)\n",
    "ax.spines['top'].set_visible(False)\n",
    "\n",
    "ax.yaxis.set_ticks_position('left')\n",
    "ax.xaxis.set_ticks_position('bottom')\n",
    "\n",
    "ax.set_title('kNN accuracy on different values of k')\n",
    "\n",
    "print('Best accuracy {:.2f}% for k={}'.format(max(knn_accuracies)*100, list(range(1, 22, 2))[np.argmax(knn_accuracies)]))"
   ]
  },
  {
   "cell_type": "markdown",
   "metadata": {},
   "source": [
    "The procedure above is called **hyperparameter tuning** and can usually improve the performance of the classifier. This is even more important for more complex classifiers with multiple hyper-parameters. For example [Support Vector Machines](http://scikit-learn.org/stable/modules/svm.html) have many parameters we can optimize (for instance its *kernel*, *C* and *gamma*)."
   ]
  },
  {
   "cell_type": "code",
   "execution_count": 10,
   "metadata": {},
   "outputs": [
    {
     "name": "stdout",
     "output_type": "stream",
     "text": [
      "Best accuracy: 100.00%\n"
     ]
    }
   ],
   "source": [
    "lin_svm_accuracies = []\n",
    "\n",
    "for C in [0.1, 1, 10, 100, 1000]:\n",
    "    svc = SVC(C=C, kernel='linear')\n",
    "    svc.fit(train, train_labels)\n",
    "    lin_svm_accuracies.append(accuracy_score(test_labels, svc.predict(test)))\n",
    "\n",
    "rbf_svm_accuracies = []\n",
    "\n",
    "for C in [0.1, 1, 10, 100, 1000]:\n",
    "    for gamma in [0.01, 0.001, 0.0001]:\n",
    "        svc = SVC(C=C, gamma=gamma, kernel='rbf')\n",
    "        svc.fit(train, train_labels)\n",
    "        rbf_svm_accuracies.append(accuracy_score(test_labels, svc.predict(test)))\n",
    "\n",
    "print('Best accuracy: {:.2f}%'.format(max(lin_svm_accuracies + rbf_svm_accuracies)*100))"
   ]
  },
  {
   "cell_type": "markdown",
   "metadata": {},
   "source": [
    "We'll learn more efficient ways of hyperparameter tuning than *for* loops later.\n",
    "\n",
    "## Preprocessing\n",
    "\n",
    "> Any modification performed on the data before feeding them to a ML algorithm.\n",
    "\n",
    "In order to improve the performance of our model, in many occasions we must improve the quality of the data we train it on. The phrase [garbage in, garbage out](https://en.wikipedia.org/wiki/Garbage_in,_garbage_out) is especially applicable in ML and dictates that we must strive to improve the quality of the training data.\n",
    "\n",
    "In a previous tutorial, we've seen several pre-processing steps, including [data cleaning](https://en.wikipedia.org/wiki/Data_cleansing), handling [missing data](https://towardsdatascience.com/how-to-handle-missing-data-8646b18db0d4) and [encoding](https://machinelearningmastery.com/why-one-hot-encode-data-in-machine-learning/) the data.\n",
    "\n",
    "A few more steps we'll learn are [scaling](https://en.wikipedia.org/wiki/Feature_scaling), dimensionality reduction, decomposition and balancing. The latter will be examined in the next tutorial.\n",
    "\n",
    "### Feature scaling\n",
    "\n",
    "Feature scaling is a procedure that maps all features to the same range of values.  Imagine an automobile dataset, where the features are cars' attributes:\n",
    "\n",
    "ID | Engine Capacity (cc) | Power Output (hp) | Fuel Capacity (lt) | Number of Doors | ...\n",
    ":-: | :-: | :-: | :-: | :-: | :-:\n",
    "1 | 1300 | 100 | 40 | 5 | ...\n",
    "2 | 1700 | 140 | 44 | 3 | ...\n",
    "3 | 2000 | 210 | 54 | 5 | ...\n",
    "4 | 3500 | 380 | 62 | 3 | ...\n",
    "... | ... | ... | ... | ... | ...\n",
    "\n",
    "Each feature takes a different range of values:\n",
    "\n",
    "- Engine Capacity ranges from $1000$ to $4000$.\n",
    "- Power Output ranges $70$ to $500$.\n",
    "- Fuel Capacity ranges $35$ to $70$.\n",
    "- Number of doors range from $3$ to $5$.\n",
    "\n",
    "Feature scaling is important for ensuring that ML algorithms pay the same attention to all features. Imagine a kNN classifier that uses the euclidean distance. When attempting to train this model in a dataset whose features differ in range, the distance will be governed by the features that have the broadest range. Another reason is that Gradient Descent converges faster on scaled features.\n",
    "\n",
    "There are two main ways we can scale our features:\n",
    "\n",
    "- **normalization**:\n",
    "$$X_{normalized} = {X - X_{min} \\over X_{max} - X_{min}}$$\n",
    "\n",
    "\n",
    "- **standardization**:\n",
    "$$X_{standardized} = {X- \\mu \\over \\sigma}$$  \n",
    "where $μ$ is the mean and $σ$ is the standard deviation of $X$."
   ]
  },
  {
   "cell_type": "code",
   "execution_count": 11,
   "metadata": {
    "scrolled": true
   },
   "outputs": [
    {
     "data": {
      "image/png": "[encoded data removed]",
      "text/plain": [
       "<Figure size 1440x360 with 4 Axes>"
      ]
     },
     "metadata": {},
     "output_type": "display_data"
    }
   ],
   "source": [
    "from scipy import stats\n",
    "\n",
    "all_positions = ['left', 'right', 'bottom', 'top']\n",
    "\n",
    "fig = plt.figure(figsize=(20,5))\n",
    "\n",
    "f1 = plt.subplot(221)\n",
    "f2 = plt.subplot(222)\n",
    "f3 = plt.subplot(223)\n",
    "f4 = plt.subplot(224)\n",
    "\n",
    "# randomly place 10 values in [-30, 30]\n",
    "x= np.random.randint(-30, 30, size=10)\n",
    "y = [0] * len(x)\n",
    "f1.scatter(x,y)\n",
    "f1.set_title('10 random values in $[-30, 30]$')\n",
    "for position in all_positions:\n",
    "    f1.spines[position].set_visible(False)\n",
    "f1.set_yticks([], [])\n",
    "\n",
    "# add an outlier at +100\n",
    "x = np.append(x, 100)\n",
    "y = [0]*len(x)\n",
    "f2.scatter(x, y)\n",
    "f2.set_title('10 random values in $[-30, 30]$ plus one outlier in $100$')\n",
    "for position in all_positions:\n",
    "    f2.spines[position].set_visible(False)\n",
    "f2.set_yticks([], [])\n",
    "\n",
    "# normalization\n",
    "min_max_x = (x - np.min(x) )/ (np.max(x) - np.min(x))\n",
    "f3.scatter(min_max_x,y)\n",
    "f3.set_title(\"values normalized in $[0,1)$\")\n",
    "for position in all_positions:\n",
    "    f3.spines[position].set_visible(False)\n",
    "f3.set_yticks([], [])\n",
    "\n",
    "# standardization\n",
    "std_x = stats.zscore(x)\n",
    "f4.scatter(std_x, y)\n",
    "f4.set_title(\"values standardized\")\n",
    "for position in all_positions:\n",
    "    f4.spines[position].set_visible(False)\n",
    "f4.set_yticks([], [])\n",
    "\n",
    "plt.tight_layout()"
   ]
  },
  {
   "cell_type": "markdown",
   "metadata": {},
   "source": [
    "Let's see how we add a scaler in scikit-learn. Note that we should fit the scaler **only** on the training set (in order to calculate the mean and standard deviation of this set) and then transform **both** sets with this scaler."
   ]
  },
  {
   "cell_type": "code",
   "execution_count": 12,
   "metadata": {},
   "outputs": [
    {
     "name": "stdout",
     "output_type": "stream",
     "text": [
      "mean: [5.81333333 3.03444444 3.67333333 1.15222222]\n",
      "std:  [0.86373864 0.40910773 1.76545871 0.74225299]\n"
     ]
    }
   ],
   "source": [
    "from sklearn.preprocessing import StandardScaler\n",
    "\n",
    "scaler = StandardScaler()  # define scaler\n",
    "scaler.fit(train)  # fit scaler ONLY on the training data\n",
    "\n",
    "print('mean: {}\\nstd:  {}'.format(scaler.mean_ , scaler.scale_))\n",
    "\n",
    "# transform on both sets:\n",
    "train_scaled = scaler.transform(train)\n",
    "test_scaled = scaler.transform(test)"
   ]
  },
  {
   "cell_type": "markdown",
   "metadata": {},
   "source": [
    "Preprocessing functions also have a `.fit_transform()` methods which we could have used like this:\n",
    "\n",
    "```python\n",
    "train_scaled = scaler.fit_transform(train)  # we should still fit the scaler ONLY on the training data\n",
    "test_scaled = scaler.transform(test)\n",
    "```\n",
    "\n",
    "## Pipelines\n",
    "\n",
    "scikit-learn [pipelines](http://scikit-learn.org/stable/modules/generated/sklearn.pipeline.Pipeline.html) provide a convenient way for incorporating multiple steps in a ML workflow.\n",
    "\n",
    "All intermediate steps in a pipeline must implement both a `.fit()` and a `.transform()` argument (like the scaler we saw before). The last step should be an estimator. We need to pass these steps, sequentially, as a *list* of *tuples*, each containing the name and object of the transform/estimator.\n",
    "\n",
    "```python\n",
    "from sklearn.pipeline import Pipeline\n",
    "\n",
    "pipe = Pipeline([('transform1', transform1), ('transform2', transform2), ..., ('estimator', estimator)])\n",
    "```\n",
    "\n",
    "Let's try to implement a pipeline containing a StandardScaler and a k-NN model. "
   ]
  },
  {
   "cell_type": "code",
   "execution_count": 13,
   "metadata": {},
   "outputs": [
    {
     "name": "stdout",
     "output_type": "stream",
     "text": [
      "0.95\n"
     ]
    }
   ],
   "source": [
    "from sklearn.pipeline import Pipeline\n",
    "\n",
    "scaler = StandardScaler() \n",
    "knn = KNeighborsClassifier(n_neighbors=11)\n",
    "\n",
    "pipe = Pipeline([('standardizer', scaler), ('classifier', knn)])\n",
    "pipe.fit(train, train_labels)\n",
    "preds = pipe.predict(test)\n",
    "print(accuracy_score(test_labels, preds))"
   ]
  },
  {
   "cell_type": "markdown",
   "metadata": {},
   "source": [
    "An easier way to create Pipelines is through scikit-learn `make_pipeline` function. This is a shorthand for the Pipeline constructor, that does not require naming the estimators. Instead, their names will be set to the lowercase of their types automatically.\n",
    "\n",
    "```python\n",
    "from sklearn.pipeline import make_pipeline\n",
    "\n",
    "pipe = make_pipeline(scaler, knn) \n",
    "```\n",
    "\n",
    "## Grid search\n",
    "\n",
    "Before, we attempted to optimize an SVM by selecting its hyperparameters through a for loop. There is a much easier way provided through scikit-learn's [GridSearchCV](http://scikit-learn.org/stable/modules/generated/sklearn.model_selection.GridSearchCV.html#sklearn.model_selection.GridSearchCV). This function takes two main arguments: an estimator (or pipeline) and a *grid* of parameters we want the grid search to consider. The grid could be one of two things:\n",
    "\n",
    "- A dictionary with the hyperparameter names as its keys and a list of values as the corresponding dictionary value:\n",
    "```python\n",
    "grid = {'name1': [val1, val2, val3], 'name2': [val4, val5], ...}\n",
    "```\n",
    "This will force the grid search to search for **all** possible combinations of parameter values:  \n",
    "```python\n",
    "(val1, val4, ...), (val1, val5, ...), (val2, val4, ...), (val2, val5, ...), ... etc.\n",
    "```\n",
    "\n",
    "- A list of such dictionaries:\n",
    "```python\n",
    "grid = [{'name1': [val1, val2, val3], 'name2': [val4, val5], ...},\n",
    "        {'name1': [val1, val2, val3], 'name3': [val6, val7], ...}]\n",
    "```\n",
    "This will create a grid that contains combinations from both dictionaries.\n",
    "\n",
    "After creating such a grid:\n",
    "\n",
    "```python\n",
    "from sklearn.model_selection import GridSearchCV\n",
    "\n",
    "grid = {...}\n",
    "clf = GridSearchCV(estimator, grid)\n",
    "clf.fit(X_train, y_train)  # will search all possible combinations defined by the grid\n",
    "preds = clf.predict(X_test)  # will generate predictions based on the best configuration\n",
    "\n",
    "# In order to access the best model:\n",
    "clf.best_estimator_\n",
    "```\n",
    "\n",
    "We will reproduce the previous hyperparameter tuning we performed, through a grid search."
   ]
  },
  {
   "cell_type": "code",
   "execution_count": 14,
   "metadata": {},
   "outputs": [
    {
     "name": "stdout",
     "output_type": "stream",
     "text": [
      "Best accuracy: 98.33%\n",
      "SVC(C=1, cache_size=200, class_weight=None, coef0=0.0,\n",
      "  decision_function_shape='ovr', degree=3, gamma=0.0001, kernel='linear',\n",
      "  max_iter=-1, probability=False, random_state=None, shrinking=True,\n",
      "  tol=0.001, verbose=False)\n"
     ]
    }
   ],
   "source": [
    "from sklearn.model_selection import GridSearchCV\n",
    "\n",
    "# configurations we searched previously\n",
    "grid = [{'C': [0.1, 1, 10, 100, 1000], 'kernel': ['linear']},\n",
    "        {'C': [0.1, 1, 10, 100, 1000], 'gamma': [0.01, 0.001, 0.0001], 'kernel': ['rbf']}]\n",
    "\n",
    "clf = GridSearchCV(svc, grid, cv=2)\n",
    "clf.fit(train, train_labels)\n",
    "print('Best accuracy: {:.2f}%'.format(accuracy_score(test_labels, clf.predict(test))*100))\n",
    "print(clf.best_estimator_)  # print the best configuration"
   ]
  },
  {
   "cell_type": "markdown",
   "metadata": {},
   "source": [
    "If we use a pipeline instead of an estimator, we need to specify which step each parameter belongs to. This is done by adding both the name of the step and the name of the parameter separated by two underscores. \n",
    "\n",
    "```python\n",
    "pipe = Pipeline([('step1', ...), ...])\n",
    "grid = {'step1__param1`': [val1, ...], ...}  # this dictates param1 from step1 to take the values [val1, ...]\n",
    "clf = GridSearchCV(pipe, grid)\n",
    "clf.fit(X_train, y_train)  # will search all possible combinations defined by the grid\n",
    "preds = clf.predict(X_test)  # will generate predictions based on the best configuration\n",
    "```"
   ]
  },
  {
   "cell_type": "code",
   "execution_count": 15,
   "metadata": {},
   "outputs": [
    {
     "name": "stdout",
     "output_type": "stream",
     "text": [
      "Best accuracy: 95.00%\n",
      "Pipeline(memory=None,\n",
      "     steps=[('standardizer', StandardScaler(copy=True, with_mean=True, with_std=True)), ('classifier', SVC(C=1000, cache_size=200, class_weight=None, coef0=0.0,\n",
      "  decision_function_shape='ovr', degree=3, gamma=0.001, kernel='rbf',\n",
      "  max_iter=-1, probability=False, random_state=None, shrinking=True,\n",
      "  tol=0.001, verbose=False))])\n"
     ]
    }
   ],
   "source": [
    "pipe = Pipeline([('standardizer', scaler), ('classifier', svc)])\n",
    "\n",
    "grid = [{'classifier__C': [0.1, 1, 10, 100, 1000], 'classifier__kernel': ['linear']},\n",
    "        {'classifier__C': [0.1, 1, 10, 100, 1000], 'classifier__gamma': [0.01, 0.001, 0.0001], 'classifier__kernel': ['rbf']}]\n",
    "\n",
    "clf = GridSearchCV(pipe, grid, cv=2)\n",
    "clf.fit(train, train_labels)\n",
    "print('Best accuracy: {:.2f}%'.format(accuracy_score(test_labels, clf.predict(test))*100))\n",
    "print(clf.best_estimator_)  # print the best configuration"
   ]
  }
 ],
 "metadata": {
  "kernelspec": {
   "display_name": "Python 3",
   "language": "python",
   "name": "python3"
  },
  "language_info": {
   "codemirror_mode": {
    "name": "ipython",
    "version": 3
   },
   "file_extension": ".py",
   "mimetype": "text/x-python",
   "name": "python",
   "nbconvert_exporter": "python",
   "pygments_lexer": "ipython3",
   "version": "3.6.3"
  }
 },
 "nbformat": 4,
 "nbformat_minor": 2
}
