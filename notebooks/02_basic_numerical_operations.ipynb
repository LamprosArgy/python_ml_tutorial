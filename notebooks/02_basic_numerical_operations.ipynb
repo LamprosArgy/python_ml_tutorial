{
 "cells": [
  {
   "cell_type": "markdown",
   "metadata": {},
   "source": [
    "# Numerical Operations in Python"
   ]
  },
  {
   "cell_type": "code",
   "execution_count": 1,
   "metadata": {},
   "outputs": [],
   "source": [
    "from __future__ import print_function\n",
    "# we will use the print function in this tutorial for python 2 - 3 compatibility"
   ]
  },
  {
   "cell_type": "code",
   "execution_count": 2,
   "metadata": {},
   "outputs": [],
   "source": [
    "a = 4\n",
    "b = 5\n",
    "c = 6\n",
    "# we'll declare three integers to assist us in our operations"
   ]
  },
  {
   "cell_type": "markdown",
   "metadata": {},
   "source": [
    "If we want to add the first two together (and store the result in a variable we will call `S`):\n",
    "\n",
    "```python\n",
    "S = a + b \n",
    "```\n",
    "\n",
    "The last part of the equation (i.e `a+b`) is the numerical operation. This sums the value stored in the variable `a` with the value stored in `b`.\n",
    "The plus sign (`+`) is called an arithmetic operator.\n",
    "The equal sign is a symbol used for assigning a value to a variable. In this case the result of the operation is assigned to a new variable called `S`."
   ]
  },
  {
   "cell_type": "markdown",
   "metadata": {},
   "source": [
    "## The basic numeric operators in python are: "
   ]
  },
  {
   "cell_type": "code",
   "execution_count": 3,
   "metadata": {},
   "outputs": [
    {
     "name": "stdout",
     "output_type": "stream",
     "text": [
      "a + b = 9\n",
      "c + a = 2\n",
      "b * c = 30\n",
      "c / a = 1.5\n",
      "a % b = 2\n",
      "a // b = 1\n",
      "-a = -4\n",
      "b ** a = 625\n"
     ]
    }
   ],
   "source": [
    "# Sum:\n",
    "S = a + b\n",
    "print('a + b =', S)\n",
    "\n",
    "# Difference:\n",
    "D = c - a\n",
    "print('c + a =', D)\n",
    "\n",
    "# Product:\n",
    "P = b * c\n",
    "print('b * c =', P)\n",
    "\n",
    "# Quotient:\n",
    "Q = c / a\n",
    "print('c / a =', Q)\n",
    "\n",
    "# Remainder:\n",
    "R = c % a \n",
    "print('a % b =', R)\n",
    "\n",
    "# Floored Quotient:\n",
    "F = c // a\n",
    "print('a // b =', F)\n",
    "\n",
    "# Negative:\n",
    "N = -a\n",
    "print('-a =', N)\n",
    "\n",
    "# Power:\n",
    "Pow = b ** a\n",
    "print('b ** a =', Pow)\n"
   ]
  },
  {
   "cell_type": "markdown",
   "metadata": {},
   "source": [
    "What is the difference between `/` and `//` ?\n",
    "\n",
    "The first performs a regular division between two numbers, while the second performs a *euclidean division* **without the remainder**. \n",
    "\n",
    "Important note:  \n",
    "In python 2 `/` would return an integer if the two numbers participating in the division were integers. In that sense:\n",
    "\n",
    "```python\n",
    "Q = 6 / 4  # this would perform a euclidean division because both divisor and dividend are integers!\n",
    "Q = 6.0 / 4 # this would perform a real division because the dividend is a float\n",
    "Q = c / (a * 1.0) # this would perform a real division because the divisor is a float\n",
    "Q = c / float(a) # this would perform a real division because the divisor is a float\n",
    "```\n",
    "\n",
    "One way to make python 2 compatible with python 3 division is to import `division` from the `__future__` package. We will do this for the remainder of this tutorial."
   ]
  },
  {
   "cell_type": "code",
   "execution_count": 4,
   "metadata": {},
   "outputs": [
    {
     "name": "stdout",
     "output_type": "stream",
     "text": [
      "1.5\n"
     ]
    }
   ],
   "source": [
    "from __future__ import division\n",
    "Q = c / a\n",
    "print(Q)"
   ]
  },
  {
   "cell_type": "markdown",
   "metadata": {},
   "source": [
    "We can combine more than one operations in a single line."
   ]
  },
  {
   "cell_type": "code",
   "execution_count": 5,
   "metadata": {},
   "outputs": [
    {
     "name": "stdout",
     "output_type": "stream",
     "text": [
      "3\n"
     ]
    }
   ],
   "source": [
    "E = a + b - c\n",
    "print(E)"
   ]
  },
  {
   "cell_type": "markdown",
   "metadata": {},
   "source": [
    "Priorities are the same as in algebra:  \n",
    "parentheses -> powers -> products -> sums\n",
    "\n",
    "We can also perform more complex assignment operations:"
   ]
  },
  {
   "cell_type": "code",
   "execution_count": 6,
   "metadata": {},
   "outputs": [
    {
     "name": "stdout",
     "output_type": "stream",
     "text": [
      "a = 4\n",
      "S = 9\n",
      "+ a = 13\n",
      "- a = 9\n",
      "* a = 36\n",
      "/ a = 9.0\n",
      "% a = 1.0\n",
      "** a = 1.0\n",
      "// a = 0.0\n"
     ]
    }
   ],
   "source": [
    "print('a =', a)\n",
    "print('S =', S)\n",
    "S += a # equivalent to S = S + a\n",
    "print('+ a =', S)\n",
    "S -= a # equivalent to S = S - a\n",
    "print('- a =', S)\n",
    "S *= a # equivalent to S = S * a\n",
    "print('* a =', S)\n",
    "S /= a # equivalent to S = S / a\n",
    "print('/ a =', S)\n",
    "S %= a # equivalent to S = S % a\n",
    "print('% a =', S)\n",
    "S **= a # equivalent to S = S ** a\n",
    "print('** a =', S)\n",
    "S //= a # equivalent to S = S // a\n",
    "print('// a =', S)"
   ]
  },
  {
   "cell_type": "markdown",
   "metadata": {},
   "source": [
    "## Other operations:"
   ]
  },
  {
   "cell_type": "code",
   "execution_count": 7,
   "metadata": {},
   "outputs": [
    {
     "name": "stdout",
     "output_type": "stream",
     "text": [
      "n = -3\n",
      "absolute(n) = 3\n",
      "complex(n,a) = (-3+4j)\n",
      "conjugate(C) = (-3-4j)\n"
     ]
    }
   ],
   "source": [
    "n = -3\n",
    "print('n =', n)\n",
    "A = abs(n) # Absolute:\n",
    "print('absolute(n) =', A)\n",
    "C = complex(n, a) # Complex: -3+4j\n",
    "print('complex(n,a) =', C)\n",
    "c = C.conjugate() # Conjugate: -3-4j\n",
    "print('conjugate(C) =', c)"
   ]
  },
  {
   "cell_type": "markdown",
   "metadata": {},
   "source": [
    "## Bitwise operations:\n",
    "\n",
    "Operations that first convert a number to its binary equivalent and then perform operations bit by bit bevore converting them again to their original form."
   ]
  },
  {
   "cell_type": "code",
   "execution_count": 8,
   "metadata": {},
   "outputs": [
    {
     "name": "stdout",
     "output_type": "stream",
     "text": [
      "7\n",
      "6\n",
      "1\n",
      "40\n",
      "1\n",
      "-4\n"
     ]
    }
   ],
   "source": [
    "a = 3          # or 011 (in binary)\n",
    "b = 5          # or 101 (in binary)\n",
    "print(a | b)   # bitwise OR: 111 (binary) --> 7 (decimal)\n",
    "print(a ^ b)   # exclusive OR: 110 (binary) --> 6 (decimal)\n",
    "print(a & b)   # bitwise AND: 001 (binary) --> 1 (decimal)\n",
    "print(b << a)  # b shifted left by a bits: 101000 (binary) --> 40 (decimal)\n",
    "print(8 >> a)  # 8 shifted left by a bits: 0001 (binary - was 1000 before shift) --> 1(decimal)\n",
    "print(~a)      # NOT: 100 (binary) --> -4 (decimal)"
   ]
  },
  {
   "cell_type": "markdown",
   "metadata": {},
   "source": [
    "## Built-in methods\n",
    "\n",
    "Some data types have built in methods, for example we can check if a float variable stores an integer as follows:"
   ]
  },
  {
   "cell_type": "code",
   "execution_count": 9,
   "metadata": {},
   "outputs": [
    {
     "name": "stdout",
     "output_type": "stream",
     "text": [
      "True\n",
      "False\n"
     ]
    }
   ],
   "source": [
    "a = 3.0\n",
    "t = a.is_integer()\n",
    "print(t)\n",
    "a = 3.2\n",
    "t = a.is_integer()\n",
    "print(t)"
   ]
  },
  {
   "cell_type": "markdown",
   "metadata": {},
   "source": [
    "Note that the casting operation between floats to integers just discards the decimal part (it doesn't attempt to round the number)."
   ]
  },
  {
   "cell_type": "code",
   "execution_count": 10,
   "metadata": {},
   "outputs": [
    {
     "name": "stdout",
     "output_type": "stream",
     "text": [
      "3\n",
      "3\n"
     ]
    }
   ],
   "source": [
    "print(int(3.21))\n",
    "print(int(3.99))"
   ]
  },
  {
   "cell_type": "markdown",
   "metadata": {},
   "source": [
    "We can always `round` the number beforehand."
   ]
  },
  {
   "cell_type": "code",
   "execution_count": 11,
   "metadata": {},
   "outputs": [
    {
     "data": {
      "text/plain": [
       "4"
      ]
     },
     "execution_count": 11,
     "metadata": {},
     "output_type": "execute_result"
    }
   ],
   "source": [
    "int(round(3.6))"
   ]
  },
  {
   "cell_type": "markdown",
   "metadata": {},
   "source": [
    "## Exercise\n",
    "\n",
    "What do the following operations return?"
   ]
  },
  {
   "cell_type": "raw",
   "metadata": {},
   "source": [
    "E1 = ( 3.2 + 12 ) * 2 / ( 1 + 1 )\n",
    "E2 = abs(-4 ** 3)\n",
    "E3 = complex( 8 % 3, int(-2 * 1.0 / 4)-1 )\n",
    "E4 = (6.0 / 4.0).is_integer()\n",
    "E5 = (4 | 2) ^ (5 & 6)"
   ]
  },
  {
   "cell_type": "markdown",
   "metadata": {},
   "source": [
    "## Python's mathematical functions\n",
    "\n",
    "Most math functions are included in a seperate library called `math`."
   ]
  },
  {
   "cell_type": "code",
   "execution_count": 12,
   "metadata": {},
   "outputs": [
    {
     "name": "stdout",
     "output_type": "stream",
     "text": [
      "exp    =  54.598150033144236\n",
      "log    =  1.3862943611198906\n",
      "log2   =  2.0\n",
      "log10  =  0.6020599913279624\n",
      "sqrt   =  2.0\n",
      "cos    =  -0.6536436208636119\n",
      "sin    =  -0.7568024953079282\n",
      "tan    =  1.1578212823495775\n",
      "arccos =  1.0471975511965979\n",
      "arcsin =  0.5235987755982989\n",
      "arctan =  0.4636476090008061\n",
      "deg    =  229.1831180523293\n",
      "rad    =  0.06981317007977318\n",
      "e      =  2.718281828459045\n",
      "pi     =  3.141592653589793\n"
     ]
    }
   ],
   "source": [
    "import math\n",
    "x = 4\n",
    "\n",
    "print('exp    = ', math.exp(x))    # exponent of x (e**x)\n",
    "print('log    = ',math.log(x))     # natural logarithm (base=e) of x\n",
    "print('log2   = ',math.log(x,2))   # logarithm of x with base 2\n",
    "print('log10  = ',math.log10(x))   # logarithm of x with base 10, equivalent to math.log(x,10)\n",
    "\n",
    "print('sqrt   = ',math.sqrt(x))    # square root\n",
    "\n",
    "print('cos    = ',math.cos(x))     # cosine of x (x is in radians)\n",
    "print('sin    = ',math.sin(x))     # sine\n",
    "print('tan    = ',math.tan(x))     # tangent\n",
    "print('arccos = ',math.acos(.5))   # arc cosine (in radians)\n",
    "print('arcsin = ',math.asin(.5))   # arc sine\n",
    "print('arctan = ',math.atan(.5))   # arc tangent\n",
    "# arc-trigonometric functions only accept values in [-1,1]\n",
    "\n",
    "print('deg    = ',math.degrees(x)) # converts x from radians to degrees\n",
    "print('rad    = ',math.radians(x)) # converts x from degrees to radians\n",
    "\n",
    "print('e      = ',math.e)          # mathematical constant e = 2.718281...\n",
    "print('pi     = ',math.pi)         # mathematical constant pi = 3.141592..."
   ]
  },
  {
   "cell_type": "markdown",
   "metadata": {},
   "source": [
    "The `math` package also provides other functions such as hyperbolic trigonometric functions, error functions, gamma functions etc. "
   ]
  },
  {
   "cell_type": "markdown",
   "metadata": {},
   "source": [
    "## Generating a pseudo-random number\n",
    "\n",
    "Python has a built-in package for generating pseudo-random sequences called `random`."
   ]
  },
  {
   "cell_type": "code",
   "execution_count": 13,
   "metadata": {},
   "outputs": [
    {
     "name": "stdout",
     "output_type": "stream",
     "text": [
      "1\n",
      "21\n",
      "0.7912325286049906\n"
     ]
    }
   ],
   "source": [
    "import random\n",
    "print(random.randint(1,10))\n",
    "# Generates a random integer in [1,10]\n",
    "print(random.randrange(1,100,2))\n",
    "# Generates a random integer from [1,100) with step 2, i.e from 1, 3, 5, ..., 97, 99.\n",
    "print(random.uniform(0,1))\n",
    "# Generates a random float in [0,1]"
   ]
  },
  {
   "cell_type": "markdown",
   "metadata": {},
   "source": [
    "## Example\n",
    "\n",
    "Consider the complex number $3 + 4j$. Calculate it's magnitude and it's angle, then transform it into a tuple of it's polar form."
   ]
  },
  {
   "cell_type": "code",
   "execution_count": 14,
   "metadata": {},
   "outputs": [],
   "source": [
    "z = 3 + 4j"
   ]
  },
  {
   "cell_type": "markdown",
   "metadata": {},
   "source": [
    "### Solution attempt 1 (analytical).  \n",
    "\n",
    "We don't know any of the built-in complex methods and we try to figure out an analytical solution. We will first calculate the real and imaginary parts of the complex number and then we will try to apply the Pythagorean theorem to calculate the magnitude.\n",
    "\n",
    "#### Step 1:  \n",
    "Find the real part of the complex number.\n",
    "We will make use of the mathematical formula: \n",
    "\n",
    "$$Re(z) = \\frac{1}{2} \\cdot ( z + \\overline{z} )$$"
   ]
  },
  {
   "cell_type": "code",
   "execution_count": 15,
   "metadata": {},
   "outputs": [
    {
     "name": "stdout",
     "output_type": "stream",
     "text": [
      "(3+0j)\n"
     ]
    }
   ],
   "source": [
    "rl = ( z + z.conjugate() ) / 2 \n",
    "print(rl)"
   ]
  },
  {
   "cell_type": "markdown",
   "metadata": {},
   "source": [
    "Note that *rl* is still in complex format, even though it represents a real number...\n",
    "\n",
    "#### Step 2:  \n",
    "Find the imaginary part of the complex number.\n",
    "\n",
    "**1st way**, like before, we use the mathematical formula: \n",
    "\n",
    "$$Im(z) = \\frac{z - \\overline{z}}{2i}$$"
   ]
  },
  {
   "cell_type": "code",
   "execution_count": 16,
   "metadata": {},
   "outputs": [
    {
     "name": "stdout",
     "output_type": "stream",
     "text": [
      "(4+0j)\n"
     ]
    }
   ],
   "source": [
    "im = ( z - z.conjugate() ) / 2j\n",
    "print(im)"
   ]
  },
  {
   "cell_type": "markdown",
   "metadata": {},
   "source": [
    "Same as before `im` is in complex format, even though it represents a real number...\n",
    "\n",
    "#### Step 3:  \n",
    "Find the sum of the squares of the real and the imaginary parts:\n",
    "\n",
    "$$ S = Re(z)^2 + Im(z)^2 $$"
   ]
  },
  {
   "cell_type": "code",
   "execution_count": 17,
   "metadata": {},
   "outputs": [
    {
     "name": "stdout",
     "output_type": "stream",
     "text": [
      "(25+0j)\n"
     ]
    }
   ],
   "source": [
    "sq_sum = rl**2 + im**2\n",
    "print(sq_sum)"
   ]
  },
  {
   "cell_type": "markdown",
   "metadata": {},
   "source": [
    "Still we are in complex format.\n",
    "\n",
    "Let's try to calculate it's square root to find out the magnitude:"
   ]
  },
  {
   "cell_type": "code",
   "execution_count": 18,
   "metadata": {},
   "outputs": [
    {
     "ename": "TypeError",
     "evalue": "can't convert complex to float",
     "output_type": "error",
     "traceback": [
      "\u001b[0;31m---------------------------------------------------------------------------\u001b[0m",
      "\u001b[0;31mTypeError\u001b[0m                                 Traceback (most recent call last)",
      "\u001b[0;32m<ipython-input-18-03c79e6f260d>\u001b[0m in \u001b[0;36m<module>\u001b[0;34m()\u001b[0m\n\u001b[0;32m----> 1\u001b[0;31m \u001b[0mmag\u001b[0m \u001b[0;34m=\u001b[0m \u001b[0mmath\u001b[0m\u001b[0;34m.\u001b[0m\u001b[0msqrt\u001b[0m\u001b[0;34m(\u001b[0m\u001b[0msq_sum\u001b[0m\u001b[0;34m)\u001b[0m\u001b[0;34m\u001b[0m\u001b[0m\n\u001b[0m",
      "\u001b[0;31mTypeError\u001b[0m: can't convert complex to float"
     ]
    }
   ],
   "source": [
    "mag = math.sqrt(sq_sum)"
   ]
  },
  {
   "cell_type": "markdown",
   "metadata": {},
   "source": [
    "Oh... so the `math.sqrt()` method doesn't support complex numbers, even though what we're trying to use actually represents a real number. \n",
    "\n",
    "Well, let's try to cast it as an integer and then pass it into *math.sqrt()*."
   ]
  },
  {
   "cell_type": "code",
   "execution_count": 19,
   "metadata": {},
   "outputs": [
    {
     "ename": "TypeError",
     "evalue": "can't convert complex to int",
     "output_type": "error",
     "traceback": [
      "\u001b[0;31m---------------------------------------------------------------------------\u001b[0m",
      "\u001b[0;31mTypeError\u001b[0m                                 Traceback (most recent call last)",
      "\u001b[0;32m<ipython-input-19-c2f76049646c>\u001b[0m in \u001b[0;36m<module>\u001b[0;34m()\u001b[0m\n\u001b[0;32m----> 1\u001b[0;31m \u001b[0msq_sum\u001b[0m \u001b[0;34m=\u001b[0m \u001b[0mint\u001b[0m\u001b[0;34m(\u001b[0m\u001b[0msq_sum\u001b[0m\u001b[0;34m)\u001b[0m\u001b[0;34m\u001b[0m\u001b[0m\n\u001b[0m",
      "\u001b[0;31mTypeError\u001b[0m: can't convert complex to int"
     ]
    }
   ],
   "source": [
    "sq_sum = int(sq_sum)"
   ]
  },
  {
   "cell_type": "markdown",
   "metadata": {},
   "source": [
    "We still get the same error.\n",
    "\n",
    "We're not stuck in a situation where we are trying to do something **mathematically sound**, that the computer refuses to do.\n",
    "But what is causing this error? \n",
    "\n",
    "In math $25$ and $25+0i$ are exactly the same number. Both represent a natural number. But the computer sees them as two different entities entirely. One is an object of the *integer* data type and the other is an object of the *complex* data type. The programmer who wrote the code for the `math.sqrt()` method of the math package, created it so that it can be used on *integers* and *floats* (but not *complex* numbers), even though in our instance the two are semantically the same thing.\n",
    "\n",
    "Ok, so trying our first approach didn't work out. Let's try calculating this another way. We know from complex number theory that:\n",
    "\n",
    "$$ z \\cdot \\overline{z} = Re(z)^2 + Im(z)^2 $$"
   ]
  },
  {
   "cell_type": "code",
   "execution_count": 20,
   "metadata": {},
   "outputs": [
    {
     "ename": "TypeError",
     "evalue": "can't convert complex to float",
     "output_type": "error",
     "traceback": [
      "\u001b[0;31m---------------------------------------------------------------------------\u001b[0m",
      "\u001b[0;31mTypeError\u001b[0m                                 Traceback (most recent call last)",
      "\u001b[0;32m<ipython-input-20-34baad236f06>\u001b[0m in \u001b[0;36m<module>\u001b[0;34m()\u001b[0m\n\u001b[1;32m      1\u001b[0m \u001b[0msq_sum\u001b[0m \u001b[0;34m=\u001b[0m \u001b[0mz\u001b[0m \u001b[0;34m*\u001b[0m \u001b[0mz\u001b[0m\u001b[0;34m.\u001b[0m\u001b[0mconjugate\u001b[0m\u001b[0;34m(\u001b[0m\u001b[0;34m)\u001b[0m\u001b[0;34m\u001b[0m\u001b[0m\n\u001b[0;32m----> 2\u001b[0;31m \u001b[0mmag\u001b[0m \u001b[0;34m=\u001b[0m \u001b[0mmath\u001b[0m\u001b[0;34m.\u001b[0m\u001b[0msqrt\u001b[0m\u001b[0;34m(\u001b[0m\u001b[0msq_sum\u001b[0m\u001b[0;34m)\u001b[0m\u001b[0;34m\u001b[0m\u001b[0m\n\u001b[0m",
      "\u001b[0;31mTypeError\u001b[0m: can't convert complex to float"
     ]
    }
   ],
   "source": [
    "sq_sum = z * z.conjugate()\n",
    "mag = math.sqrt(sq_sum) "
   ]
  },
  {
   "cell_type": "markdown",
   "metadata": {},
   "source": [
    "This didn't work out either...\n",
    "\n",
    "### Solution attempt 2. \n",
    "\n",
    "We know that a complex number represents a vector in the *Re*, *Im* axes. Mathematically speaking the absolute value of a real number is defined differently than the absolute value of a complex one. Graphically though, they can both be defined as the distance of the number from (0,0). If we wanted to calculate the absolute of a real number we should just disregard it's sign and treat it as positive. On the other hand if we wanted to do the same thing to a complex number we would need to calculate the euclidean norm of it's vector (or in other words measure the distance from the complex number to (0,0), using the Pythagorean theorem). So in essence what we are looking for is the absolute value of the complex number.\n",
    "\n",
    "#### Step 1: \n",
    "\n",
    "Calculate the magnitude."
   ]
  },
  {
   "cell_type": "code",
   "execution_count": 21,
   "metadata": {},
   "outputs": [
    {
     "name": "stdout",
     "output_type": "stream",
     "text": [
      "5.0\n"
     ]
    }
   ],
   "source": [
    "mag = abs(z)\n",
    "print(mag)"
   ]
  },
  {
   "cell_type": "markdown",
   "metadata": {},
   "source": [
    "Ironically, this is the exact opposite situation of where we were before. Two things that have totally **different mathematical definitions** and methods of calculation (the absolute value of a complex and an integer), can be calculated using the same function.\n",
    "\n",
    "** 2nd Way:**  \n",
    "As a side note we could have calculated the magnitude using the previous way, if we knew some of the complex numbers' built-in functions:"
   ]
  },
  {
   "cell_type": "code",
   "execution_count": 22,
   "metadata": {},
   "outputs": [
    {
     "name": "stdout",
     "output_type": "stream",
     "text": [
      "real = 3.0\n",
      "imaginary = 4.0\n",
      "magnitude = 5.0\n"
     ]
    }
   ],
   "source": [
    "rl =  z.real\n",
    "print('real =', rl)\n",
    "im = z.imag \n",
    "print('imaginary =', im)\n",
    "# (now that these numbers are floats we can continue and perform operations such as the square root\n",
    "mag = math.sqrt(rl**2 + im**2) # mag = 5.0\n",
    "print('magnitude =', mag)"
   ]
  },
  {
   "cell_type": "markdown",
   "metadata": {},
   "source": [
    "#### Step 2:  \n",
    "Calculate the angle.\n",
    "\n",
    "**1st way: **  \n",
    "First we will calculate the cosine of the angle. The cosine is the real part divided by the magnitude."
   ]
  },
  {
   "cell_type": "code",
   "execution_count": 23,
   "metadata": {},
   "outputs": [
    {
     "name": "stdout",
     "output_type": "stream",
     "text": [
      "0.6\n"
     ]
    }
   ],
   "source": [
    "cos_ang = rl / mag\n",
    "print(cos_ang)"
   ]
  },
  {
   "cell_type": "markdown",
   "metadata": {},
   "source": [
    "To find the angle we use the arc cosine function from the math package."
   ]
  },
  {
   "cell_type": "code",
   "execution_count": 24,
   "metadata": {},
   "outputs": [
    {
     "name": "stdout",
     "output_type": "stream",
     "text": [
      "phase in rad = 0.9272952180016123\n",
      "phase in deg = 53.13010235415599\n"
     ]
    }
   ],
   "source": [
    "ang = math.acos(cos_ang)\n",
    "print('phase in rad =', ang)\n",
    "print('phase in deg =', math.degrees(ang))"
   ]
  },
  {
   "cell_type": "markdown",
   "metadata": {},
   "source": [
    "**2nd way:**  \n",
    "Another way tou find the angle (or more correctly phase) of the complex number is to use a function from the `cmath` (complex math) package."
   ]
  },
  {
   "cell_type": "code",
   "execution_count": 25,
   "metadata": {},
   "outputs": [
    {
     "name": "stdout",
     "output_type": "stream",
     "text": [
      "phase in rad = 0.9272952180016122\n"
     ]
    }
   ],
   "source": [
    "import cmath\n",
    "ang = cmath.phase(z)\n",
    "print('phase in rad =', ang)"
   ]
  },
  {
   "cell_type": "markdown",
   "metadata": {},
   "source": [
    "Without needing to calculate anything beforehand (no *rl* and no *mag* needed).\n",
    "\n",
    "#### Step 3:  \n",
    "Create a tuple of the complex number's polar form:"
   ]
  },
  {
   "cell_type": "code",
   "execution_count": 26,
   "metadata": {},
   "outputs": [
    {
     "name": "stdout",
     "output_type": "stream",
     "text": [
      "(5.0, 0.9272952180016122)\n"
     ]
    }
   ],
   "source": [
    "pol = (mag, ang)\n",
    "print(pol)"
   ]
  },
  {
   "cell_type": "markdown",
   "metadata": {},
   "source": [
    "### Solution attempt 4 (using python's built in cmath package):"
   ]
  },
  {
   "cell_type": "code",
   "execution_count": 27,
   "metadata": {},
   "outputs": [
    {
     "name": "stdout",
     "output_type": "stream",
     "text": [
      "(5.0, 0.9272952180016122)\n"
     ]
    }
   ],
   "source": [
    "pol = cmath.polar(z)\n",
    "print(pol)"
   ]
  },
  {
   "cell_type": "markdown",
   "metadata": {},
   "source": [
    "So... by just knowing of the existance of this package we can solve this exercise in only one line (two, if you count the `import`)\n",
    "\n",
    "**Lesson of the day**: Before attempting to do anything, check if there is a library that can help you out! "
   ]
  }
 ],
 "metadata": {
  "kernelspec": {
   "display_name": "Python 3",
   "language": "python",
   "name": "python3"
  },
  "language_info": {
   "codemirror_mode": {
    "name": "ipython",
    "version": 3
   },
   "file_extension": ".py",
   "mimetype": "text/x-python",
   "name": "python",
   "nbconvert_exporter": "python",
   "pygments_lexer": "ipython3",
   "version": "3.5.2"
  }
 },
 "nbformat": 4,
 "nbformat_minor": 1
}
