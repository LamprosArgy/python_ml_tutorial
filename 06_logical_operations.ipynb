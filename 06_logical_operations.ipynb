{
 "cells": [
  {
   "cell_type": "markdown",
   "metadata": {},
   "source": [
    "# Logical Conditions and Operations in Python\n",
    "\n",
    "Conditional statements allow us to alter the flow of a program based on the outcome of a logical condition."
   ]
  },
  {
   "cell_type": "code",
   "execution_count": 1,
   "metadata": {},
   "outputs": [],
   "source": [
    "from __future__ import print_function\n",
    "# We are going to use the print function in this tutorial."
   ]
  },
  {
   "cell_type": "markdown",
   "metadata": {},
   "source": [
    "## Comparison Operators\n",
    "\n",
    "These operators compare the values of two variables and return `True` or `False` accordingly. These operators are in the heart of any logical condition."
   ]
  },
  {
   "cell_type": "code",
   "execution_count": 2,
   "metadata": {},
   "outputs": [
    {
     "name": "stdout",
     "output_type": "stream",
     "text": [
      "5 == 3: False\n",
      "5 != 3: True\n",
      "5 > 3:  True\n",
      "5 < 3:  False\n",
      "5 >= 3: True\n",
      "5 <= 3: False\n"
     ]
    }
   ],
   "source": [
    "a = 5\n",
    "b = 3\n",
    "\n",
    "print('{} == {}: {}'.format(a, b, a == b)) # Returns True if the two operands are equal: False\n",
    "print('{} != {}: {}'.format(a, b, a != b)) # Returns True if the two operands are different: True\n",
    "print('{} > {}:  {}'.format(a, b, a > b))  # Returns True if the left operand is greater than the right one: True\n",
    "print('{} < {}:  {}'.format(a, b, a < b))  # Returns True if the right operand is greater than the left one: False\n",
    "print('{} >= {}: {}'.format(a, b, a >= b)) # Returns True if the left operand is greater or equal to the right one: True\n",
    "print('{} <= {}: {}'.format(a, b, a <= b)) # Returns True if the right operand is greater or equal to the left one: False"
   ]
  },
  {
   "cell_type": "markdown",
   "metadata": {},
   "source": [
    "## Logical Operators\n",
    "\n",
    "These operators allow is to combine two or more logical conditions into a larger condition that too returns True of False."
   ]
  },
  {
   "cell_type": "code",
   "execution_count": 3,
   "metadata": {},
   "outputs": [
    {
     "name": "stdout",
     "output_type": "stream",
     "text": [
      "True and False: False\n",
      "True or False:  True\n",
      "not True:       False\n"
     ]
    }
   ],
   "source": [
    "t = True\n",
    "f = False\n",
    "\n",
    "print('{} and {}: {}'.format(t, f, t and f)) # Returns True if both operands are True: False\n",
    "print('{} or {}:  {}'.format(t, f, t or f))  # Returns True if one of the two operands is True: True\n",
    "print('not {}:       {}'.format(t, not t))   # Returns the reverse logical state of it's operand: False"
   ]
  },
  {
   "cell_type": "markdown",
   "metadata": {},
   "source": [
    "## Decision Making\n",
    "\n",
    "We can create conditional statements in python with the `if` statement:\n",
    "\n",
    "Syntax is:\n",
    "```python \n",
    "if (logical statement is True): # (does something)\n",
    "```\n",
    "or\n",
    "\n",
    "```python\n",
    "if (logical statement is True):\n",
    "        # (does something)\n",
    "        # (does something else)\n",
    "        # (... and so on)\n",
    "```\n",
    "        \n",
    "Note the **indentation** when expressing multi-line `if` statements. Every line in python must be in the same **indentation level** or else we would raise an *IndentationError*."
   ]
  },
  {
   "cell_type": "code",
   "execution_count": 4,
   "metadata": {},
   "outputs": [
    {
     "name": "stdout",
     "output_type": "stream",
     "text": [
      "yes\n"
     ]
    }
   ],
   "source": [
    "if (a > b): print('yes')  # because the condition is true it prints 'yes'\n",
    "if (a < b): print('yes')  # this time around it doesn't print anything because the condition isn't true"
   ]
  },
  {
   "cell_type": "markdown",
   "metadata": {},
   "source": [
    "`if ... else` statements:\n",
    "\n",
    "```python\n",
    "if (logical statement is True):\n",
    "        # (does something)\n",
    "        # (does something else)\n",
    "        # (... and so on)\n",
    "else:\n",
    "        # (does something if the condition is false)\n",
    "        # (... and so on)\n",
    "```"
   ]
  },
  {
   "cell_type": "code",
   "execution_count": 5,
   "metadata": {},
   "outputs": [
    {
     "name": "stdout",
     "output_type": "stream",
     "text": [
      "a is not smaller than b\n"
     ]
    }
   ],
   "source": [
    "if (a < b): # if the condition is true then execute the indented code below\n",
    "    print('a is smaller than b') # note the indent\n",
    "else: # if the condition is not true then execute the indented code below\n",
    "    print('a is not smaller than b')"
   ]
  },
  {
   "cell_type": "markdown",
   "metadata": {},
   "source": [
    "`elif` statements:\n",
    "\n",
    "```python \n",
    "if (statement1 is True):\n",
    "        # (does something)\n",
    "        # (does something else)\n",
    "        # (... and so on)\n",
    "elif (statement1 is False but statement2 is True):        \n",
    "        # (does something)\n",
    "        # (...)\n",
    "elif (statement1 and statement2 are False but statement3 is True):        \n",
    "        # (...)\n",
    "else:\n",
    "        # (does something if the condition is false)\n",
    "        # (... and so on)\n",
    "```"
   ]
  },
  {
   "cell_type": "code",
   "execution_count": 6,
   "metadata": {},
   "outputs": [
    {
     "name": "stdout",
     "output_type": "stream",
     "text": [
      "a is larger than b\n"
     ]
    }
   ],
   "source": [
    "if (a < b):  # if the condition is true then execute the indented code below\n",
    "    print('a is smaller than b')  # indented line\n",
    "elif (a == b):  # if the first condition is not true but this one is then execute the indented code below\n",
    "    print('a is equal to b')\n",
    "else:  # if none of the above conditions aren't true then execute the indented code below\n",
    "    print('a is larger than b')"
   ]
  },
  {
   "cell_type": "markdown",
   "metadata": {},
   "source": [
    "## Nested if statements\n",
    "\n",
    "This means having an if statement inside another if statement.\n",
    "\n",
    "```python\n",
    "if (statement1):\n",
    "        # (does something if statement1 is True)\n",
    "        if (statement2):\n",
    "            # (does something if statement1 and statement2 are True)\n",
    "            if(statement3):\n",
    "                # (does something if all three statements are True)\n",
    "            else:\n",
    "                # (does something if statements 1 and 2 are True)\n",
    "                # (but statement3 is False)\n",
    "        else:\n",
    "            # (does something if statement1 is True but statement2 is False)\n",
    "else:\n",
    "    # (does something if statement1 is False)\n",
    "```\n",
    "    \n",
    "In the above syntax there is never a state that checks if more than one of the statements are `False`. If we wanted to do something if **all three** logical statements were False, we would need to modify the code accordingly. One way to do so would be:\n",
    "\n",
    "```python\n",
    "if (statement1):\n",
    "        # (same nesting as before)\n",
    "else:\n",
    "    if (not statement2 and not statement3):\n",
    "        # (does something if all three conditions are False)\n",
    "```"
   ]
  },
  {
   "cell_type": "code",
   "execution_count": 7,
   "metadata": {},
   "outputs": [
    {
     "name": "stdout",
     "output_type": "stream",
     "text": [
      "a is positive\n",
      "a is not greater than 100\n"
     ]
    }
   ],
   "source": [
    "if a < 0:\n",
    "    print('a is negative')\n",
    "    if a < -100:  # this if condition is checked only if the first condition (a<0) is met\n",
    "        print('a is smaller than minus 100')\n",
    "    else:\n",
    "        print('a is not smaller than minus 100')\n",
    "elif a == 0:\n",
    "    print('a is zero')\n",
    "else:\n",
    "    print('a is positive')\n",
    "    if a > 100:\n",
    "        print('a is greater than 100')\n",
    "    else:\n",
    "        print('a is not greater than 100')"
   ]
  },
  {
   "cell_type": "markdown",
   "metadata": {},
   "source": [
    "## Example\n",
    "\n",
    "Given a roulette number x find out if it is black/red, odd/even, high/low and which set of 12s or column it belongs to:\n",
    "\n",
    "http://www.casinonewsdaily.com/wp-content/uploads/2015/02/european-roulette-layout.jpeg\n",
    "\n",
    "Imagine the roulette table pictured above. Roulette numbers go from 0 to 36. A given number can be either black or red, odd or even (in this case it is the same as being black or red), it can be small (1-18) or large (19-36), it can belong to one distinct set of 12s (1-12, 13-24, 25-36), it can belong of 3 the columns ( 1,3,...,34  /  2,5,...,35  /  3,6,...,36 ) or it can be 0 (which doesn't belong to any of the above categories)."
   ]
  },
  {
   "cell_type": "code",
   "execution_count": 8,
   "metadata": {},
   "outputs": [
    {
     "name": "stdout",
     "output_type": "stream",
     "text": [
      "The number is: 12\n"
     ]
    }
   ],
   "source": [
    "from random import randint\n",
    "x = randint(0,100)\n",
    "# we don't know what x is, but we know it belongs in [0,100].\n",
    "print('The number is:', x)\n",
    "# Only numbers in [0,36] are valid roulette numbers, though."
   ]
  },
  {
   "cell_type": "code",
   "execution_count": 9,
   "metadata": {},
   "outputs": [
    {
     "name": "stdout",
     "output_type": "stream",
     "text": [
      "This is a valid roulette number!\n",
      "This is an even number!\n",
      "The color is red!\n",
      "This is a small number!\n",
      "This number belongs in the first set of 12s!\n",
      "This number belongs in the third column!\n"
     ]
    }
   ],
   "source": [
    "# First lets check to see if our number is a valid roulette number\n",
    "if x > 36 or x < 0:\n",
    "    print('This is not a valid roulette number!')\n",
    "else:\n",
    "    print('This is a valid roulette number!')\n",
    "    # Now lets check if it is 0 or not\n",
    "    if x == 0:\n",
    "        # actually we don't need to do anything here (because zero doesn't belong in any category\n",
    "        pass  # with this statement we tell the program not do anything.\n",
    "        # if we hadn't used pass then we would get an IndentationError \n",
    "        # (because python expects an indented statement after colons)\n",
    "    else:  # or if it is an integer between 1 and 36\n",
    "        # now lets check the color\n",
    "        if x % 2 == 0:\n",
    "            print('This is an even number!')\n",
    "            print('The color is red!')\n",
    "        else: \n",
    "            print('This is an odd number!')\n",
    "            print('The color is black!')\n",
    "        if x > 18:  # we don't have to check if x <= 36 because we are nested inside the first else statement\n",
    "            print('This is a large number!')\n",
    "            if x > 24:\n",
    "                print('This number belongs in the third set of 12s!')\n",
    "            else:\n",
    "                print('This number belongs in the second set of 12s!')\n",
    "        else:  # or if x <= 18\n",
    "            print('This is a small number!')\n",
    "            if x > 12:\n",
    "                print('This number belongs in the second set of 12s!')\n",
    "            else:  # if x <= 12\n",
    "                print('This number belongs in the first set of 12s!')\n",
    "        # Now that we checked if it is large or small and figured out in which\n",
    "        # set of thirds it belongs to, lets check what column it belongs to:\n",
    "        if (x % 3) == 0:  # if the number divides perfectly with 3 it belongs in the 3rd column\n",
    "            print('This number belongs in the third column!')\n",
    "        elif (x % 3) == 1:  # no need for elif (we could just have used if instead)\n",
    "            print('This number belongs in the first column!')\n",
    "        elif (x % 3) == 2:  # same as before\n",
    "            print('This number belongs in the second column!')"
   ]
  },
  {
   "cell_type": "markdown",
   "metadata": {},
   "source": [
    "## Exercise\n",
    "\n",
    "As an exercise you can try to write a program that does the exact same thing as the previous example. Try to nest everything in a large if condition that checks for the color.\n",
    "\n",
    "Pseudocode follows:"
   ]
  },
  {
   "cell_type": "raw",
   "metadata": {},
   "source": [
    "if (color_check):\n",
    "    if(small/large):\n",
    "        if(...):\n",
    "            ...\n",
    "        else:\n",
    "            ...\n",
    "    else:\n",
    "        ...\n",
    "else:\n",
    "    ..."
   ]
  }
 ],
 "metadata": {
  "kernelspec": {
   "display_name": "Python 3",
   "language": "python",
   "name": "python3"
  },
  "language_info": {
   "codemirror_mode": {
    "name": "ipython",
    "version": 3
   },
   "file_extension": ".py",
   "mimetype": "text/x-python",
   "name": "python",
   "nbconvert_exporter": "python",
   "pygments_lexer": "ipython3",
   "version": "3.6.3"
  }
 },
 "nbformat": 4,
 "nbformat_minor": 1
}
