{
 "cells": [
  {
   "cell_type": "markdown",
   "metadata": {},
   "source": [
    "# Directories and Paths\n",
    "\n",
    "Up till now we've seen how to use python to solve simple math problems, store data in lists etc. But what if we wanted to make something more practical? Something that would help us crate scripts that automate some mundane tasks, such as copying, moving, renaming or deleting files and folders.\n",
    "\n",
    "An important aspect of file organization in operating systems are **paths**. Paths are strings that tell us where a certain file or folder can be found inside a the OS's directory structure. These files are typically organized in a hierarchical tree structure.\n",
    "\n",
    "For example in **Windows** systems, in the root of a boot partition one can find the following folders:\n",
    "- `\\Program Files`: Is where the programs are installed\n",
    "- `\\ProgramData`: Contains program data that are expected to be accessed by computer programs regardless of the user account in the context of which they run.\n",
    "- `\\Users`: Is the user profile folder containing onw subfolder for each user.\n",
    "- `\\Windows`: Windows is installed in this folder.\n",
    "- `\\System`: Is where the DLLs, that implement the core features of Windows are stored.  \n",
    "etc.\n",
    "\n",
    "A path in a windows like system looks like:\n",
    "<pre>C:\\Users\\Thanos\\Projects\\Python\\</pre>\n",
    "\n",
    "This means that my user name is *`Thanos`* and that I have a folder called *`Python`* in another folder called *`Projects`* in my user directory. The *`C:`* part in the beginning means that my root directory is the partition *`C`*.\n",
    "\n",
    "In **UNIX** based systems, have their own directory structure:\n",
    "\n",
    "- `/bin`: Contains the binaries for certain fundamental utilities.\n",
    "- `/boot`: Contains all the files needed for booting.\n",
    "- `/home`: Contains the a subfolder for each user (similar to window's *`\\Users`* folder).\n",
    "- `/lib`: Contains essencial libraries needed for the programs in *`/bin`*.  \n",
    "etc.\n",
    "\n",
    "Unix type paths use regular slashes (`/`) to separate directories.  \n",
    "Ths equivalent path in Unix would be:\n",
    "<pre>/home/thanos/projects/python/</pre>\n",
    "\n",
    "The first slash in the beginning indicates the root directory.\n",
    "\n",
    "Paths are used extensively in computer science to represent the directory/file relationships common in modern operating systems, and are essential in the construction of Uniform Resource Locators (**URL**s). Resources can be represented by either **absolute** or **relative** paths.\n",
    "\n",
    "- An **absolute** or full path points to the same location in a file system, regardless of the current working directory. To do that, it must include the root directory.\n",
    "- A **relative** path starts from some given working directory, avoiding the need to provide the full absolute path. A relative path **never** starts with a slash.\n",
    "\n",
    "From now on, we'll assume a UNIX based operating system.\n",
    "\n",
    "# OS\n",
    "\n",
    "Python's OS module in Python provides a way of using operating system dependent functionality. Let's dive in."
   ]
  },
  {
   "cell_type": "code",
   "execution_count": 1,
   "metadata": {},
   "outputs": [
    {
     "data": {
      "text/plain": [
       "'/home/thanos/Documents/Notes/python/tutorial'"
      ]
     },
     "execution_count": 1,
     "metadata": {},
     "output_type": "execute_result"
    }
   ],
   "source": [
    "from __future__ import print_function\n",
    "import os\n",
    "\n",
    "os.getcwd()"
   ]
  },
  {
   "cell_type": "markdown",
   "metadata": {},
   "source": [
    "This command returns the path of the current working directory (in this case the directory from which the notebook was launched).\n",
    "\n",
    "If we wanted to, say, get a list of all items inside our working directory?"
   ]
  },
  {
   "cell_type": "code",
   "execution_count": 2,
   "metadata": {},
   "outputs": [
    {
     "data": {
      "text/plain": [
       "['05_basic_tuple_dict_operations.py',\n",
       " '16_marplotlib_seaborn.ipynb',\n",
       " 'test_file',\n",
       " '03_basic_string_operations.ipynb',\n",
       " 'scr_args.py',\n",
       " '01_basic_data_types.py',\n",
       " '08_input_output.py',\n",
       " 'custom_module.pyc',\n",
       " '12_exception_handling.ipynb',\n",
       " '06_logical_operations.ipynb',\n",
       " '03_basic_string_operations.py',\n",
       " '18_sklearn.ipynb',\n",
       " '06_logical_operations.py',\n",
       " '15_numpy_scipy.ipynb',\n",
       " '08_input_output.ipynb',\n",
       " '10_classes.ipynb',\n",
       " '13_time_random_ordereddict.ipynb',\n",
       " '09_functions.py',\n",
       " 'pyth',\n",
       " '02_basic_numerical_operations.py',\n",
       " 'a_file.csv',\n",
       " '10_classes.py',\n",
       " '04_basic_list_operations.ipynb',\n",
       " 'test_file.pkl',\n",
       " '04_basic_list_operations.py',\n",
       " '11_modules_and_packages.ipynb',\n",
       " '__pycache__',\n",
       " 'custom_module.py',\n",
       " '01_basic_data_types.ipynb',\n",
       " '00_python_basics.ipynb',\n",
       " '17_pandas.ipynb',\n",
       " '07_iterations.ipynb',\n",
       " '12_exception_handling.py',\n",
       " '00_python_basics.py',\n",
       " '02_basic_numerical_operations.ipynb',\n",
       " '11_modules_and_packages.py',\n",
       " '09_functions.ipynb',\n",
       " '.ipynb_checkpoints',\n",
       " '07_iterations.py',\n",
       " '05_basic_tuple_dict_operations.ipynb',\n",
       " 'pyth~',\n",
       " 'neural_net_example.ipynb',\n",
       " '14_os_sys_shutil.ipynb']"
      ]
     },
     "execution_count": 2,
     "metadata": {},
     "output_type": "execute_result"
    }
   ],
   "source": [
    "original_dir = os.getcwd()\n",
    "os.listdir('.')"
   ]
  },
  {
   "cell_type": "markdown",
   "metadata": {},
   "source": [
    "The previous command needs a path as an argument: `os.listdir(path)`.  \n",
    "To refer to the working directory we use the dot (`.`).\n",
    "\n",
    "Say we want to change the working directory to match the example above (`/home/thanos/projects/python/`)."
   ]
  },
  {
   "cell_type": "code",
   "execution_count": 3,
   "metadata": {},
   "outputs": [
    {
     "ename": "FileNotFoundError",
     "evalue": "[Errno 2] No such file or directory: '/home/thanos/projects/python/'",
     "output_type": "error",
     "traceback": [
      "\u001b[0;31m---------------------------------------------------------------------------\u001b[0m",
      "\u001b[0;31mFileNotFoundError\u001b[0m                         Traceback (most recent call last)",
      "\u001b[0;32m<ipython-input-3-b1b12cbcc9cc>\u001b[0m in \u001b[0;36m<module>\u001b[0;34m()\u001b[0m\n\u001b[0;32m----> 1\u001b[0;31m \u001b[0mos\u001b[0m\u001b[0;34m.\u001b[0m\u001b[0mchdir\u001b[0m\u001b[0;34m(\u001b[0m\u001b[0;34m'/home/thanos/projects/python/'\u001b[0m\u001b[0;34m)\u001b[0m\u001b[0;34m\u001b[0m\u001b[0m\n\u001b[0m",
      "\u001b[0;31mFileNotFoundError\u001b[0m: [Errno 2] No such file or directory: '/home/thanos/projects/python/'"
     ]
    }
   ],
   "source": [
    "os.chdir('/home/thanos/projects/python/')\n",
    "# feel free to change this path to your home dir + projects + python  "
   ]
  },
  {
   "cell_type": "markdown",
   "metadata": {},
   "source": [
    "Oops... the directory doesn't exist. We'll need to create it.\n",
    "\n",
    "Let's change to a one we know exists."
   ]
  },
  {
   "cell_type": "code",
   "execution_count": 4,
   "metadata": {},
   "outputs": [
    {
     "data": {
      "text/plain": [
       "'/home/thanos'"
      ]
     },
     "execution_count": 4,
     "metadata": {},
     "output_type": "execute_result"
    }
   ],
   "source": [
    "home = os.path.expanduser(\"~\")  # identify the user's home directory\n",
    "os.chdir(home)  # change to home directory\n",
    "os.getcwd()  # to confirm"
   ]
  },
  {
   "cell_type": "markdown",
   "metadata": {},
   "source": [
    "Now we need to create a directory named `projects` in our working directory."
   ]
  },
  {
   "cell_type": "code",
   "execution_count": 5,
   "metadata": {},
   "outputs": [
    {
     "data": {
      "text/plain": [
       "'/home/thanos/projects'"
      ]
     },
     "execution_count": 5,
     "metadata": {},
     "output_type": "execute_result"
    }
   ],
   "source": [
    "os.mkdir('projects')  # make directory\n",
    "os.chdir('projects')  # change directory\n",
    "os.getcwd()  # confirm"
   ]
  },
  {
   "cell_type": "markdown",
   "metadata": {},
   "source": [
    "Note that we are using relative paths! This means that we don't have to write the full path each time (`/home/thanos/projects`). \n",
    "\n",
    "In short there are two options when wanting to use paths:\n",
    "- Absolute paths: We instruct python to create a directory in `/home/thanos/projects`.\n",
    "- Relative paths: We tell python to create a directory called `projects`. Where? Where I currently am working from (`/home/thanos/`)\n",
    "\n",
    "The difference between the two is that absolute paths **always** start with a slash (`/`).\n",
    "\n",
    "To merge two paths into one we can use `os.path.join()`. "
   ]
  },
  {
   "cell_type": "code",
   "execution_count": 6,
   "metadata": {},
   "outputs": [
    {
     "data": {
      "text/plain": [
       "'/home/thanos/projects'"
      ]
     },
     "execution_count": 6,
     "metadata": {},
     "output_type": "execute_result"
    }
   ],
   "source": [
    "os.path.join(home, 'projects')"
   ]
  },
  {
   "cell_type": "markdown",
   "metadata": {},
   "source": [
    "Another choice we have is to use our operating system's own commands. We can do this easily:\n",
    "\n",
    "```python\n",
    "os.system(command)\n",
    "```\n",
    "where command is a string containing the command we want to give to our os. For instance in UNIX systems `mkdir /path/name` is the command used to make a directory."
   ]
  },
  {
   "cell_type": "code",
   "execution_count": 7,
   "metadata": {},
   "outputs": [
    {
     "data": {
      "text/plain": [
       "0"
      ]
     },
     "execution_count": 7,
     "metadata": {},
     "output_type": "execute_result"
    }
   ],
   "source": [
    "os.system('mkdir python')  # this should work in windows systems too"
   ]
  },
  {
   "cell_type": "markdown",
   "metadata": {},
   "source": [
    "If these worked correctly we should have created a directory with the path: `/home/thanos/projects/python`. We can easily confirm this."
   ]
  },
  {
   "cell_type": "code",
   "execution_count": 8,
   "metadata": {},
   "outputs": [
    {
     "data": {
      "text/plain": [
       "'/home/thanos/projects/python'"
      ]
     },
     "execution_count": 8,
     "metadata": {},
     "output_type": "execute_result"
    }
   ],
   "source": [
    "os.chdir('python')\n",
    "os.getcwd()"
   ]
  },
  {
   "cell_type": "markdown",
   "metadata": {},
   "source": [
    "A last interesting function of the os module is `os.walk()`. This method generates the file names in a directory tree by walking the tree either top-down or bottom-up.\n",
    "```python\n",
    "os.walk(top[, topdown=True[, onerror=None[, followlinks=False]]])\n",
    "```\n",
    "- `top`: Each directory rooted at directory, yields 3-tuples, i.e., (dirpath, dirnames, filenames)\n",
    "- `topdown`: If optional argument `topdown` is `True` or not specified, directories are scanned from top-down. If `topdown` is set to `False`, directories are scanned from bottom-up.\n",
    "- `onerror`: This can show error to continue with the walk, or raise the exception to abort the walk.\n",
    "- `followlinks`: This visits directories pointed to by symlinks, if set to true."
   ]
  },
  {
   "cell_type": "code",
   "execution_count": 9,
   "metadata": {},
   "outputs": [
    {
     "name": "stdout",
     "output_type": "stream",
     "text": [
      "/home/thanos/projects/python\n"
     ]
    }
   ],
   "source": [
    "for directory, subdirs, files in os.walk(os.path.join(home, 'projects')):\n",
    "    for f in files:\n",
    "        print(os.path.join(directory, f))  # this should recurrsively print all files under '/home/thanos/projects'\n",
    "                                           # currently this is an empty directory, so it won't print anything\n",
    "    for s in subdirs:\n",
    "        print(os.path.join(directory, s))  # this should find the 'python' directory we created during the \n",
    "                                           # previous step"
   ]
  },
  {
   "cell_type": "markdown",
   "metadata": {},
   "source": [
    "We could expand this thought into a function that prints everything under a path:"
   ]
  },
  {
   "cell_type": "code",
   "execution_count": 10,
   "metadata": {},
   "outputs": [
    {
     "name": "stdout",
     "output_type": "stream",
     "text": [
      "/home/thanos/projects/python\n"
     ]
    }
   ],
   "source": [
    "def recurrsive_listdir(path):\n",
    "    for directory, subdirs, files in os.walk(path, topdown=False):\n",
    "        for name in files:\n",
    "            print(os.path.join(directory, name))\n",
    "        for name in subdirs:\n",
    "            print(os.path.join(directory, name))\n",
    "            \n",
    "p = os.path.join(home, 'projects')\n",
    "recurrsive_listdir(p)"
   ]
  },
  {
   "cell_type": "markdown",
   "metadata": {},
   "source": [
    "The above code will scan all the directories and subdirectories in `/home/thanos/projects/` bottom-to-up. If `topdown` was set to `True`, the code will scan the directories top-to-bottom.\n",
    "\n",
    "The OS module also offers a lot more functionality like renaming or removing files, manipulating users, groups, environmental variables, process id's etc.\n",
    "\n",
    "### Important! Don't use:  `from os import *`\n",
    "This will cause the `os.open()` function to override the built-in `open()` function which operates differently!\n",
    "\n",
    "## os.path\n",
    "This is the os module's submodule that contains functions on pathnames. We already saw a couple of functions from this submodule, namely `os.path.expanduser('~')` which returns the home directory of the current user and `os.path.join()` which merges two paths.\n",
    "\n",
    "In order to showcase some of this module's functionality we'll first create a file. Remember we're still working off of  `/home/thanos/projects/python`. "
   ]
  },
  {
   "cell_type": "code",
   "execution_count": 11,
   "metadata": {},
   "outputs": [],
   "source": [
    "with open('test', 'w') as f:\n",
    "    f.write('bla bla bla')"
   ]
  },
  {
   "cell_type": "markdown",
   "metadata": {},
   "source": [
    "Now let's confirm that actually created this file."
   ]
  },
  {
   "cell_type": "code",
   "execution_count": 12,
   "metadata": {},
   "outputs": [
    {
     "data": {
      "text/plain": [
       "['test']"
      ]
     },
     "execution_count": 12,
     "metadata": {},
     "output_type": "execute_result"
    }
   ],
   "source": [
    "os.listdir('.')"
   ]
  },
  {
   "cell_type": "markdown",
   "metadata": {},
   "source": [
    "Note that, we can't tell if this is a file, a directory or even a link. How can we make such a check?"
   ]
  },
  {
   "cell_type": "code",
   "execution_count": 13,
   "metadata": {},
   "outputs": [
    {
     "name": "stdout",
     "output_type": "stream",
     "text": [
      "file: True\n",
      "directory: False\n",
      "link: False\n",
      "mount point: False\n"
     ]
    }
   ],
   "source": [
    "print('file:', os.path.isfile('test'))  # checks if 'test' is a file\n",
    "print('directory:', os.path.isdir('test'))  # checks if 'test' is a directory\n",
    "print('link:', os.path.islink('test'))  # checks if 'test' is a link\n",
    "print('mount point:', os.path.ismount('test'))  # checks if 'test' is a mount point"
   ]
  },
  {
   "cell_type": "markdown",
   "metadata": {},
   "source": [
    "We can learn other things about our file, such as it's size or the time from it's last modification:"
   ]
  },
  {
   "cell_type": "code",
   "execution_count": 14,
   "metadata": {},
   "outputs": [
    {
     "name": "stdout",
     "output_type": "stream",
     "text": [
      "last modified:  1524836254.9658806\n",
      "file size:  11\n"
     ]
    }
   ],
   "source": [
    "print('last modified: ', os.path.getmtime('test'))\n",
    "print('file size: ', os.path.getsize('test'))"
   ]
  },
  {
   "cell_type": "markdown",
   "metadata": {},
   "source": [
    "The first one returns the time of the last modification (in seconds) since the epoch. The second one is the filesize in bytes.\n",
    "\n",
    "The former can be converted to a more human readable format through the `time` module, which is capable of handling such formats. "
   ]
  },
  {
   "cell_type": "code",
   "execution_count": 15,
   "metadata": {},
   "outputs": [
    {
     "data": {
      "text/plain": [
       "'Fri Apr 27 16:37:34 2018'"
      ]
     },
     "execution_count": 15,
     "metadata": {},
     "output_type": "execute_result"
    }
   ],
   "source": [
    "import time\n",
    "time.ctime(os.path.getmtime('test'))"
   ]
  },
  {
   "cell_type": "markdown",
   "metadata": {},
   "source": [
    "We can also check if the path is an absolute path or not."
   ]
  },
  {
   "cell_type": "code",
   "execution_count": 16,
   "metadata": {},
   "outputs": [
    {
     "name": "stdout",
     "output_type": "stream",
     "text": [
      "True\n",
      "False\n"
     ]
    }
   ],
   "source": [
    "print(os.path.isabs('/absolute/path'))\n",
    "print(os.path.isabs('relative/path'))"
   ]
  },
  {
   "cell_type": "markdown",
   "metadata": {},
   "source": [
    "This, in UNIX systems, just checks if there is a slash in front of the path. It **doesn't ** check if this actual path is valid.\n",
    "\n",
    "For this, we use the `os.path.exists(path)` function."
   ]
  },
  {
   "cell_type": "code",
   "execution_count": 17,
   "metadata": {},
   "outputs": [
    {
     "name": "stdout",
     "output_type": "stream",
     "text": [
      "True\n",
      "False\n"
     ]
    }
   ],
   "source": [
    "print(os.path.exists(os.path.join(p, 'python', 'test')))\n",
    "print(os.path.exists(os.path.join(p, 'python', 'wrong')))"
   ]
  },
  {
   "cell_type": "markdown",
   "metadata": {},
   "source": [
    "We can also convert a relative to an absolute path."
   ]
  },
  {
   "cell_type": "code",
   "execution_count": 18,
   "metadata": {},
   "outputs": [
    {
     "name": "stdout",
     "output_type": "stream",
     "text": [
      "/home/thanos/projects/python/test\n"
     ]
    }
   ],
   "source": [
    "print(os.path.abspath('test'))"
   ]
  },
  {
   "cell_type": "markdown",
   "metadata": {},
   "source": [
    "This just joins the **working directory** to the relative path:\n",
    "\n",
    "<pre> absolute = cwd + relative </pre>\n",
    "\n",
    "Alternatively, if we know where a file is located, we can join that with the filename to create the absolute path."
   ]
  },
  {
   "cell_type": "code",
   "execution_count": 19,
   "metadata": {},
   "outputs": [
    {
     "ename": "AttributeError",
     "evalue": "module 'os' has no attribute 'join'",
     "output_type": "error",
     "traceback": [
      "\u001b[0;31m---------------------------------------------------------------------------\u001b[0m",
      "\u001b[0;31mAttributeError\u001b[0m                            Traceback (most recent call last)",
      "\u001b[0;32m<ipython-input-19-4b617c14b80a>\u001b[0m in \u001b[0;36m<module>\u001b[0;34m()\u001b[0m\n\u001b[1;32m      1\u001b[0m \u001b[0mfile_location\u001b[0m \u001b[0;34m=\u001b[0m \u001b[0;34m'/an/absolute/path'\u001b[0m\u001b[0;34m\u001b[0m\u001b[0m\n\u001b[1;32m      2\u001b[0m \u001b[0mfilename\u001b[0m \u001b[0;34m=\u001b[0m \u001b[0;34m'a_file'\u001b[0m\u001b[0;34m\u001b[0m\u001b[0m\n\u001b[0;32m----> 3\u001b[0;31m \u001b[0mos\u001b[0m\u001b[0;34m.\u001b[0m\u001b[0mjoin\u001b[0m\u001b[0;34m(\u001b[0m\u001b[0mfile_location\u001b[0m\u001b[0;34m,\u001b[0m \u001b[0mfilename\u001b[0m\u001b[0;34m)\u001b[0m\u001b[0;34m\u001b[0m\u001b[0m\n\u001b[0m",
      "\u001b[0;31mAttributeError\u001b[0m: module 'os' has no attribute 'join'"
     ]
    }
   ],
   "source": [
    "file_location = '/an/absolute/path'\n",
    "filename = 'a_file'\n",
    "os.join(file_location, filename)"
   ]
  },
  {
   "cell_type": "markdown",
   "metadata": {},
   "source": [
    "Other functions of the `os.path` module can split paths into lists, join lists into paths etc.\n",
    "\n",
    "# pathlib\n",
    "\n",
    "While the `os` module provides most of the functionality we might need, some commands might get a bit overwhelming. For example to get a list of the *absolute* paths in everything under a certain path, probably the easiest way would be:\n",
    "\n",
    "```python\n",
    "path = '/a/path/to/list/its/contents'\n",
    "[os.path.join(path, x) for x in os.listdir(path)]\n",
    "```\n",
    "Ok, that's not so hard. But what if we wanted to list **only** the python scripts (the ones that end with *.py*) under that path.\n",
    "\n",
    "```python\n",
    "path = '/a/path/to/list/its/contents'\n",
    "[os.path.join(path, x) for x in os.listdir(path) if x.endswith('.py')]\n",
    "```\n",
    "How about searching all directories one level below `path` for python scripts.\n",
    "\n",
    "```python\n",
    "scripts = []\n",
    "for s in [os.path.join(path, d) for d in os.listdir(path) if os.path.isdir(os.path.join(path, d))]:\n",
    "    scripts += [os.path.join(path, s, x) for x in os.listdir(s) if x.endswith('.py')]\n",
    "```\n",
    "\n",
    "Things get out of hand really quick. **Pathlib** creates an easy way to handle paths in python. "
   ]
  },
  {
   "cell_type": "code",
   "execution_count": 20,
   "metadata": {},
   "outputs": [
    {
     "data": {
      "text/plain": [
       "PosixPath('/home/thanos/projects/python')"
      ]
     },
     "execution_count": 20,
     "metadata": {},
     "output_type": "execute_result"
    }
   ],
   "source": [
    "from pathlib import Path\n",
    "\n",
    "p = Path.cwd()\n",
    "p"
   ]
  },
  {
   "cell_type": "markdown",
   "metadata": {},
   "source": [
    "Joining paths is much easier in pathlib."
   ]
  },
  {
   "cell_type": "code",
   "execution_count": 21,
   "metadata": {},
   "outputs": [
    {
     "name": "stdout",
     "output_type": "stream",
     "text": [
      "/home/thanos/projects/python\n",
      "/home/thanos/projects/python\n",
      "/home/thanos/projects/python\n"
     ]
    }
   ],
   "source": [
    "print(Path(home) / 'projects' / 'python')  # join paths with a simple slash operator (/)\n",
    "print(Path.home() / 'projects' / 'python')  # identify home folder instead of casting as Path\n",
    "print(Path.home().joinpath(*['projects', 'python']))  # join paths from a list"
   ]
  },
  {
   "cell_type": "markdown",
   "metadata": {},
   "source": [
    "While still supporting most of the functionality provided by `os`."
   ]
  },
  {
   "cell_type": "code",
   "execution_count": 22,
   "metadata": {},
   "outputs": [
    {
     "name": "stdout",
     "output_type": "stream",
     "text": [
      "True\n",
      "False\n",
      "('/', 'home', 'thanos', 'projects', 'python')\n",
      "/home/thanos/projects/python\n",
      "/home/thanos/projects\n"
     ]
    }
   ],
   "source": [
    "print(p.is_dir())    # checks if p is a directory\n",
    "print(p.is_file())   # checks if p is a file\n",
    "print(p.parts)       # splits the path into parts\n",
    "print(p.absolute())  # gets the absolute path of p\n",
    "print(p.parent)      # returns the parend dir of p"
   ]
  },
  {
   "cell_type": "markdown",
   "metadata": {},
   "source": [
    "Where pathlib shines is in identifying **glob** patterns. To better illustrate this lets have a look at our original directory. To list all files, we can use the `*` glob wildcard."
   ]
  },
  {
   "cell_type": "code",
   "execution_count": 23,
   "metadata": {},
   "outputs": [
    {
     "data": {
      "text/plain": [
       "[PosixPath('/home/thanos/Documents/Notes/python/tutorial/05_basic_tuple_dict_operations.py'),\n",
       " PosixPath('/home/thanos/Documents/Notes/python/tutorial/16_marplotlib_seaborn.ipynb'),\n",
       " PosixPath('/home/thanos/Documents/Notes/python/tutorial/test_file'),\n",
       " PosixPath('/home/thanos/Documents/Notes/python/tutorial/03_basic_string_operations.ipynb'),\n",
       " PosixPath('/home/thanos/Documents/Notes/python/tutorial/scr_args.py'),\n",
       " PosixPath('/home/thanos/Documents/Notes/python/tutorial/01_basic_data_types.py'),\n",
       " PosixPath('/home/thanos/Documents/Notes/python/tutorial/08_input_output.py'),\n",
       " PosixPath('/home/thanos/Documents/Notes/python/tutorial/custom_module.pyc'),\n",
       " PosixPath('/home/thanos/Documents/Notes/python/tutorial/12_exception_handling.ipynb'),\n",
       " PosixPath('/home/thanos/Documents/Notes/python/tutorial/06_logical_operations.ipynb'),\n",
       " PosixPath('/home/thanos/Documents/Notes/python/tutorial/03_basic_string_operations.py'),\n",
       " PosixPath('/home/thanos/Documents/Notes/python/tutorial/18_sklearn.ipynb'),\n",
       " PosixPath('/home/thanos/Documents/Notes/python/tutorial/06_logical_operations.py'),\n",
       " PosixPath('/home/thanos/Documents/Notes/python/tutorial/15_numpy_scipy.ipynb'),\n",
       " PosixPath('/home/thanos/Documents/Notes/python/tutorial/08_input_output.ipynb'),\n",
       " PosixPath('/home/thanos/Documents/Notes/python/tutorial/10_classes.ipynb'),\n",
       " PosixPath('/home/thanos/Documents/Notes/python/tutorial/13_time_random_ordereddict.ipynb'),\n",
       " PosixPath('/home/thanos/Documents/Notes/python/tutorial/09_functions.py'),\n",
       " PosixPath('/home/thanos/Documents/Notes/python/tutorial/pyth'),\n",
       " PosixPath('/home/thanos/Documents/Notes/python/tutorial/02_basic_numerical_operations.py'),\n",
       " PosixPath('/home/thanos/Documents/Notes/python/tutorial/a_file.csv'),\n",
       " PosixPath('/home/thanos/Documents/Notes/python/tutorial/10_classes.py'),\n",
       " PosixPath('/home/thanos/Documents/Notes/python/tutorial/04_basic_list_operations.ipynb'),\n",
       " PosixPath('/home/thanos/Documents/Notes/python/tutorial/test_file.pkl'),\n",
       " PosixPath('/home/thanos/Documents/Notes/python/tutorial/04_basic_list_operations.py'),\n",
       " PosixPath('/home/thanos/Documents/Notes/python/tutorial/11_modules_and_packages.ipynb'),\n",
       " PosixPath('/home/thanos/Documents/Notes/python/tutorial/__pycache__'),\n",
       " PosixPath('/home/thanos/Documents/Notes/python/tutorial/custom_module.py'),\n",
       " PosixPath('/home/thanos/Documents/Notes/python/tutorial/01_basic_data_types.ipynb'),\n",
       " PosixPath('/home/thanos/Documents/Notes/python/tutorial/00_python_basics.ipynb'),\n",
       " PosixPath('/home/thanos/Documents/Notes/python/tutorial/17_pandas.ipynb'),\n",
       " PosixPath('/home/thanos/Documents/Notes/python/tutorial/07_iterations.ipynb'),\n",
       " PosixPath('/home/thanos/Documents/Notes/python/tutorial/12_exception_handling.py'),\n",
       " PosixPath('/home/thanos/Documents/Notes/python/tutorial/00_python_basics.py'),\n",
       " PosixPath('/home/thanos/Documents/Notes/python/tutorial/02_basic_numerical_operations.ipynb'),\n",
       " PosixPath('/home/thanos/Documents/Notes/python/tutorial/11_modules_and_packages.py'),\n",
       " PosixPath('/home/thanos/Documents/Notes/python/tutorial/09_functions.ipynb'),\n",
       " PosixPath('/home/thanos/Documents/Notes/python/tutorial/.ipynb_checkpoints'),\n",
       " PosixPath('/home/thanos/Documents/Notes/python/tutorial/07_iterations.py'),\n",
       " PosixPath('/home/thanos/Documents/Notes/python/tutorial/05_basic_tuple_dict_operations.ipynb'),\n",
       " PosixPath('/home/thanos/Documents/Notes/python/tutorial/pyth~'),\n",
       " PosixPath('/home/thanos/Documents/Notes/python/tutorial/neural_net_example.ipynb'),\n",
       " PosixPath('/home/thanos/Documents/Notes/python/tutorial/14_os_sys_shutil.ipynb')]"
      ]
     },
     "execution_count": 23,
     "metadata": {},
     "output_type": "execute_result"
    }
   ],
   "source": [
    "list(Path(original_dir).glob('*'))"
   ]
  },
  {
   "cell_type": "markdown",
   "metadata": {},
   "source": [
    "This lists everything under `original_dir`. Note that every path is absolute. If we want to find only the `.py` files we can instruct pathlib to look for the pattern `'*.py'`, which means *every file ending with `.py`*. "
   ]
  },
  {
   "cell_type": "code",
   "execution_count": 24,
   "metadata": {},
   "outputs": [
    {
     "data": {
      "text/plain": [
       "[PosixPath('/home/thanos/Documents/Notes/python/tutorial/05_basic_tuple_dict_operations.py'),\n",
       " PosixPath('/home/thanos/Documents/Notes/python/tutorial/scr_args.py'),\n",
       " PosixPath('/home/thanos/Documents/Notes/python/tutorial/01_basic_data_types.py'),\n",
       " PosixPath('/home/thanos/Documents/Notes/python/tutorial/08_input_output.py'),\n",
       " PosixPath('/home/thanos/Documents/Notes/python/tutorial/03_basic_string_operations.py'),\n",
       " PosixPath('/home/thanos/Documents/Notes/python/tutorial/06_logical_operations.py'),\n",
       " PosixPath('/home/thanos/Documents/Notes/python/tutorial/09_functions.py'),\n",
       " PosixPath('/home/thanos/Documents/Notes/python/tutorial/02_basic_numerical_operations.py'),\n",
       " PosixPath('/home/thanos/Documents/Notes/python/tutorial/10_classes.py'),\n",
       " PosixPath('/home/thanos/Documents/Notes/python/tutorial/04_basic_list_operations.py'),\n",
       " PosixPath('/home/thanos/Documents/Notes/python/tutorial/custom_module.py'),\n",
       " PosixPath('/home/thanos/Documents/Notes/python/tutorial/12_exception_handling.py'),\n",
       " PosixPath('/home/thanos/Documents/Notes/python/tutorial/00_python_basics.py'),\n",
       " PosixPath('/home/thanos/Documents/Notes/python/tutorial/11_modules_and_packages.py'),\n",
       " PosixPath('/home/thanos/Documents/Notes/python/tutorial/07_iterations.py')]"
      ]
     },
     "execution_count": 24,
     "metadata": {},
     "output_type": "execute_result"
    }
   ],
   "source": [
    "list(Path(original_dir).glob('*.py'))"
   ]
  },
  {
   "cell_type": "markdown",
   "metadata": {},
   "source": [
    "To look for every `.py` file in the directories under `original_dir`, we could simply write:\n",
    "\n",
    "```python\n",
    "list(Path(original_dir).glob('*/*.py'))\n",
    "```\n",
    "Because we don't have any files that match this we will move up one level first."
   ]
  },
  {
   "cell_type": "code",
   "execution_count": 25,
   "metadata": {},
   "outputs": [
    {
     "data": {
      "text/plain": [
       "[PosixPath('/home/thanos/Documents/Notes/python/tutorial/../theano/theano.py'),\n",
       " PosixPath('/home/thanos/Documents/Notes/python/tutorial/../tutorial/05_basic_tuple_dict_operations.py'),\n",
       " PosixPath('/home/thanos/Documents/Notes/python/tutorial/../tutorial/scr_args.py'),\n",
       " PosixPath('/home/thanos/Documents/Notes/python/tutorial/../tutorial/01_basic_data_types.py'),\n",
       " PosixPath('/home/thanos/Documents/Notes/python/tutorial/../tutorial/08_input_output.py'),\n",
       " PosixPath('/home/thanos/Documents/Notes/python/tutorial/../tutorial/03_basic_string_operations.py'),\n",
       " PosixPath('/home/thanos/Documents/Notes/python/tutorial/../tutorial/06_logical_operations.py'),\n",
       " PosixPath('/home/thanos/Documents/Notes/python/tutorial/../tutorial/09_functions.py'),\n",
       " PosixPath('/home/thanos/Documents/Notes/python/tutorial/../tutorial/02_basic_numerical_operations.py'),\n",
       " PosixPath('/home/thanos/Documents/Notes/python/tutorial/../tutorial/10_classes.py'),\n",
       " PosixPath('/home/thanos/Documents/Notes/python/tutorial/../tutorial/04_basic_list_operations.py'),\n",
       " PosixPath('/home/thanos/Documents/Notes/python/tutorial/../tutorial/custom_module.py'),\n",
       " PosixPath('/home/thanos/Documents/Notes/python/tutorial/../tutorial/12_exception_handling.py'),\n",
       " PosixPath('/home/thanos/Documents/Notes/python/tutorial/../tutorial/00_python_basics.py'),\n",
       " PosixPath('/home/thanos/Documents/Notes/python/tutorial/../tutorial/11_modules_and_packages.py'),\n",
       " PosixPath('/home/thanos/Documents/Notes/python/tutorial/../tutorial/07_iterations.py')]"
      ]
     },
     "execution_count": 25,
     "metadata": {},
     "output_type": "execute_result"
    }
   ],
   "source": [
    "list(Path(original_dir).glob('../*/*.py'))"
   ]
  },
  {
   "cell_type": "markdown",
   "metadata": {},
   "source": [
    "We will explain what the two dots (`..`) are in a bit. Finally, for a recurrsive search (looking under **all** subdirectories under a certain path) we could use `.rglob()`:\n",
    "\n",
    "```python\n",
    "list(path.rglob(pattern))\n",
    "```\n",
    "\n",
    "# shutil\n",
    "\n",
    "The shutil module offers a number of high-level operations on files and collections of files. In particular, functions are provided which support file copying and removal.  \n",
    "\n",
    "The shutil module helps you automate copying files and directories. This saves the steps of opening, reading, writing and closing files when there is no actual processing.\n",
    "\n",
    "```python\n",
    "shutil.copy(source, destination)\n",
    "```\n",
    "Copies file from path `source` to `destination`."
   ]
  },
  {
   "cell_type": "code",
   "execution_count": 26,
   "metadata": {},
   "outputs": [
    {
     "data": {
      "text/plain": [
       "['test3', 'test', 'test2']"
      ]
     },
     "execution_count": 26,
     "metadata": {},
     "output_type": "execute_result"
    }
   ],
   "source": [
    "import shutil\n",
    "\n",
    "pt = os.path.join(home, 'projects', 'python')\n",
    "shutil.copy('test', 'test2') # relative paths\n",
    "shutil.copy(os.path.join(pt, 'test'), os.path.join(pt, 'test3')) # absolute paths\n",
    "os.listdir('.')"
   ]
  },
  {
   "cell_type": "markdown",
   "metadata": {},
   "source": [
    "There are also more specific `shutil` functions that allow us to copy a file's metadata, contents or permissions.\n",
    "\n",
    "Another useful feature of `shutil` is the `copytree` function.\n",
    "\n",
    "```python\n",
    "shutil.copytree(src, dst, symlinks=False, ignore=None)\n",
    "```\n",
    "- `src` is the source path.\n",
    "- `dst` is the destination path.\n",
    "- If `symlinks` is `True`, symbolic links in the source tree are represented as symbolic links in the new tree, but the metadata of the original links is not copied; if false or omitted, the contents and metadata of the linked files are copied to the new tree.\n",
    "- `ignore` is a list of paths (as returned from `os.listdir()`) that won't be copied."
   ]
  },
  {
   "cell_type": "code",
   "execution_count": 27,
   "metadata": {},
   "outputs": [
    {
     "name": "stdout",
     "output_type": "stream",
     "text": [
      "/home/thanos/projects/projects2/python/test3\n",
      "/home/thanos/projects/projects2/python/test\n",
      "/home/thanos/projects/projects2/python/test2\n",
      "/home/thanos/projects/projects2/python\n",
      "/home/thanos/projects/python/test3\n",
      "/home/thanos/projects/python/test\n",
      "/home/thanos/projects/python/test2\n",
      "/home/thanos/projects/projects2\n",
      "/home/thanos/projects/python\n"
     ]
    }
   ],
   "source": [
    "shutil.copytree('../../projects', '../projects2')\n",
    "# copies /home/thanos/projects to /home/thanos/projects/projects2\n",
    "recurrsive_listdir(str(p.parent))\n",
    "# prints all the directory tree along with it's contents in /home/thanos/projects "
   ]
  },
  {
   "cell_type": "markdown",
   "metadata": {},
   "source": [
    "First of all what we did with the `shutil.copytree()` command was to copy the whole `projects` directory to a subdirectory called `projects2` inside `projects`. \n",
    "\n",
    "Secondly, we saw a new way of referring to paths: the two dots `..`  \n",
    "The two dots refer to the parent directory, or the directory one level up in the hierarchy.\n",
    "\n",
    "So if our working directory is `/home/thanos/projects/python/`:\n",
    "- `..` is `/home/thanos/projects/`\n",
    "- `../..` is `/home/thanos/`\n",
    "etc\n",
    "\n",
    "With shutil we can also move a file or directory from a location `src` to another `dst`."
   ]
  },
  {
   "cell_type": "code",
   "execution_count": 28,
   "metadata": {},
   "outputs": [
    {
     "name": "stdout",
     "output_type": "stream",
     "text": [
      "['test3', 'projects2', 'python']\n",
      "['test', 'test2']\n"
     ]
    }
   ],
   "source": [
    "shutil.move('test3', '..')\n",
    "# moves /home/thanos/projects/python/test3 to /home/thanos/projects/test3\n",
    "print(os.listdir('..'))\n",
    "# lists files and directories in /home/thanos/projects\n",
    "print(os.listdir('.'))\n",
    "# lists files and directories in /home/thanos/projects/python"
   ]
  },
  {
   "cell_type": "markdown",
   "metadata": {},
   "source": [
    "We can confirm it has been moved.\n",
    "\n",
    "This module also offers tools for removing directory trees."
   ]
  },
  {
   "cell_type": "code",
   "execution_count": 29,
   "metadata": {},
   "outputs": [],
   "source": [
    "shutil.rmtree(os.path.join(home, 'projects'))\n",
    "# removes everything under /home/thanos/projects\n",
    "os.chdir(home)"
   ]
  },
  {
   "cell_type": "markdown",
   "metadata": {
    "collapsed": true
   },
   "source": [
    "We can confirm it's deleted."
   ]
  },
  {
   "cell_type": "code",
   "execution_count": 30,
   "metadata": {},
   "outputs": [
    {
     "ename": "FileNotFoundError",
     "evalue": "[Errno 2] No such file or directory: 'projects'",
     "output_type": "error",
     "traceback": [
      "\u001b[0;31m---------------------------------------------------------------------------\u001b[0m",
      "\u001b[0;31mFileNotFoundError\u001b[0m                         Traceback (most recent call last)",
      "\u001b[0;32m<ipython-input-30-e5105144de54>\u001b[0m in \u001b[0;36m<module>\u001b[0;34m()\u001b[0m\n\u001b[0;32m----> 1\u001b[0;31m \u001b[0mos\u001b[0m\u001b[0;34m.\u001b[0m\u001b[0mlistdir\u001b[0m\u001b[0;34m(\u001b[0m\u001b[0;34m'projects'\u001b[0m\u001b[0;34m)\u001b[0m\u001b[0;34m\u001b[0m\u001b[0m\n\u001b[0m\u001b[1;32m      2\u001b[0m \u001b[0;31m# The error is pretty self-explanatory.\u001b[0m\u001b[0;34m\u001b[0m\u001b[0;34m\u001b[0m\u001b[0m\n",
      "\u001b[0;31mFileNotFoundError\u001b[0m: [Errno 2] No such file or directory: 'projects'"
     ]
    }
   ],
   "source": [
    "os.listdir('projects')\n",
    "# The error is pretty self-explanatory."
   ]
  },
  {
   "cell_type": "markdown",
   "metadata": {},
   "source": [
    "Another important module for automating computer tasks is the `zipfile` module that helps for compressing and extracting files to and from zip files.\n",
    "\n",
    "# sys\n",
    "\n",
    "This module provides helps with command line input/output operations.\n",
    "\n",
    "In shell environments there are three ways the shell interacts with the user. We call these I/O connections **standard streams**:\n",
    "\n",
    "- stdin: Is the standard input. This is what we type to the terminal.\n",
    "- stdout: Is the standard output. This is what we see as output.\n",
    "- stderr: Is the standard error. This is an output as well, but it is used for error messages.\n",
    "\n",
    "## stdin\n",
    "\n",
    "We have used `sys.stdin` in the past without knowing it! This module is called for the execution of `input()`. \n",
    "\n",
    "## stderr & stdout\n",
    "\n",
    "These two can be used to manipulate the two output channels."
   ]
  },
  {
   "cell_type": "code",
   "execution_count": 31,
   "metadata": {},
   "outputs": [
    {
     "name": "stderr",
     "output_type": "stream",
     "text": [
      "This is an error message!\n"
     ]
    },
    {
     "name": "stdout",
     "output_type": "stream",
     "text": [
      "This is an output!\n"
     ]
    }
   ],
   "source": [
    "import sys\n",
    "sys.stderr.write('This is an error message!\\n')\n",
    "sys.stderr.flush()\n",
    "sys.stdout.write('This is an output!\\n')"
   ]
  },
  {
   "cell_type": "markdown",
   "metadata": {},
   "source": [
    "Because the output and error messages are being buffered. We can use `.flush()` for forcing an output.\n",
    "\n",
    "`sys.stderr` outputs are a lot of times accompanied by a termination of the script. The easiest way to do that is:\n",
    "```python\n",
    "sys.exit() # terminates the script\n",
    "```\n",
    "\n",
    "## Command line arguments\n",
    "\n",
    "Probably the most common usage of this module is that it allows us to use command line arguments in our scripts.\n",
    "\n",
    "This is done by utilizing `sys.argv`. This is a list that stores all arguments entered from the command line.\n",
    "\n",
    "We have a script called *src_args.py*. This script contains the following code.\n",
    "\n",
    "```python\n",
    "from __future__ import print_function\n",
    "import sys\n",
    "\n",
    "print(sys.argv)\n",
    "```\n",
    "\n",
    "If we call a script like this:\n",
    "<pre>python src_args.py arg1 arg2 arg3</pre>\n",
    "\n",
    "Our ouput should be:\n",
    "<pre>['scr_args.py', 'arg1', 'arg2', 'arg3']</pre>\n",
    "\n",
    "Incorporating those arguments into our script depends on the situation and differs each time. It is a good practice to do a lot of checks to make sure that the user inputs what you expect to receive.\n",
    "\n",
    "# argparse\n",
    "\n",
    "`argparse` creates an easier interface for handling command line arguments. We won't go into much detail on this module, but it is very helpful when wanting to create scripts that accept command line arguments.\n",
    "\n",
    "```python\n",
    "import argparse\n",
    "\n",
    "parser = argparse.ArgumentParser(description='a script that does this and that ...')\n",
    "\n",
    "parser.add_argument('-v', '--verbose', action='store_true', dest='verbose',\n",
    "                    default=False, help='print status messages to stdout')\n",
    "# whenever the user types a '-v' or '--verbose' argument, a variable\n",
    "# called verbose will become true. In any other case it will be False\n",
    "\n",
    "parser.add_argument('-f', '--file', dest='filename', help='write report to FILE', \n",
    "                    metavar='FILE', help='path to the filename')\n",
    "# if the user types '-f a_file_name', a variable called filename \n",
    "# will take the value specified by the user.\n",
    "\n",
    "parser.add_argument('-n', '--number', dest='n', default=10, type=int,\n",
    "                    help='a number')\n",
    "# if the user types '-f 13', a variable called n will take the value n\n",
    "# the default value is 10.\n",
    "\n",
    "# if the user types '-h' or '--help' the help strings for each argument\n",
    "# will be displayed\n",
    "\n",
    "args = parser.parse_args()\n",
    "\n",
    "args.verbose   # verbose argument\n",
    "args.filename  # file argument\n",
    "args.n         # n argument\n",
    "```"
   ]
  }
 ],
 "metadata": {
  "kernelspec": {
   "display_name": "Python 3",
   "language": "python",
   "name": "python3"
  },
  "language_info": {
   "codemirror_mode": {
    "name": "ipython",
    "version": 3
   },
   "file_extension": ".py",
   "mimetype": "text/x-python",
   "name": "python",
   "nbconvert_exporter": "python",
   "pygments_lexer": "ipython3",
   "version": "3.6.3"
  }
 },
 "nbformat": 4,
 "nbformat_minor": 1
}
