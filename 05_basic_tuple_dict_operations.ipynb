{
 "cells": [
  {
   "cell_type": "markdown",
   "metadata": {},
   "source": [
    "# Tuples\n",
    "\n",
    "Tuples are lists of immutable python objects. You can think of them as read-only lists."
   ]
  },
  {
   "cell_type": "code",
   "execution_count": 1,
   "metadata": {},
   "outputs": [],
   "source": [
    "T1 = 'a', 'b', 'c', 'd', 'e'\n",
    "T2 = (1, 2, 3, 4, 5)\n",
    "T3 = () # empty tuple\n",
    "T4 = (15,) # single value tuple (requires comma!)"
   ]
  },
  {
   "cell_type": "markdown",
   "metadata": {},
   "source": [
    "Tuple indexing works the same as in lists but assignment does not. You **can't** change the value of an element in a tuple after it has been declared.\n",
    "\n",
    "For example T1[1] = 'g' is not allowed."
   ]
  },
  {
   "cell_type": "code",
   "execution_count": 2,
   "metadata": {},
   "outputs": [
    {
     "ename": "TypeError",
     "evalue": "'tuple' object does not support item assignment",
     "output_type": "error",
     "traceback": [
      "\u001b[1;31m---------------------------------------------------------------------------\u001b[0m",
      "\u001b[1;31mTypeError\u001b[0m                                 Traceback (most recent call last)",
      "\u001b[1;32m<ipython-input-2-dd502fd43e3f>\u001b[0m in \u001b[0;36m<module>\u001b[1;34m()\u001b[0m\n\u001b[1;32m----> 1\u001b[1;33m \u001b[0mT1\u001b[0m\u001b[1;33m[\u001b[0m\u001b[1;36m1\u001b[0m\u001b[1;33m]\u001b[0m \u001b[1;33m=\u001b[0m \u001b[1;34m'g'\u001b[0m\u001b[1;33m\u001b[0m\u001b[0m\n\u001b[0m",
      "\u001b[1;31mTypeError\u001b[0m: 'tuple' object does not support item assignment"
     ]
    }
   ],
   "source": [
    "T1[1] = 'g'"
   ]
  },
  {
   "cell_type": "markdown",
   "metadata": {},
   "source": [
    "## Tuple operations:"
   ]
  },
  {
   "cell_type": "code",
   "execution_count": 3,
   "metadata": {},
   "outputs": [
    {
     "data": {
      "text/plain": [
       "True"
      ]
     },
     "execution_count": 3,
     "metadata": {},
     "output_type": "execute_result"
    }
   ],
   "source": [
    "T1 + T2 \n",
    "# concatenation works like with lists:\n",
    "# ('a', 'b', 'c', 'd', 'e', 1, 2, 3, 4, 5)\n",
    "T4 * 5\n",
    "# so does repetition:\n",
    "# (15, 15, 15, 15, 15)\n",
    "'a' in T1\n",
    "# and membership: True"
   ]
  },
  {
   "cell_type": "markdown",
   "metadata": {},
   "source": [
    "Tuples support many of the built-in functions that lists do (`min()`, `max()`, `len()`, `sum()`, etc.), but does not support functions that change the elements (e.g `.sort()`). Instead we are forced to make copies of the tuple (`new_tup = sorted(tup)`).\n",
    "\n",
    "## List to tuple conversion."
   ]
  },
  {
   "cell_type": "code",
   "execution_count": 4,
   "metadata": {},
   "outputs": [],
   "source": [
    "lst = [1, 2, 3]\n",
    "tup = tuple(lst)  # converts list to tuple"
   ]
  },
  {
   "cell_type": "markdown",
   "metadata": {},
   "source": [
    "## Tuple deletion."
   ]
  },
  {
   "cell_type": "code",
   "execution_count": 5,
   "metadata": {},
   "outputs": [],
   "source": [
    "del T2\n",
    "# deletes the whole tuple"
   ]
  },
  {
   "cell_type": "markdown",
   "metadata": {},
   "source": [
    "## Changing tuple elements.\n",
    "We can change the elements of a tuple indirectly:"
   ]
  },
  {
   "cell_type": "code",
   "execution_count": 6,
   "metadata": {},
   "outputs": [],
   "source": [
    "lst = list(T1)\n",
    "# first we convert list to tuple\n",
    "T1 = tuple(lst)\n",
    "# then convert list to a new tuple and overrides the old one with it\n",
    "del lst\n",
    "# optionally delete list"
   ]
  },
  {
   "cell_type": "markdown",
   "metadata": {},
   "source": [
    "Note that if we try to convert a tuple to a list through brackets."
   ]
  },
  {
   "cell_type": "code",
   "execution_count": 7,
   "metadata": {},
   "outputs": [],
   "source": [
    "lst = [T1]\n",
    "# lst: [('a', 'b', 'c', 'd', 'e')]"
   ]
  },
  {
   "cell_type": "markdown",
   "metadata": {},
   "source": [
    "This creates a list that has a tuple as an element.\n",
    "If we wanted to the same with a tuple from a list we would have to add a comma"
   ]
  },
  {
   "cell_type": "code",
   "execution_count": 8,
   "metadata": {},
   "outputs": [],
   "source": [
    "T = (lst,)\n",
    "# (['a','b','c','d','e'])"
   ]
  },
  {
   "cell_type": "markdown",
   "metadata": {},
   "source": [
    "# Dictionaries.\n",
    "\n",
    "Dictionaries are data types that store key-value pairs."
   ]
  },
  {
   "cell_type": "code",
   "execution_count": 9,
   "metadata": {},
   "outputs": [],
   "source": [
    "D1 = {'Name': 'Jack', 'Age': 12, 'Phone': '0123456789'}"
   ]
  },
  {
   "cell_type": "markdown",
   "metadata": {},
   "source": [
    "Dictionary entries are separated by commas (`,`). Each entry has a **key** and a **value** which are separated by colons (`:`)."
   ]
  },
  {
   "cell_type": "code",
   "execution_count": 10,
   "metadata": {},
   "outputs": [],
   "source": [
    "D2 = {} # empty dictionary"
   ]
  },
  {
   "cell_type": "markdown",
   "metadata": {},
   "source": [
    "## Referencing items in a dictionary.\n",
    "\n",
    "Dictionaries have **no concept of order**, so if we want to retrieve something we stored we need to use it's key."
   ]
  },
  {
   "cell_type": "code",
   "execution_count": 11,
   "metadata": {},
   "outputs": [],
   "source": [
    "D1['Age']\n",
    "# Returns the value of the entry which has 'Age' as a key:  12\n",
    "D1['Phone']\n",
    "# 0123456789\n",
    "\n",
    "# Updating entries\n",
    "D1['Age'] = 13\n",
    "# update existing entry with 'Age' as a key\n",
    "D1['PK'] = 999999\n",
    "# create new entry with 'PK' as a key and 999999 as a value"
   ]
  },
  {
   "cell_type": "markdown",
   "metadata": {},
   "source": [
    "## Deleting in dictionaries"
   ]
  },
  {
   "cell_type": "code",
   "execution_count": 12,
   "metadata": {},
   "outputs": [],
   "source": [
    "del D1['Name']\n",
    "# Removes entry with key 'Name'\n",
    "D1.clear()\n",
    "# Remove all D1 entries\n",
    "del D1\n",
    "# Deletes D1 as a whole"
   ]
  },
  {
   "cell_type": "markdown",
   "metadata": {},
   "source": [
    "## Other Built-In Methods"
   ]
  },
  {
   "cell_type": "code",
   "execution_count": 13,
   "metadata": {},
   "outputs": [],
   "source": [
    "D1 = {'Name': 'Jack', 'Age': 12, 'Phone': '0123456789'}\n",
    "\n",
    "D1_cp = D1.copy()\n",
    "# Returns a shallow copy of dictionary dict\n",
    "D1.get('Age')\n",
    "# Returns the value of the key 'Age'. Same as D1['Age']:  12\n",
    "D1.items()\n",
    "# Returns a list of dict's (key, value) tuple pairs:   [('Phone', '0123456789'), ('Age', 12), ('Name', 'Jack')]\n",
    "D1.keys()\n",
    "# Returns list of dictionary dict's keys:  ['Phone', 'Age', 'Name']\n",
    "D1.values()\n",
    "# Returns list of dictionary dict's values:  ['0123456789', 12, 'Jack']\n",
    "# note again that both keys and values are unsorted\n",
    "D2 = D2.fromkeys(('key1', 'key2', 'key3', 'key4'), ['val1', 'val2'])\n",
    "# Create a new dictionary with keys from a sequence and values set to the values in a list: {'key3': ['val1', 'val2'], 'key2': ['val1', 'val2'], 'key1': ['val1', 'val2'], 'key4': ['val1', 'val2']}\n",
    "D1.update(D2)\n",
    "# Adds dictionary D2's key-values pairs to D1:  {'Phone': '0123456789', 'Name': 'Jack', 'key3': ['val1', 'val2'], 'key2': ['val1', 'val2'], 'Age': 12, 'key1': ['val1', 'val2'], 'key4': ['val1', 'val2']}"
   ]
  }
 ],
 "metadata": {
  "kernelspec": {
   "display_name": "Python 3",
   "language": "python",
   "name": "python3"
  },
  "language_info": {
   "codemirror_mode": {
    "name": "ipython",
    "version": 3
   },
   "file_extension": ".py",
   "mimetype": "text/x-python",
   "name": "python",
   "nbconvert_exporter": "python",
   "pygments_lexer": "ipython3",
   "version": "3.6.3"
  }
 },
 "nbformat": 4,
 "nbformat_minor": 1
}
