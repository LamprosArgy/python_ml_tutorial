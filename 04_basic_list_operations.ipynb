{
 "cells": [
  {
   "cell_type": "markdown",
   "metadata": {},
   "source": [
    "# Lists\n",
    "Lists are the most versatile data structure in python. What is a list exactly? A list is a type of **sequence** in python. The sequence is the most basic data type in python! Other sequence types are strings (yeah, strings are also sequences) and tuples. This is why we will see that lists and strings have **a lot** in common.\n",
    "\n",
    "If both lists and strings are sequences though, what's the difference between them? Strings are sequences of characters, while lists can be sequences of anything we want! That's why we said that lists are so versatile.\n",
    "\n",
    "A list is a sequence of objects enclosed by square brackets `[]`. Let's dive in."
   ]
  },
  {
   "cell_type": "code",
   "execution_count": 1,
   "metadata": {},
   "outputs": [],
   "source": [
    "from __future__ import print_function"
   ]
  },
  {
   "cell_type": "markdown",
   "metadata": {},
   "source": [
    "We'll first create a few lists."
   ]
  },
  {
   "cell_type": "code",
   "execution_count": 2,
   "metadata": {},
   "outputs": [
    {
     "name": "stdout",
     "output_type": "stream",
     "text": [
      "L =  []\n",
      "L1 =  ['a', 'b', 'c', 'd', 'e']\n",
      "L2 =  [1, 2, 3, 4, 5]\n"
     ]
    }
   ],
   "source": [
    "# Empty lists\n",
    "L = []\n",
    "L = list()\n",
    "# Populated lists\n",
    "L1 = ['a','b','c','d','e']\n",
    "L2 = [1, 2, 3, 4, 5]\n",
    "\n",
    "print('L = ', L)\n",
    "print('L1 = ', L1)\n",
    "print('L2 = ', L2)"
   ]
  },
  {
   "cell_type": "markdown",
   "metadata": {},
   "source": [
    "## Indexing\n",
    "Indexing works the same way it did with strings. We can refer to a single element in a list by placing the element's index inside of square brackets, immediately after the list's name.\n",
    "The list's elements are indexed as integers **starting from zero** to (n-1), where n is the length of the list.\n",
    "\n",
    "For example, the *i*-th element of the list `ls` has an index of *i-1*. So in order to access it we need to type:\n",
    "```python\n",
    "ls[i-1]\n",
    "```\n",
    "By using negative indices we can access elements of the list by starting from the last one."
   ]
  },
  {
   "cell_type": "code",
   "execution_count": 3,
   "metadata": {},
   "outputs": [
    {
     "name": "stdout",
     "output_type": "stream",
     "text": [
      "First element:  a\n",
      "Last element:  e\n"
     ]
    }
   ],
   "source": [
    "print('First element: ', L1[0]) # first element\n",
    "print('Last element: ', L1[-1]) # last element"
   ]
  },
  {
   "cell_type": "markdown",
   "metadata": {},
   "source": [
    "## Slicing\n",
    "\n",
    "> Slicing is the operation in which we keep only a **subset** of the list.\n",
    "\n",
    "We can slice a list (`ls`) by using the following syntax:\n",
    "\n",
    "```python\n",
    "ls[a:b:c]\n",
    "```\n",
    "\n",
    "- **a**: the index of the **starting point** of our slicing operation.\n",
    "- **b**: the index of the **ending point** (the final element in the slice will have the index of *b-1*).\n",
    "- **c**: the **step** of the operation (optional, *default=1*)."
   ]
  },
  {
   "cell_type": "code",
   "execution_count": 4,
   "metadata": {},
   "outputs": [
    {
     "name": "stdout",
     "output_type": "stream",
     "text": [
      "First two elements:                             L1[:2]    =  ['a', 'b']\n",
      "Elements from index 1 and onward:               L1[1:]    =  ['b', 'c', 'd', 'e']\n",
      "Last three elements:                            L1[-3:]   =  ['c', 'd', 'e']\n",
      "Elements with indexes 1 to 3:                   L1[1:4]   =  ['b', 'c', 'd']\n",
      "All elements of L1:                             L1[:]     =  ['a', 'b', 'c', 'd', 'e']\n",
      "Elements from indices 2 to 4 with a step of 2:  L1[2:5:2] =  ['c', 'e']\n",
      "Get every other item, starting with the first:  L1[::2]   =  ['a', 'c', 'e']\n",
      "Get every other item, starting with the second: L1[1::2]  =  ['b', 'd']\n"
     ]
    }
   ],
   "source": [
    "print('First two elements:                             L1[:2]    = ', L1[:2])\n",
    "print('Elements from index 1 and onward:               L1[1:]    = ', L1[1:])\n",
    "print('Last three elements:                            L1[-3:]   = ', L1[-3:])\n",
    "print('Elements with indexes 1 to 3:                   L1[1:4]   = ', L1[1:4])\n",
    "print('All elements of L1:                             L1[:]     = ', L1[:])\n",
    "print('Elements from indices 2 to 4 with a step of 2:  L1[2:5:2] = ', L1[2:5:2])\n",
    "print('Get every other item, starting with the first:  L1[::2]   = ', L1[::2])\n",
    "print('Get every other item, starting with the second: L1[1::2]  = ', L1[1::2])"
   ]
  },
  {
   "cell_type": "markdown",
   "metadata": {},
   "source": [
    "## Range\n",
    "\n",
    "> With the range function we can quickly get a list of all consecutive integers between two values, or a list of all integers between two values with a certain step.\n",
    "\n",
    "Syntax is:\n",
    "\n",
    "```python\n",
    "range(a,b,c)\n",
    "```\n",
    "\n",
    "- **a**: **starting point** (optional, *default=0*).\n",
    "- **b**: **ending point** (last integer of the range is *b-1*).\n",
    "- **c**: **step** (optional, *default=1*).\n",
    "\n",
    "While in python2 `range()` would return a *list*, in python3 `range()` returns an object called a **generator**. We'll see in the future what generators are. For the time being we will simple cast them as lists."
   ]
  },
  {
   "cell_type": "code",
   "execution_count": 5,
   "metadata": {},
   "outputs": [
    {
     "name": "stdout",
     "output_type": "stream",
     "text": [
      "range(10) =  [0, 1, 2, 3, 4, 5, 6, 7, 8, 9]\n",
      "range(5,10) =  [5, 6, 7, 8, 9]\n",
      "range(1,20,2) =  [1, 3, 5, 7, 9, 11, 13, 15, 17, 19]\n"
     ]
    }
   ],
   "source": [
    "print('range(10) = ', list(range(10)))\n",
    "# this creates a list of integers ranging from 0 to the number before what we entered as a parameter.\n",
    "# range(x) essentially creates a list of all integers in [0,x)\n",
    "print('range(5,10) = ', list(range(5,10)))\n",
    "# like before, range(x,y) creates a list of all integers in [x,y)\n",
    "print('range(1,20,2) = ', list(range(1,20,2)))\n",
    "# this creates a list of integers in the range defined by the first two numbers,\n",
    "# but with a step of the third one."
   ]
  },
  {
   "cell_type": "markdown",
   "metadata": {},
   "source": [
    "Range **only works on integers**. If we want a range of floats we need to create a custom function (we'll learn how to do that on a later tutorial)."
   ]
  },
  {
   "cell_type": "markdown",
   "metadata": {},
   "source": [
    "## Updating list elements\n",
    "\n",
    "We can change (update) the value of any element in a list by simple assignment. If we want to change multiple values we need to make sure we slice as many values as we assign."
   ]
  },
  {
   "cell_type": "code",
   "execution_count": 6,
   "metadata": {},
   "outputs": [
    {
     "name": "stdout",
     "output_type": "stream",
     "text": [
      "Before changes: L2 = [1, 2, 3, 4, 5]\n",
      "Single update: L2 = [1, 2, 6, 4, 5]\n",
      "Multiple update 1: L2 = [1, 22, 33, 44, 5]\n",
      "Multiple update 2: L2 = [1, 222, 333, 444, 5]\n"
     ]
    }
   ],
   "source": [
    "print('Before changes: L2 =', L2)\n",
    "L2[2] = 6 # we update the 3rd element in our list\n",
    "print('Single update: L2 =', L2)\n",
    "L2[1:4] = [22, 33, 44] # update the 2nd, 3rd and 4th elements\n",
    "print('Multiple update 1: L2 =', L2)\n",
    "L2[1:4] = 222, 333, 444 # same thing without the list\n",
    "print('Multiple update 2: L2 =', L2)"
   ]
  },
  {
   "cell_type": "markdown",
   "metadata": {},
   "source": [
    "## Deleting and inserting elements"
   ]
  },
  {
   "cell_type": "code",
   "execution_count": 7,
   "metadata": {},
   "outputs": [
    {
     "name": "stdout",
     "output_type": "stream",
     "text": [
      "Single delete:  [1, 222, 444, 5]\n",
      "Single insert:  [1, 222, 3, 444, 5]\n",
      "Extend:  [1, 222, 3, 444, 5, 6, 7, 8]\n",
      "Remove:  [1, 3, 5, 6, 7, 8]\n",
      "L2 final:  [1, 2, 3, 4, 5, 6, 7, 8]\n"
     ]
    },
    {
     "ename": "NameError",
     "evalue": "name 'L' is not defined",
     "output_type": "error",
     "traceback": [
      "\u001b[0;31m---------------------------------------------------------------------------\u001b[0m",
      "\u001b[0;31mNameError\u001b[0m                                 Traceback (most recent call last)",
      "\u001b[0;32m<ipython-input-7-e3efe44fb5a1>\u001b[0m in \u001b[0;36m<module>\u001b[0;34m()\u001b[0m\n\u001b[1;32m     12\u001b[0m \u001b[0mprint\u001b[0m\u001b[0;34m(\u001b[0m\u001b[0;34m'L2 final: '\u001b[0m\u001b[0;34m,\u001b[0m \u001b[0mL2\u001b[0m\u001b[0;34m)\u001b[0m\u001b[0;34m\u001b[0m\u001b[0m\n\u001b[1;32m     13\u001b[0m \u001b[0;32mdel\u001b[0m \u001b[0mL\u001b[0m \u001b[0;31m# deletes the whole list\u001b[0m\u001b[0;34m\u001b[0m\u001b[0m\n\u001b[0;32m---> 14\u001b[0;31m \u001b[0mprint\u001b[0m\u001b[0;34m(\u001b[0m\u001b[0mL\u001b[0m\u001b[0;34m)\u001b[0m\u001b[0;34m\u001b[0m\u001b[0m\n\u001b[0m",
      "\u001b[0;31mNameError\u001b[0m: name 'L' is not defined"
     ]
    }
   ],
   "source": [
    "del L2[2] # deletes element of list L2 with an index of 2\n",
    "print('Single delete: ', L2)\n",
    "L2.insert(2, 3) # inserts element 3 to index 2 of L2\n",
    "print('Single insert: ', L2)\n",
    "L2.extend([6,7,8]) # extends the list with values from a new list\n",
    "print('Extend: ', L2)\n",
    "L2.remove(222) # removes the first occurrence of the element 2 in L2\n",
    "L2.remove(444)\n",
    "print('Remove: ', L2) \n",
    "L2.insert(1, 2)\n",
    "L2.insert(3, 4)\n",
    "print('L2 final: ', L2)\n",
    "del L # deletes the whole list\n",
    "print(L)"
   ]
  },
  {
   "cell_type": "markdown",
   "metadata": {},
   "source": [
    "The previous command returned a *NameError*, because we tried to print a list which we had deleted beforehand.\n",
    "\n",
    "We saw a few commands to remove and to insert new elements into a list. \n",
    "\n",
    "The main difference between `del` and `.remove()` is that in ***del*** we have to refer to what we are deleting by **index**, while in ***remove*** we need to refer to the element's **value** instead.\n",
    "\n",
    "When using *insert* we need to know what we are going to put in the list and where are going to put it. For example:\n",
    "```python\n",
    "list.insert(a,b)\n",
    "```\n",
    "adds the value `b` to the list `ls` in the spot designated by the index `a`. All elements after `a` will have their index shifted up by 1."
   ]
  },
  {
   "cell_type": "markdown",
   "metadata": {},
   "source": [
    "# Using Lists as stacks or queues\n",
    "\n",
    "A **stack** is a data structure that allows elements to be added and removed only with two operations. The *push* operation adds a new element to the last spot of the stack while the *pop* operation removes the last element in the stack. In a stack we **can't** add or remove elements from any other spot other than the last one! So in order to access the first element we pushed, we first need to pop all other elements that were added after that. This is why the stack is a **LIFO** (Last in, first out) data structure.\n",
    "\n",
    "A **queue** is a similar data structure that has two primary operations. The *enqueue* operation is essentially the same as what called the *push* operation before. It adds a new element to the last spot of the queue. The *dequeue* operation removes one element from the first spot. In a queue the first element that we add is the first element we remove. This is why it is called a **FIFO** (First in, first out) data structure."
   ]
  },
  {
   "cell_type": "code",
   "execution_count": 8,
   "metadata": {},
   "outputs": [
    {
     "data": {
      "text/plain": [
       "3"
      ]
     },
     "execution_count": 8,
     "metadata": {},
     "output_type": "execute_result"
    }
   ],
   "source": [
    "stk = []\n",
    "stk.append(1) # adds element (1) in the end of list (stk)\n",
    "stk.append(2) # stk: [1, 2]\n",
    "stk.append(3) # stk: [1, 2, 3]\n",
    "stk.pop() # removes the last element from the list.\n",
    "# pop also returns the last element before removing it!"
   ]
  },
  {
   "cell_type": "code",
   "execution_count": 9,
   "metadata": {},
   "outputs": [
    {
     "data": {
      "text/plain": [
       "1"
      ]
     },
     "execution_count": 9,
     "metadata": {},
     "output_type": "execute_result"
    }
   ],
   "source": [
    "# to use the list ase a queue we need to pop from the beginning\n",
    "que = stk[:]\n",
    "que.pop(0)\n",
    "# removes firt element. a = 1 (because pop returns removed element)"
   ]
  },
  {
   "cell_type": "markdown",
   "metadata": {},
   "source": [
    "We can also pop an item according to it's index e.g:\n",
    "```python\n",
    "my_list.pop(index)\n",
    "```\n",
    "So is we wanted a *stack* we could just use `.append()` and `.pop()`\n",
    "\n",
    "If we want a *queue* we can use `.append()` and `.pop(0)`"
   ]
  },
  {
   "cell_type": "markdown",
   "metadata": {},
   "source": [
    "## Linked lists\n",
    "\n",
    "Sometimes in python it's hard to figure out if two variables refer to the same or different lists."
   ]
  },
  {
   "cell_type": "code",
   "execution_count": 10,
   "metadata": {},
   "outputs": [],
   "source": [
    "A = []; B = [] # Independent lists\n",
    "A = B = [] # Both names point to the same list\n",
    "A = []\n",
    "B = A # Both names point to the same list"
   ]
  },
  {
   "cell_type": "markdown",
   "metadata": {},
   "source": [
    "These three ways may look similar, but while the first creates **two lists**, the other two create **a single list** with two references to it.\n",
    "\n",
    "Let's look at an example to clarify this:"
   ]
  },
  {
   "cell_type": "code",
   "execution_count": 11,
   "metadata": {},
   "outputs": [
    {
     "name": "stdout",
     "output_type": "stream",
     "text": [
      "A = [1, 3, 4] B = [1, 3, 4]\n"
     ]
    }
   ],
   "source": [
    "# First we create a list\n",
    "A = [1,2,3]\n",
    "# Now let's make a copy of this list\n",
    "B = A\n",
    "# Now let's make some changes to the lists\n",
    "A.append(4) # we add an element to list A\n",
    "del B[1] # and we remove one from list B\n",
    "# Let's see what these lists look like now\n",
    "print('A =', A, 'B =', B)"
   ]
  },
  {
   "cell_type": "markdown",
   "metadata": {},
   "source": [
    "This is not what we expected, right? We wanted to make a copy of the list so that changes in A wouldn't affect B and vice versa.\n",
    "\n",
    "In python if we use the syntax:\n",
    "```python \n",
    "list1 = list2\n",
    "```\n",
    "we don't a copy of the list (as expected), instead we just create a new handle that **refers to the same object** in memory.\n",
    "\n",
    "Let's try the same thing, but create the lists separately this time."
   ]
  },
  {
   "cell_type": "code",
   "execution_count": 12,
   "metadata": {},
   "outputs": [
    {
     "name": "stdout",
     "output_type": "stream",
     "text": [
      "A = [1, 2, 3, 4] B = [1, 3]\n"
     ]
    }
   ],
   "source": [
    "# First we create two lists separately\n",
    "A = [1,2,3]\n",
    "B = [1,2,3]\n",
    "# Now let's make the changes to our lists\n",
    "A.append(4)\n",
    "del B[1] \n",
    "# Let's see what these lists look like now\n",
    "print('A =', A, 'B =', B)"
   ]
  },
  {
   "cell_type": "markdown",
   "metadata": {},
   "source": [
    "Ok, this works like it's supposed to. But how can we make a **copy** of a list?\n",
    "\n",
    "Turns out there are a few ways to do this. The easiest is through slicing. Remember when we could slice the whole list by typing:\n",
    "```python \n",
    "list[:] \n",
    "```\n",
    "Though this appears useless at first (Why would we want to slice the whole list?), it is actually really useful, when we realize that it returns a **copy** of our list!\n",
    "\n",
    "Let's try to fool around with our lists again:"
   ]
  },
  {
   "cell_type": "code",
   "execution_count": 13,
   "metadata": {},
   "outputs": [
    {
     "name": "stdout",
     "output_type": "stream",
     "text": [
      "Initially:\n",
      "A = [1, 2, 3] B = [1, 2, 3]\n",
      "C = [1, 2, 3] D = [1, 2, 3]\n",
      "After changes:\n",
      "A = [1, 3, 4] B = [1, 3]\n",
      "C = [1, 3, 4] D = [1, 2, 3, 4]\n"
     ]
    }
   ],
   "source": [
    "A = [1,2,3]\n",
    "B = [1,2,3]\n",
    "print('Initially:')\n",
    "print('A =', A, 'B =', B)\n",
    "C = A # C points to the same object as A\n",
    "D = B[:] # D is a copy of B\n",
    "print('C =', C, 'D =', D)\n",
    "# lets make the same changes to the pairs A,C and B,D\n",
    "C.append(4); D.append(4)\n",
    "del A[1]; del B[1]\n",
    "# let's see how the changes affected our lists\n",
    "print('After changes:')\n",
    "print('A =', A, 'B =', B)\n",
    "print('C =', C, 'D =', D)"
   ]
  },
  {
   "cell_type": "markdown",
   "metadata": {},
   "source": [
    "## Other built-in functions"
   ]
  },
  {
   "cell_type": "code",
   "execution_count": 14,
   "metadata": {},
   "outputs": [
    {
     "name": "stdout",
     "output_type": "stream",
     "text": [
      "len(L1) = 5\n",
      "max(L1) = 8\n",
      "min(L1) = 1\n",
      "sum(L1) = 36\n",
      "'a's in L1 = 1\n",
      "Extended L1 = ['a', 'b', 'c', 'd', 'e', 'f', 'g', 'h']\n",
      "Index of 'd' = 3\n",
      "L2 before reverse:  [1, 2, 3, 4, 5, 6, 7, 8]\n",
      "L2 after reverse:  [8, 7, 6, 5, 4, 3, 2, 1]\n",
      "L2 before sort:  [8, 0, 6, 5, 6, 3, 2, 1]\n",
      "L2 after sort:  [0, 1, 2, 3, 5, 6, 6, 8]\n",
      "L2 after reverse sort:  [8, 6, 6, 5, 3, 2, 1, 0]\n"
     ]
    }
   ],
   "source": [
    "print('len(L1) =', len(L1)) # gives the total length of the list\n",
    "print('max(L1) =', max(L2)) # returns the element with the max value\n",
    "print('min(L1) =', min(L2)) # returns the element with the min value\n",
    "print('sum(L1) =', sum(L2)) # returns the sum of the elements in L2\n",
    "print(\"'a's in L1 =\", L1.count('a')) # counts how many times 'a' occurs in L1\n",
    "seq  = ('f','g','h')\n",
    "L1.extend(seq) # extends contents of seq to L1\n",
    "print('Extended L1 =', L1)\n",
    "print(\"Index of 'd' =\", L1.index('d')) # returns the lowest index in list that 'd' appears in L1\n",
    "print('L2 before reverse: ', L2)\n",
    "L2.reverse() # reverses order of objects in list\n",
    "print('L2 after reverse: ', L2)\n",
    "L2[1] = 0; L2[4] = 6 \n",
    "print('L2 before sort: ', L2)\n",
    "L2.sort() # sorts objects in list (default = ascending) \n",
    "print('L2 after sort: ', L2)\n",
    "L2.sort(reverse=True) # descending sort L2\n",
    "print('L2 after reverse sort: ', L2)\n",
    "# to get a sorted copy of the list we can use the sorted built in function\n",
    "L2_cp = sorted(L2)"
   ]
  },
  {
   "cell_type": "markdown",
   "metadata": {},
   "source": [
    "A simple example of using built in functions in practice would be finding the mean of the elements of a list:"
   ]
  },
  {
   "cell_type": "code",
   "execution_count": 15,
   "metadata": {},
   "outputs": [
    {
     "name": "stdout",
     "output_type": "stream",
     "text": [
      "list = [8, 6, 6, 5, 3, 2, 1, 0]\n",
      "mean = 3.875\n"
     ]
    }
   ],
   "source": [
    "print('list =', L2)\n",
    "mean = float(sum(L2))/len(L2)\n",
    "print('mean =', mean)"
   ]
  },
  {
   "cell_type": "markdown",
   "metadata": {},
   "source": [
    "## Iterators\n",
    "\n",
    "Iterators are built-in objects that allow access to elements in a data structure.\n",
    "\n",
    "Though we won't go into much detail, let's look at the basic syntax"
   ]
  },
  {
   "cell_type": "code",
   "execution_count": 16,
   "metadata": {},
   "outputs": [
    {
     "name": "stdout",
     "output_type": "stream",
     "text": [
      "L1 = ['a', 'b', 'c', 'd', 'e', 'f', 'g', 'h']\n",
      "First element:  a\n",
      "Second element:  b\n"
     ]
    }
   ],
   "source": [
    "print('L1 =', L1)\n",
    "# let's print out the list so that we have an idea what we will be talking about\n",
    "itr = iter(L1) # declare an iterator object of list L1\n",
    "print('First element: ', next(itr))  # fetch the first element of L1 and store it in itr\n",
    "print('Second element: ', next(itr)) # fetch the second element of L1 and store it in itr\n",
    "# and so on ..."
   ]
  },
  {
   "cell_type": "markdown",
   "metadata": {},
   "source": [
    "## Complex lists\n",
    "\n",
    "> Lists can contain more complex items than just the numbers/strings we have seen so far. These complex items can be other lists, tuples, dictionaries or even any other user-created custom object.\n",
    "\n",
    "Let's create a more complex list:"
   ]
  },
  {
   "cell_type": "code",
   "execution_count": 17,
   "metadata": {},
   "outputs": [],
   "source": [
    "L3 = ['a_string', 66, (1, 'tuple_string'), ['list_string', [[1.1, 2, 'asdf', False], 2.33, 'list_in_a_list_string', 55]], 'a_second_string']"
   ]
  },
  {
   "cell_type": "markdown",
   "metadata": {},
   "source": [
    "We'll first try to figure out it's length:"
   ]
  },
  {
   "cell_type": "code",
   "execution_count": 18,
   "metadata": {},
   "outputs": [
    {
     "name": "stdout",
     "output_type": "stream",
     "text": [
      "length:  5\n"
     ]
    }
   ],
   "source": [
    "print('length: ', len(L3))"
   ]
  },
  {
   "cell_type": "markdown",
   "metadata": {},
   "source": [
    "Why does python say that the list has a length of 5, when we clearly added more elements in it?\n",
    "\n",
    "Well, the list L3 **does** have 5 items in it (2 strings, an integer, a tuple and a list).\n",
    "\n",
    "So one of the items in the list is another list. Let's take a look at the inner list (which is the 4th item in L3):"
   ]
  },
  {
   "cell_type": "code",
   "execution_count": 19,
   "metadata": {},
   "outputs": [
    {
     "name": "stdout",
     "output_type": "stream",
     "text": [
      "Inner list = ['list_string', [[1.1, 2, 'asdf', False], 2.33, 'list_in_a_list_string', 55]]\n",
      "Inner list length = 2\n"
     ]
    }
   ],
   "source": [
    "print('Inner list =', L3[3])\n",
    "\n",
    "print('Inner list length =', len(L3[3]))"
   ]
  },
  {
   "cell_type": "markdown",
   "metadata": {},
   "source": [
    "This list has 2 items: an integer and another list.\n",
    "\n",
    "This even-more-inner list is the 2nd item in the inner list so in order to access it we have to somehow reference the item with an index of 1.\n",
    "\n",
    "We could assign it to a new variable name:"
   ]
  },
  {
   "cell_type": "code",
   "execution_count": 20,
   "metadata": {},
   "outputs": [
    {
     "name": "stdout",
     "output_type": "stream",
     "text": [
      "Even-more-inner list = [[1.1, 2, 'asdf', False], 2.33, 'list_in_a_list_string', 55]\n"
     ]
    }
   ],
   "source": [
    "L3_tmp = L3[3]\n",
    "# and then reference it\n",
    "print('Even-more-inner list =', L3_tmp[1])"
   ]
  },
  {
   "cell_type": "markdown",
   "metadata": {},
   "source": [
    "Another, easier way to reference this list would be to just add a second set of square brackets after the first.\n",
    "```python\n",
    "lst[i][j][k][l]\n",
    "```\n",
    "where:\n",
    "- i: is the index of the outermost list\n",
    "- j: is the index of the second in depth list\n",
    "- k: is the index of the third in depth list\n",
    "- l: is the index of the deepest list\n",
    "\n",
    "If we use this in our case:"
   ]
  },
  {
   "cell_type": "code",
   "execution_count": 21,
   "metadata": {},
   "outputs": [
    {
     "name": "stdout",
     "output_type": "stream",
     "text": [
      "Even-more-inner list = [[1.1, 2, 'asdf', False], 2.33, 'list_in_a_list_string', 55]\n",
      "length = 4\n"
     ]
    }
   ],
   "source": [
    "print('Even-more-inner list =', L3[3][1])\n",
    "print('length =', len(L3[3][1]))"
   ]
  },
  {
   "cell_type": "markdown",
   "metadata": {},
   "source": [
    "The first item of this list is again another list"
   ]
  },
  {
   "cell_type": "code",
   "execution_count": 22,
   "metadata": {},
   "outputs": [
    {
     "name": "stdout",
     "output_type": "stream",
     "text": [
      "Inner-most list = [1.1, 2, 'asdf', False]\n"
     ]
    }
   ],
   "source": [
    "print('Inner-most list =', L3[3][1][0])"
   ]
  },
  {
   "cell_type": "markdown",
   "metadata": {},
   "source": [
    "Finally we have reached the inner-most list which contains a float, a long integer, a string and a boolean variable.\n",
    "\n",
    "If we wanted to reference a single of these items (lets say the string): \n",
    "```python\n",
    "L3[3][1][0][2]\n",
    "```"
   ]
  },
  {
   "cell_type": "markdown",
   "metadata": {},
   "source": [
    "## Membership conditions\n",
    "\n",
    "> Whit these conditions we can check if a list contains a certain object and return `True` or `False` accordingly."
   ]
  },
  {
   "cell_type": "code",
   "execution_count": 23,
   "metadata": {},
   "outputs": [
    {
     "name": "stdout",
     "output_type": "stream",
     "text": [
      "L1 = ['a', 'b', 'c', 'd', 'e', 'f', 'g', 'h']\n",
      "L2 = [8, 6, 6, 5, 3, 2, 1, 0]\n",
      "'d' in L1:  True\n",
      "'d' in L2:  False\n"
     ]
    }
   ],
   "source": [
    "print('L1 =', L1)\n",
    "print('L2 =', L2)\n",
    "print(\"'d' in L1: \", 'd' in L1)\n",
    "print(\"'d' in L2: \", 'd' in L2)"
   ]
  },
  {
   "cell_type": "markdown",
   "metadata": {},
   "source": [
    "## List Operations"
   ]
  },
  {
   "cell_type": "code",
   "execution_count": 24,
   "metadata": {},
   "outputs": [
    {
     "name": "stdout",
     "output_type": "stream",
     "text": [
      "L1 + L2 = ['a', 'b', 'c', 'd', 'e', 'f', 'g', 'h', 8, 6, 6, 5, 3, 2, 1, 0]\n",
      "L1 * 3 = ['a', 'b', 'c', 'd', 'e', 'f', 'g', 'h', 'a', 'b', 'c', 'd', 'e', 'f', 'g', 'h', 'a', 'b', 'c', 'd', 'e', 'f', 'g', 'h']\n"
     ]
    }
   ],
   "source": [
    "print('L1 + L2 =', L1 + L2) # concatenates lists L1 and L2, i.e. adds L2 at the end of L1\n",
    "print('L1 * 3 =', L1 * 3) # repeats L1 3 times, i.e. adds L1 to itself 3 times (equivalent to L1+L1+L1)"
   ]
  },
  {
   "cell_type": "markdown",
   "metadata": {},
   "source": [
    "## Other useful functions\n",
    "\n",
    "Now, we'll create two new lists to illustrate some more advanced python functions."
   ]
  },
  {
   "cell_type": "code",
   "execution_count": 25,
   "metadata": {},
   "outputs": [],
   "source": [
    "a = [1, 2, 3, 4, 5]\n",
    "b = [2, 2, 9, 0, 9]"
   ]
  },
  {
   "cell_type": "markdown",
   "metadata": {},
   "source": [
    "### zip\n",
    "\n",
    "> Zip takes two equal-length collections (works on other data structures besides lists) and merges them together in pairs.\n",
    "\n",
    "In python 3 we need to cast the zip object as a list."
   ]
  },
  {
   "cell_type": "code",
   "execution_count": 26,
   "metadata": {},
   "outputs": [
    {
     "name": "stdout",
     "output_type": "stream",
     "text": [
      "zip(a,b) = [(1, 2), (2, 2), (3, 9), (4, 0), (5, 9)]\n"
     ]
    }
   ],
   "source": [
    "z = list(zip(a,b))\n",
    "print('zip(a,b) =', z)"
   ]
  },
  {
   "cell_type": "markdown",
   "metadata": {},
   "source": [
    "Now we have a single list of pairs (tuples) of elements of the first and the second list.\n",
    "\n",
    "The first element in z is:"
   ]
  },
  {
   "cell_type": "code",
   "execution_count": 27,
   "metadata": {},
   "outputs": [
    {
     "name": "stdout",
     "output_type": "stream",
     "text": [
      "z[0] = (1, 2)\n"
     ]
    }
   ],
   "source": [
    "print('z[0] =', z[0])\n",
    "# is a tuple containing the first element in a and the first element in b"
   ]
  },
  {
   "cell_type": "markdown",
   "metadata": {},
   "source": [
    "The same thing can of course be done with more than two lists."
   ]
  },
  {
   "cell_type": "code",
   "execution_count": 28,
   "metadata": {},
   "outputs": [
    {
     "name": "stdout",
     "output_type": "stream",
     "text": [
      "zip(a,b,c) = [(1, 2, 11), (2, 2, 22), (3, 9, 33), (4, 0, 44), (5, 9, 55)]\n"
     ]
    }
   ],
   "source": [
    "c = [11, 22, 33, 44, 55]\n",
    "z = list(zip(a,b,c))\n",
    "print('zip(a,b,c) =', z)"
   ]
  },
  {
   "cell_type": "markdown",
   "metadata": {},
   "source": [
    "### map\n",
    "\n",
    "> map takes a function and applies it to each element in an iterable.\n",
    "\n",
    "Let's say we want to perform an elementwise addition of our three lists `a = (a1, a2, ...)` , `b = (b1, b2, ...)` and `c = (c1, c2, ...)`\n",
    "\n",
    "What we would like to to produce is `s = (a1+b1+c1 + a2+b2+c3 + ...)`\n",
    "\n",
    "In python3 we have to cast the map object as a list to get the desired effect."
   ]
  },
  {
   "cell_type": "code",
   "execution_count": 29,
   "metadata": {},
   "outputs": [
    {
     "name": "stdout",
     "output_type": "stream",
     "text": [
      "s = [14, 26, 45, 48, 69]\n"
     ]
    }
   ],
   "source": [
    "s = list(map(sum, zip(a,b,c)))\n",
    "print('s =', s)"
   ]
  },
  {
   "cell_type": "markdown",
   "metadata": {},
   "source": [
    "What *map* does is it takes a function (in this case: *sum*) and applies it to each element of an iterable (in this case each element is a tuple of the corresponding element of a, b and c (which we produced with *zip*).\n",
    "\n",
    "So `zip(a,b,c)[0]` is the tuple `(a[0], b[0], c[0])`, `zip(a,b,c)[1]` is the tuple `(a[1], b[1], c[1])` and so on.\n",
    "\n",
    "What we want to do is perform the sum function (which produces the sum of such a collection) on each of these tuples nd that is exactly what we accomplish with *map*\n",
    "\n",
    "Likewise if we want to find the minimum element in each index of `a`, `b` and `c`:"
   ]
  },
  {
   "cell_type": "code",
   "execution_count": 30,
   "metadata": {},
   "outputs": [
    {
     "name": "stdout",
     "output_type": "stream",
     "text": [
      "Minimum elements = [1, 2, 3, 0, 5]\n"
     ]
    }
   ],
   "source": [
    "m = list(map(min, zip(a,b,c)))\n",
    "print('Minimum elements =', m)"
   ]
  },
  {
   "cell_type": "markdown",
   "metadata": {},
   "source": [
    "*map* is a nice way to perform elementwise functions to lists.\n",
    "\n",
    "Let's say we want to calculate the square root of the elements in c.\n",
    "\n",
    "Our function is `math.sqrt()` which we want to map across the list `c`."
   ]
  },
  {
   "cell_type": "code",
   "execution_count": 31,
   "metadata": {},
   "outputs": [
    {
     "name": "stdout",
     "output_type": "stream",
     "text": [
      "Square root of each element = [3.3166247903554, 4.69041575982343, 5.744562646538029, 6.6332495807108, 7.416198487095663]\n"
     ]
    }
   ],
   "source": [
    "from math import sqrt\n",
    "c_rt = list(map(sqrt, c))\n",
    "print('Square root of each element =', c_rt)"
   ]
  },
  {
   "cell_type": "markdown",
   "metadata": {},
   "source": [
    "Now, let's say we want to square `c_rt` in order to get `c` again.\n",
    "\n",
    "We know of a function `pow(x,2)` which raises `x` to the power of 2, but how do can we apply this to *map*?\n",
    "\n",
    "If the function requires 2 arguments we need to pass two iterables in *map*:"
   ]
  },
  {
   "cell_type": "code",
   "execution_count": 32,
   "metadata": {},
   "outputs": [
    {
     "name": "stdout",
     "output_type": "stream",
     "text": [
      "c_rt squared = [11.0, 22.0, 33.0, 44.0, 55.0]\n"
     ]
    }
   ],
   "source": [
    "c_as = list(map(pow, c_rt, [2]*len(c_rt)))\n",
    "print('c_rt squared =', c_as)"
   ]
  },
  {
   "cell_type": "markdown",
   "metadata": {},
   "source": [
    "*map* requires an iterable object in order to work, so if we want to square each element of `c_rt` in order to produce `c_as` (which is essentially `[ pow(crt[0],2), pow(crt[1],2), ... ]`, we need to create an iterable object (lets say a list) of 2s, i.e `[2, 2, 2, 2, 2]`. \n",
    "```python\n",
    "[2]*len(c_rt)\n",
    "```\n",
    "creates a list of 2s with the same length as `c_rt` (because the two lists need to be of the same length).\n",
    "\n",
    "By doing this we instruct python to map the function `pow(x,y)` across the lists `c_rt` and `[2, 2, ...]`.\n",
    "\n",
    "Likewise we can define our own functions (we'll learn to do that later) and map them across lists!\n",
    "\n",
    "Let' say we want subtract the values of the elements of *b* from *a*:"
   ]
  },
  {
   "cell_type": "code",
   "execution_count": 33,
   "metadata": {},
   "outputs": [],
   "source": [
    "def sub(x,y): return x-y"
   ]
  },
  {
   "cell_type": "markdown",
   "metadata": {},
   "source": [
    "Here we defined a sample function called sub which subtracts the number `y` from the number `x`. Don't pay too much attention to the function definition as we'll cover it more extensively in a later tutorial.\n",
    "\n",
    "What matters is that we have a function called `sub` that takes two arguments lets say `x` and `y` and returns the result of the operation `x-y`."
   ]
  },
  {
   "cell_type": "code",
   "execution_count": 34,
   "metadata": {},
   "outputs": [
    {
     "data": {
      "text/plain": [
       "-2"
      ]
     },
     "execution_count": 34,
     "metadata": {},
     "output_type": "execute_result"
    }
   ],
   "source": [
    "# For example:\n",
    "sub(3,5)"
   ]
  },
  {
   "cell_type": "markdown",
   "metadata": {},
   "source": [
    "Now that we have this function we can just *map* it across our two lists *a* and *b*, to perform an elementwise subtraction of *b* from *a*."
   ]
  },
  {
   "cell_type": "code",
   "execution_count": 35,
   "metadata": {},
   "outputs": [
    {
     "name": "stdout",
     "output_type": "stream",
     "text": [
      "a - b = [-1, 0, -6, 4, -4]\n"
     ]
    }
   ],
   "source": [
    "print('a - b =', list(map(sub, a, b)))"
   ]
  },
  {
   "cell_type": "markdown",
   "metadata": {},
   "source": [
    "There are simpler (and more pythonic) ways to perform operations like these, but we'll cover them in a later tutorial."
   ]
  }
 ],
 "metadata": {
  "kernelspec": {
   "display_name": "Python 3",
   "language": "python",
   "name": "python3"
  },
  "language_info": {
   "codemirror_mode": {
    "name": "ipython",
    "version": 3
   },
   "file_extension": ".py",
   "mimetype": "text/x-python",
   "name": "python",
   "nbconvert_exporter": "python",
   "pygments_lexer": "ipython3",
   "version": "3.5.2"
  }
 },
 "nbformat": 4,
 "nbformat_minor": 1
}
